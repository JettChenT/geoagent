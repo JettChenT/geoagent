{
 "cells": [
  {
   "cell_type": "code",
   "execution_count": 2,
   "id": "initial_id",
   "metadata": {
    "collapsed": true,
    "ExecuteTime": {
     "end_time": "2023-12-23T07:26:51.930112Z",
     "start_time": "2023-12-23T07:26:51.919636Z"
    }
   },
   "outputs": [],
   "source": [
    "import autogen\n",
    "import dotenv\n",
    "import os\n",
    "from autogen.agentchat.contrib.multimodal_conversable_agent import MultimodalConversableAgent\n",
    "\n",
    "dotenv.load_dotenv()\n",
    "\n",
    "GOOG_API_KEY = os.getenv(\"GOOGLE_API_KEY\")\n",
    "OAI_BASE = os.getenv(\"OPENAI_API_BASE\")\n",
    "OAI_KEY = os.getenv(\"OPENAI_API_KEY\")\n",
    "\n",
    "config_list_4v = [{\n",
    "        \"model\": \"gpt-4-vision-preview\",\n",
    "        \"api_key\": OAI_KEY,\n",
    "        \"base_url\": OAI_BASE,\n",
    "    }\n",
    "]"
   ]
  },
  {
   "cell_type": "code",
   "execution_count": 3,
   "outputs": [
    {
     "name": "stdout",
     "output_type": "stream",
     "text": [
      "\u001B[33mUser_proxy\u001B[0m (to image-explainer):\n",
      "\n",
      "What's the breed of this dog? \n",
      "<image>.\n",
      "\n",
      "--------------------------------------------------------------------------------\n",
      "\u001B[31m\n",
      ">>>>>>>> USING AUTO REPLY...\u001B[0m\n",
      "\u001B[33mimage-explainer\u001B[0m (to User_proxy):\n",
      "\n",
      "The dog in the image appears to be a Goldendoodle. This breed is a cross between a Golden Retriever and a Poodle, known for their curly or wavy coat, friendly disposition, and hypoallergenic fur. Goldendoodles come in various sizes, depending on the Poodle parent's size, and they are popular family pets.\n",
      "\n",
      "--------------------------------------------------------------------------------\n"
     ]
    }
   ],
   "source": [
    "image_agent = MultimodalConversableAgent(\n",
    "    name=\"image-explainer\",\n",
    "    max_consecutive_auto_reply=10,\n",
    "    llm_config={\"config_list\": config_list_4v, \"temperature\": 0.5, \"max_tokens\": 300}\n",
    ")\n",
    "\n",
    "user_proxy = autogen.UserProxyAgent(\n",
    "    name=\"User_proxy\",\n",
    "    system_message=\"A human admin.\",\n",
    "    human_input_mode=\"NEVER\", # Try between ALWAYS or NEVER\n",
    "    max_consecutive_auto_reply=0\n",
    ")\n",
    "\n",
    "# Ask the question with an image\n",
    "user_proxy.initiate_chat(image_agent, \n",
    "                         message=\"\"\"What's the breed of this dog? \n",
    "<img https://th.bing.com/th/id/R.422068ce8af4e15b0634fe2540adea7a?rik=y4OcXBE%2fqutDOw&pid=ImgRaw&r=0>.\"\"\")"
   ],
   "metadata": {
    "collapsed": false,
    "ExecuteTime": {
     "end_time": "2023-12-23T07:27:38.989472Z",
     "start_time": "2023-12-23T07:27:19.131150Z"
    }
   },
   "id": "fba75ef6b230e760"
  },
  {
   "cell_type": "code",
   "execution_count": null,
   "outputs": [],
   "source": [],
   "metadata": {
    "collapsed": false
   },
   "id": "a67f4255d25ac59c"
  }
 ],
 "metadata": {
  "kernelspec": {
   "display_name": "Python 3",
   "language": "python",
   "name": "python3"
  },
  "language_info": {
   "codemirror_mode": {
    "name": "ipython",
    "version": 2
   },
   "file_extension": ".py",
   "mimetype": "text/x-python",
   "name": "python",
   "nbconvert_exporter": "python",
   "pygments_lexer": "ipython2",
   "version": "2.7.6"
  }
 },
 "nbformat": 4,
 "nbformat_minor": 5
}
