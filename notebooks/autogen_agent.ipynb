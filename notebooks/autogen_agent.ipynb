{
 "cells": [
  {
   "cell_type": "code",
   "execution_count": 6,
   "id": "initial_id",
   "metadata": {
    "collapsed": true,
    "ExecuteTime": {
     "end_time": "2023-12-23T07:25:12.953877Z",
     "start_time": "2023-12-23T07:25:12.942360Z"
    }
   },
   "outputs": [],
   "source": [
    "import autogen\n",
    "import dotenv\n",
    "import os\n",
    "\n",
    "dotenv.load_dotenv()\n",
    "\n",
    "GOOG_API_KEY = os.getenv(\"GOOGLE_API_KEY\")\n",
    "OAI_BASE = os.getenv(\"OPENAI_API_BASE\")\n",
    "OAI_KEY = os.getenv(\"OPENAI_API_KEY\")\n",
    "\n",
    "config_list = [\n",
    "    {\n",
    "        \"model\": \"gemini-pro-vision\",\n",
    "        \"api_key\": GOOG_API_KEY,\n",
    "        \"api_type\": \"google\"\n",
    "    }\n",
    "]\n",
    "\n",
    "config_list_4v = [{\n",
    "        \"model\": \"gpt-4-vision-preview\",\n",
    "        \"api_key\": OAI_KEY,\n",
    "        \"base_url\": OAI_BASE,\n",
    "    }\n",
    "]"
   ]
  },
  {
   "cell_type": "code",
   "execution_count": 16,
   "outputs": [],
   "source": [
    "# Load all the tools\n",
    "from tools import TOOLS\n",
    "def generate_llm_config(tool):\n",
    "    # Define the function schema based on the tool's args_schema\n",
    "    function_schema = {\n",
    "        \"name\": tool.name.lower().replace (' ', '_'),\n",
    "        \"description\": tool.description,\n",
    "        \"parameters\": {\n",
    "            \"type\": \"object\",\n",
    "            \"properties\": {},\n",
    "            \"required\": [],\n",
    "        },\n",
    "    }\n",
    "\n",
    "    if tool.args is not None:\n",
    "      function_schema[\"parameters\"][\"properties\"] = tool.args\n",
    "\n",
    "    return function_schema\n",
    "\n",
    "llm_config = {\n",
    "    \"config_list\": config_list_4v,\n",
    "    \"timeout\": 120,\n",
    "}\n",
    "\n",
    "tools_map = {tool.name: tool._run for tool in TOOLS}"
   ],
   "metadata": {
    "collapsed": false,
    "ExecuteTime": {
     "end_time": "2023-12-23T07:31:10.707255Z",
     "start_time": "2023-12-23T07:31:10.706194Z"
    }
   },
   "id": "ab0dc1efff956bbe"
  },
  {
   "cell_type": "code",
   "execution_count": 17,
   "outputs": [],
   "source": [
    "from autogen.agentchat.contrib.multimodal_conversable_agent import MultimodalConversableAgent\n",
    "\n",
    "user_proxy = autogen.UserProxyAgent(\n",
    "    name=\"User_proxy\",\n",
    "    system_message=\"A human admin.\",\n",
    "    human_input_mode=\"NEVER\", # Try between ALWAYS or NEVER\n",
    "    max_consecutive_auto_reply=0\n",
    ")\n",
    "\n",
    "# Register the tool and start the conversation\n",
    "user_proxy.register_function(\n",
    "    function_map=tools_map\n",
    ")\n",
    "\n",
    "image_agent = MultimodalConversableAgent(\"Vision Bot\", \n",
    "                           llm_config=llm_config, \n",
    "                           max_consecutive_auto_reply=10,\n",
    "                        )"
   ],
   "metadata": {
    "collapsed": false,
    "ExecuteTime": {
     "end_time": "2023-12-23T07:31:11.129067Z",
     "start_time": "2023-12-23T07:31:11.079261Z"
    }
   },
   "id": "40e65f3d7bb06954"
  },
  {
   "cell_type": "code",
   "execution_count": 18,
   "outputs": [
    {
     "name": "stdout",
     "output_type": "stream",
     "text": [
      "\u001B[33mUser_proxy\u001B[0m (to Vision Bot):\n",
      "\n",
      "\n",
      "    Describe the image.\n",
      "<image>\n",
      "\n",
      "\n",
      "--------------------------------------------------------------------------------\n",
      "\u001B[31m\n",
      ">>>>>>>> USING AUTO REPLY...\u001B[0m\n",
      "\u001B[33mVision Bot\u001B[0m (to User_proxy):\n",
      "\n",
      "The image shows a city street with high-rise buildings lining one side. The foreground\n",
      "\n",
      "--------------------------------------------------------------------------------\n"
     ]
    }
   ],
   "source": [
    "user_proxy.initiate_chat(\n",
    "    image_agent,\n",
    "    message=f\"\"\"\n",
    "    Describe the image.\n",
    "<img https://ik.imagekit.io/sfwall/NY5_J2A4Si6Z6.png?updatedAt=1702987667392>\n",
    "\"\"\"\n",
    ")"
   ],
   "metadata": {
    "collapsed": false,
    "ExecuteTime": {
     "end_time": "2023-12-23T07:31:22.928304Z",
     "start_time": "2023-12-23T07:31:11.576550Z"
    }
   },
   "id": "95c444f5c3abecbc"
  },
  {
   "cell_type": "code",
   "execution_count": null,
   "outputs": [],
   "source": [],
   "metadata": {
    "collapsed": false
   },
   "id": "aeca85508891e947"
  }
 ],
 "metadata": {
  "kernelspec": {
   "display_name": "Python 3",
   "language": "python",
   "name": "python3"
  },
  "language_info": {
   "codemirror_mode": {
    "name": "ipython",
    "version": 2
   },
   "file_extension": ".py",
   "mimetype": "text/x-python",
   "name": "python",
   "nbconvert_exporter": "python",
   "pygments_lexer": "ipython2",
   "version": "2.7.6"
  }
 },
 "nbformat": 4,
 "nbformat_minor": 5
}
