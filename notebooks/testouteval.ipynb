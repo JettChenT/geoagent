{
 "cells": [
  {
   "cell_type": "code",
   "execution_count": 1,
   "id": "initial_id",
   "metadata": {
    "collapsed": true,
    "ExecuteTime": {
     "end_time": "2024-03-24T22:20:32.206818Z",
     "start_time": "2024-03-24T22:20:31.581173Z"
    }
   },
   "outputs": [
    {
     "data": {
      "text/plain": "                                           image   latitude   longitude  \\\n0      315519262_c1e9631fd8_102_40829484@N00.jpg  37.599000 -112.201995   \n14      521324374_96290dd123_234_7132415@N03.jpg  45.516571 -122.674198   \n20     317112012_8b80ccd894_101_26519935@N00.jpg  31.226307  121.491193   \n26     336466397_0a77c852fc_133_65367662@N00.jpg  37.414345 -122.046130   \n43     323812702_56b1893e47_129_26519935@N00.jpg  22.255101  113.905992   \n46     315248304_34cc3e6aea_103_49777280@N00.jpg  41.149383   -8.610105   \n59     487099337_cc35854a4d_228_82927779@N00.jpg -33.656922   23.122819   \n66     271407163_e05772b8a3_111_27274415@N00.jpg  35.685239 -121.168304   \n75   1125007623_477d5426e9_1379_93455345@N00.jpg  37.331948  136.785278   \n77   1077872058_04a9b36974_1148_93455345@N00.jpg  50.656425   27.160949   \n88    865326234_0c641c683c_1415_19953481@N00.jpg  49.779047   20.048675   \n97     482249918_ce5956dc2c_192_50435419@N00.jpg -34.609758  -58.411216   \n121    257058084_300ab83ed7_121_26519935@N00.jpg  22.465609  114.236955   \n126     244563496_1439c608d0_90_40829484@N00.jpg  40.706018  -74.001760   \n130  1019846234_5e471a10e2_1155_97522422@N00.jpg  42.197494   44.693069   \n139      77298358_5b233ede85_42_36887937@N00.jpg  27.670108   85.427739   \n140    873010122_2c74adfa62_1015_9729483@N02.jpg  40.827461  -73.926744   \n144    522503678_d890e18189_238_61819159@N00.jpg -25.347283  131.055049   \n\n                                       pred  \n0                  37.5930377, -112.1870895  \n14          45.5161981, -122.67323189999999  \n20                   31.2272355, 121.492094  \n26          34.678176199999996, 131.7967452  \n43                    22.254024, 113.904983  \n46                    41.141979, -8.6117156  \n59                  -34.0719063, 18.8886208  \n66                 35.6849825, -121.1699716  \n75                  35.0346897, 135.7184095  \n77           49.9651785, 24.926884899999997  \n88                   50.1684487, 23.0145855  \n97   -34.81376813031522, -58.54008979895833  \n121                 22.4768003, 114.2617602  \n126                 40.7131281, -74.0344231  \n130                      -16.5552, -68.6743  \n139          27.669784999999997, 85.4277587  \n140                 40.8296426, -73.9261745  \n144                  -25.343715, 131.033678  ",
      "text/html": "<div>\n<style scoped>\n    .dataframe tbody tr th:only-of-type {\n        vertical-align: middle;\n    }\n\n    .dataframe tbody tr th {\n        vertical-align: top;\n    }\n\n    .dataframe thead th {\n        text-align: right;\n    }\n</style>\n<table border=\"1\" class=\"dataframe\">\n  <thead>\n    <tr style=\"text-align: right;\">\n      <th></th>\n      <th>image</th>\n      <th>latitude</th>\n      <th>longitude</th>\n      <th>pred</th>\n    </tr>\n  </thead>\n  <tbody>\n    <tr>\n      <th>0</th>\n      <td>315519262_c1e9631fd8_102_40829484@N00.jpg</td>\n      <td>37.599000</td>\n      <td>-112.201995</td>\n      <td>37.5930377, -112.1870895</td>\n    </tr>\n    <tr>\n      <th>14</th>\n      <td>521324374_96290dd123_234_7132415@N03.jpg</td>\n      <td>45.516571</td>\n      <td>-122.674198</td>\n      <td>45.5161981, -122.67323189999999</td>\n    </tr>\n    <tr>\n      <th>20</th>\n      <td>317112012_8b80ccd894_101_26519935@N00.jpg</td>\n      <td>31.226307</td>\n      <td>121.491193</td>\n      <td>31.2272355, 121.492094</td>\n    </tr>\n    <tr>\n      <th>26</th>\n      <td>336466397_0a77c852fc_133_65367662@N00.jpg</td>\n      <td>37.414345</td>\n      <td>-122.046130</td>\n      <td>34.678176199999996, 131.7967452</td>\n    </tr>\n    <tr>\n      <th>43</th>\n      <td>323812702_56b1893e47_129_26519935@N00.jpg</td>\n      <td>22.255101</td>\n      <td>113.905992</td>\n      <td>22.254024, 113.904983</td>\n    </tr>\n    <tr>\n      <th>46</th>\n      <td>315248304_34cc3e6aea_103_49777280@N00.jpg</td>\n      <td>41.149383</td>\n      <td>-8.610105</td>\n      <td>41.141979, -8.6117156</td>\n    </tr>\n    <tr>\n      <th>59</th>\n      <td>487099337_cc35854a4d_228_82927779@N00.jpg</td>\n      <td>-33.656922</td>\n      <td>23.122819</td>\n      <td>-34.0719063, 18.8886208</td>\n    </tr>\n    <tr>\n      <th>66</th>\n      <td>271407163_e05772b8a3_111_27274415@N00.jpg</td>\n      <td>35.685239</td>\n      <td>-121.168304</td>\n      <td>35.6849825, -121.1699716</td>\n    </tr>\n    <tr>\n      <th>75</th>\n      <td>1125007623_477d5426e9_1379_93455345@N00.jpg</td>\n      <td>37.331948</td>\n      <td>136.785278</td>\n      <td>35.0346897, 135.7184095</td>\n    </tr>\n    <tr>\n      <th>77</th>\n      <td>1077872058_04a9b36974_1148_93455345@N00.jpg</td>\n      <td>50.656425</td>\n      <td>27.160949</td>\n      <td>49.9651785, 24.926884899999997</td>\n    </tr>\n    <tr>\n      <th>88</th>\n      <td>865326234_0c641c683c_1415_19953481@N00.jpg</td>\n      <td>49.779047</td>\n      <td>20.048675</td>\n      <td>50.1684487, 23.0145855</td>\n    </tr>\n    <tr>\n      <th>97</th>\n      <td>482249918_ce5956dc2c_192_50435419@N00.jpg</td>\n      <td>-34.609758</td>\n      <td>-58.411216</td>\n      <td>-34.81376813031522, -58.54008979895833</td>\n    </tr>\n    <tr>\n      <th>121</th>\n      <td>257058084_300ab83ed7_121_26519935@N00.jpg</td>\n      <td>22.465609</td>\n      <td>114.236955</td>\n      <td>22.4768003, 114.2617602</td>\n    </tr>\n    <tr>\n      <th>126</th>\n      <td>244563496_1439c608d0_90_40829484@N00.jpg</td>\n      <td>40.706018</td>\n      <td>-74.001760</td>\n      <td>40.7131281, -74.0344231</td>\n    </tr>\n    <tr>\n      <th>130</th>\n      <td>1019846234_5e471a10e2_1155_97522422@N00.jpg</td>\n      <td>42.197494</td>\n      <td>44.693069</td>\n      <td>-16.5552, -68.6743</td>\n    </tr>\n    <tr>\n      <th>139</th>\n      <td>77298358_5b233ede85_42_36887937@N00.jpg</td>\n      <td>27.670108</td>\n      <td>85.427739</td>\n      <td>27.669784999999997, 85.4277587</td>\n    </tr>\n    <tr>\n      <th>140</th>\n      <td>873010122_2c74adfa62_1015_9729483@N02.jpg</td>\n      <td>40.827461</td>\n      <td>-73.926744</td>\n      <td>40.8296426, -73.9261745</td>\n    </tr>\n    <tr>\n      <th>144</th>\n      <td>522503678_d890e18189_238_61819159@N00.jpg</td>\n      <td>-25.347283</td>\n      <td>131.055049</td>\n      <td>-25.343715, 131.033678</td>\n    </tr>\n  </tbody>\n</table>\n</div>"
     },
     "execution_count": 1,
     "metadata": {},
     "output_type": "execute_result"
    }
   ],
   "source": [
    "import pandas as pd\n",
    "from pathlib import Path\n",
    "fold_path = Path(\"../datasets/im2gps3ktest_sampled\")\n",
    "stuff = pd.read_csv(fold_path/'coords.csv')\n",
    "eval_set = stuff[stuff.pred.isna() == False]\n",
    "eval_set"
   ]
  },
  {
   "cell_type": "code",
   "outputs": [
    {
     "name": "stderr",
     "output_type": "stream",
     "text": [
      "/var/folders/z5/ks9fxjt91y1dgv38xzprh08m0000gn/T/ipykernel_27329/2682320412.py:1: SettingWithCopyWarning: \n",
      "A value is trying to be set on a copy of a slice from a DataFrame.\n",
      "Try using .loc[row_indexer,col_indexer] = value instead\n",
      "\n",
      "See the caveats in the documentation: https://pandas.pydata.org/pandas-docs/stable/user_guide/indexing.html#returning-a-view-versus-a-copy\n",
      "  eval_set['pred_lat'] = eval_set.pred.apply(lambda x: float(x.split(',')[0]))\n",
      "/var/folders/z5/ks9fxjt91y1dgv38xzprh08m0000gn/T/ipykernel_27329/2682320412.py:2: SettingWithCopyWarning: \n",
      "A value is trying to be set on a copy of a slice from a DataFrame.\n",
      "Try using .loc[row_indexer,col_indexer] = value instead\n",
      "\n",
      "See the caveats in the documentation: https://pandas.pydata.org/pandas-docs/stable/user_guide/indexing.html#returning-a-view-versus-a-copy\n",
      "  eval_set['pred_lon'] = eval_set.pred.apply(lambda x: float(x.split(',')[1]))\n"
     ]
    },
    {
     "data": {
      "text/plain": "                                           image   latitude   longitude  \\\n0      315519262_c1e9631fd8_102_40829484@N00.jpg  37.599000 -112.201995   \n14      521324374_96290dd123_234_7132415@N03.jpg  45.516571 -122.674198   \n20     317112012_8b80ccd894_101_26519935@N00.jpg  31.226307  121.491193   \n26     336466397_0a77c852fc_133_65367662@N00.jpg  37.414345 -122.046130   \n43     323812702_56b1893e47_129_26519935@N00.jpg  22.255101  113.905992   \n46     315248304_34cc3e6aea_103_49777280@N00.jpg  41.149383   -8.610105   \n59     487099337_cc35854a4d_228_82927779@N00.jpg -33.656922   23.122819   \n66     271407163_e05772b8a3_111_27274415@N00.jpg  35.685239 -121.168304   \n75   1125007623_477d5426e9_1379_93455345@N00.jpg  37.331948  136.785278   \n77   1077872058_04a9b36974_1148_93455345@N00.jpg  50.656425   27.160949   \n88    865326234_0c641c683c_1415_19953481@N00.jpg  49.779047   20.048675   \n97     482249918_ce5956dc2c_192_50435419@N00.jpg -34.609758  -58.411216   \n121    257058084_300ab83ed7_121_26519935@N00.jpg  22.465609  114.236955   \n126     244563496_1439c608d0_90_40829484@N00.jpg  40.706018  -74.001760   \n130  1019846234_5e471a10e2_1155_97522422@N00.jpg  42.197494   44.693069   \n139      77298358_5b233ede85_42_36887937@N00.jpg  27.670108   85.427739   \n140    873010122_2c74adfa62_1015_9729483@N02.jpg  40.827461  -73.926744   \n144    522503678_d890e18189_238_61819159@N00.jpg -25.347283  131.055049   \n\n                                       pred   pred_lat    pred_lon  \n0                  37.5930377, -112.1870895  37.593038 -112.187089  \n14          45.5161981, -122.67323189999999  45.516198 -122.673232  \n20                   31.2272355, 121.492094  31.227235  121.492094  \n26          34.678176199999996, 131.7967452  34.678176  131.796745  \n43                    22.254024, 113.904983  22.254024  113.904983  \n46                    41.141979, -8.6117156  41.141979   -8.611716  \n59                  -34.0719063, 18.8886208 -34.071906   18.888621  \n66                 35.6849825, -121.1699716  35.684982 -121.169972  \n75                  35.0346897, 135.7184095  35.034690  135.718410  \n77           49.9651785, 24.926884899999997  49.965179   24.926885  \n88                   50.1684487, 23.0145855  50.168449   23.014585  \n97   -34.81376813031522, -58.54008979895833 -34.813768  -58.540090  \n121                 22.4768003, 114.2617602  22.476800  114.261760  \n126                 40.7131281, -74.0344231  40.713128  -74.034423  \n130                      -16.5552, -68.6743 -16.555200  -68.674300  \n139          27.669784999999997, 85.4277587  27.669785   85.427759  \n140                 40.8296426, -73.9261745  40.829643  -73.926175  \n144                  -25.343715, 131.033678 -25.343715  131.033678  ",
      "text/html": "<div>\n<style scoped>\n    .dataframe tbody tr th:only-of-type {\n        vertical-align: middle;\n    }\n\n    .dataframe tbody tr th {\n        vertical-align: top;\n    }\n\n    .dataframe thead th {\n        text-align: right;\n    }\n</style>\n<table border=\"1\" class=\"dataframe\">\n  <thead>\n    <tr style=\"text-align: right;\">\n      <th></th>\n      <th>image</th>\n      <th>latitude</th>\n      <th>longitude</th>\n      <th>pred</th>\n      <th>pred_lat</th>\n      <th>pred_lon</th>\n    </tr>\n  </thead>\n  <tbody>\n    <tr>\n      <th>0</th>\n      <td>315519262_c1e9631fd8_102_40829484@N00.jpg</td>\n      <td>37.599000</td>\n      <td>-112.201995</td>\n      <td>37.5930377, -112.1870895</td>\n      <td>37.593038</td>\n      <td>-112.187089</td>\n    </tr>\n    <tr>\n      <th>14</th>\n      <td>521324374_96290dd123_234_7132415@N03.jpg</td>\n      <td>45.516571</td>\n      <td>-122.674198</td>\n      <td>45.5161981, -122.67323189999999</td>\n      <td>45.516198</td>\n      <td>-122.673232</td>\n    </tr>\n    <tr>\n      <th>20</th>\n      <td>317112012_8b80ccd894_101_26519935@N00.jpg</td>\n      <td>31.226307</td>\n      <td>121.491193</td>\n      <td>31.2272355, 121.492094</td>\n      <td>31.227235</td>\n      <td>121.492094</td>\n    </tr>\n    <tr>\n      <th>26</th>\n      <td>336466397_0a77c852fc_133_65367662@N00.jpg</td>\n      <td>37.414345</td>\n      <td>-122.046130</td>\n      <td>34.678176199999996, 131.7967452</td>\n      <td>34.678176</td>\n      <td>131.796745</td>\n    </tr>\n    <tr>\n      <th>43</th>\n      <td>323812702_56b1893e47_129_26519935@N00.jpg</td>\n      <td>22.255101</td>\n      <td>113.905992</td>\n      <td>22.254024, 113.904983</td>\n      <td>22.254024</td>\n      <td>113.904983</td>\n    </tr>\n    <tr>\n      <th>46</th>\n      <td>315248304_34cc3e6aea_103_49777280@N00.jpg</td>\n      <td>41.149383</td>\n      <td>-8.610105</td>\n      <td>41.141979, -8.6117156</td>\n      <td>41.141979</td>\n      <td>-8.611716</td>\n    </tr>\n    <tr>\n      <th>59</th>\n      <td>487099337_cc35854a4d_228_82927779@N00.jpg</td>\n      <td>-33.656922</td>\n      <td>23.122819</td>\n      <td>-34.0719063, 18.8886208</td>\n      <td>-34.071906</td>\n      <td>18.888621</td>\n    </tr>\n    <tr>\n      <th>66</th>\n      <td>271407163_e05772b8a3_111_27274415@N00.jpg</td>\n      <td>35.685239</td>\n      <td>-121.168304</td>\n      <td>35.6849825, -121.1699716</td>\n      <td>35.684982</td>\n      <td>-121.169972</td>\n    </tr>\n    <tr>\n      <th>75</th>\n      <td>1125007623_477d5426e9_1379_93455345@N00.jpg</td>\n      <td>37.331948</td>\n      <td>136.785278</td>\n      <td>35.0346897, 135.7184095</td>\n      <td>35.034690</td>\n      <td>135.718410</td>\n    </tr>\n    <tr>\n      <th>77</th>\n      <td>1077872058_04a9b36974_1148_93455345@N00.jpg</td>\n      <td>50.656425</td>\n      <td>27.160949</td>\n      <td>49.9651785, 24.926884899999997</td>\n      <td>49.965179</td>\n      <td>24.926885</td>\n    </tr>\n    <tr>\n      <th>88</th>\n      <td>865326234_0c641c683c_1415_19953481@N00.jpg</td>\n      <td>49.779047</td>\n      <td>20.048675</td>\n      <td>50.1684487, 23.0145855</td>\n      <td>50.168449</td>\n      <td>23.014585</td>\n    </tr>\n    <tr>\n      <th>97</th>\n      <td>482249918_ce5956dc2c_192_50435419@N00.jpg</td>\n      <td>-34.609758</td>\n      <td>-58.411216</td>\n      <td>-34.81376813031522, -58.54008979895833</td>\n      <td>-34.813768</td>\n      <td>-58.540090</td>\n    </tr>\n    <tr>\n      <th>121</th>\n      <td>257058084_300ab83ed7_121_26519935@N00.jpg</td>\n      <td>22.465609</td>\n      <td>114.236955</td>\n      <td>22.4768003, 114.2617602</td>\n      <td>22.476800</td>\n      <td>114.261760</td>\n    </tr>\n    <tr>\n      <th>126</th>\n      <td>244563496_1439c608d0_90_40829484@N00.jpg</td>\n      <td>40.706018</td>\n      <td>-74.001760</td>\n      <td>40.7131281, -74.0344231</td>\n      <td>40.713128</td>\n      <td>-74.034423</td>\n    </tr>\n    <tr>\n      <th>130</th>\n      <td>1019846234_5e471a10e2_1155_97522422@N00.jpg</td>\n      <td>42.197494</td>\n      <td>44.693069</td>\n      <td>-16.5552, -68.6743</td>\n      <td>-16.555200</td>\n      <td>-68.674300</td>\n    </tr>\n    <tr>\n      <th>139</th>\n      <td>77298358_5b233ede85_42_36887937@N00.jpg</td>\n      <td>27.670108</td>\n      <td>85.427739</td>\n      <td>27.669784999999997, 85.4277587</td>\n      <td>27.669785</td>\n      <td>85.427759</td>\n    </tr>\n    <tr>\n      <th>140</th>\n      <td>873010122_2c74adfa62_1015_9729483@N02.jpg</td>\n      <td>40.827461</td>\n      <td>-73.926744</td>\n      <td>40.8296426, -73.9261745</td>\n      <td>40.829643</td>\n      <td>-73.926175</td>\n    </tr>\n    <tr>\n      <th>144</th>\n      <td>522503678_d890e18189_238_61819159@N00.jpg</td>\n      <td>-25.347283</td>\n      <td>131.055049</td>\n      <td>-25.343715, 131.033678</td>\n      <td>-25.343715</td>\n      <td>131.033678</td>\n    </tr>\n  </tbody>\n</table>\n</div>"
     },
     "execution_count": 2,
     "metadata": {},
     "output_type": "execute_result"
    }
   ],
   "source": [
    "eval_set['pred_lat'] = eval_set.pred.apply(lambda x: float(x.split(',')[0]))\n",
    "eval_set['pred_lon'] = eval_set.pred.apply(lambda x: float(x.split(',')[1]))\n",
    "eval_set"
   ],
   "metadata": {
    "collapsed": false,
    "ExecuteTime": {
     "end_time": "2024-03-24T22:20:36.702893Z",
     "start_time": "2024-03-24T22:20:36.648861Z"
    }
   },
   "id": "6464e1a1a6190ea4",
   "execution_count": 2
  },
  {
   "cell_type": "code",
   "outputs": [
    {
     "name": "stderr",
     "output_type": "stream",
     "text": [
      "0it [00:00, ?it/s]`text_config_dict` is provided which will be used to initialize `CLIPTextConfig`. The value `text_config[\"id2label\"]` will be overriden.\n",
      "`text_config_dict` is provided which will be used to initialize `CLIPTextConfig`. The value `text_config[\"bos_token_id\"]` will be overriden.\n",
      "`text_config_dict` is provided which will be used to initialize `CLIPTextConfig`. The value `text_config[\"eos_token_id\"]` will be overriden.\n",
      "`text_config_dict` is provided which will be used to initialize `CLIPTextConfig`. The value `text_config[\"id2label\"]` will be overriden.\n",
      "`text_config_dict` is provided which will be used to initialize `CLIPTextConfig`. The value `text_config[\"bos_token_id\"]` will be overriden.\n",
      "`text_config_dict` is provided which will be used to initialize `CLIPTextConfig`. The value `text_config[\"eos_token_id\"]` will be overriden.\n",
      "/var/folders/z5/ks9fxjt91y1dgv38xzprh08m0000gn/T/ipykernel_27329/1922697041.py:6: SettingWithCopyWarning: \n",
      "A value is trying to be set on a copy of a slice from a DataFrame.\n",
      "Try using .loc[row_indexer,col_indexer] = value instead\n",
      "\n",
      "See the caveats in the documentation: https://pandas.pydata.org/pandas-docs/stable/user_guide/indexing.html#returning-a-view-versus-a-copy\n",
      "  eval_set.at[i, 'geoclip_lat'] = geoclip_prediction[0][0][0]\n",
      "/var/folders/z5/ks9fxjt91y1dgv38xzprh08m0000gn/T/ipykernel_27329/1922697041.py:7: SettingWithCopyWarning: \n",
      "A value is trying to be set on a copy of a slice from a DataFrame.\n",
      "Try using .loc[row_indexer,col_indexer] = value instead\n",
      "\n",
      "See the caveats in the documentation: https://pandas.pydata.org/pandas-docs/stable/user_guide/indexing.html#returning-a-view-versus-a-copy\n",
      "  eval_set.at[i, 'geoclip_lon'] = geoclip_prediction[0][0][1]\n",
      "18it [01:32,  5.14s/it]\n"
     ]
    },
    {
     "data": {
      "text/plain": "                                           image   latitude   longitude  \\\n0      315519262_c1e9631fd8_102_40829484@N00.jpg  37.599000 -112.201995   \n14      521324374_96290dd123_234_7132415@N03.jpg  45.516571 -122.674198   \n20     317112012_8b80ccd894_101_26519935@N00.jpg  31.226307  121.491193   \n26     336466397_0a77c852fc_133_65367662@N00.jpg  37.414345 -122.046130   \n43     323812702_56b1893e47_129_26519935@N00.jpg  22.255101  113.905992   \n46     315248304_34cc3e6aea_103_49777280@N00.jpg  41.149383   -8.610105   \n59     487099337_cc35854a4d_228_82927779@N00.jpg -33.656922   23.122819   \n66     271407163_e05772b8a3_111_27274415@N00.jpg  35.685239 -121.168304   \n75   1125007623_477d5426e9_1379_93455345@N00.jpg  37.331948  136.785278   \n77   1077872058_04a9b36974_1148_93455345@N00.jpg  50.656425   27.160949   \n88    865326234_0c641c683c_1415_19953481@N00.jpg  49.779047   20.048675   \n97     482249918_ce5956dc2c_192_50435419@N00.jpg -34.609758  -58.411216   \n121    257058084_300ab83ed7_121_26519935@N00.jpg  22.465609  114.236955   \n126     244563496_1439c608d0_90_40829484@N00.jpg  40.706018  -74.001760   \n130  1019846234_5e471a10e2_1155_97522422@N00.jpg  42.197494   44.693069   \n139      77298358_5b233ede85_42_36887937@N00.jpg  27.670108   85.427739   \n140    873010122_2c74adfa62_1015_9729483@N02.jpg  40.827461  -73.926744   \n144    522503678_d890e18189_238_61819159@N00.jpg -25.347283  131.055049   \n\n                                       pred   pred_lat    pred_lon  \\\n0                  37.5930377, -112.1870895  37.593038 -112.187089   \n14          45.5161981, -122.67323189999999  45.516198 -122.673232   \n20                   31.2272355, 121.492094  31.227235  121.492094   \n26          34.678176199999996, 131.7967452  34.678176  131.796745   \n43                    22.254024, 113.904983  22.254024  113.904983   \n46                    41.141979, -8.6117156  41.141979   -8.611716   \n59                  -34.0719063, 18.8886208 -34.071906   18.888621   \n66                 35.6849825, -121.1699716  35.684982 -121.169972   \n75                  35.0346897, 135.7184095  35.034690  135.718410   \n77           49.9651785, 24.926884899999997  49.965179   24.926885   \n88                   50.1684487, 23.0145855  50.168449   23.014585   \n97   -34.81376813031522, -58.54008979895833 -34.813768  -58.540090   \n121                 22.4768003, 114.2617602  22.476800  114.261760   \n126                 40.7131281, -74.0344231  40.713128  -74.034423   \n130                      -16.5552, -68.6743 -16.555200  -68.674300   \n139          27.669784999999997, 85.4277587  27.669785   85.427759   \n140                 40.8296426, -73.9261745  40.829643  -73.926175   \n144                  -25.343715, 131.033678 -25.343715  131.033678   \n\n     geoclip_lat  geoclip_lon  \n0      37.225000  -112.893167  \n14     45.516883  -122.680968  \n20     30.745376   120.487747  \n26     33.981303  -117.641311  \n43     22.254024   113.904983  \n46     41.140540    -8.612304  \n59    -33.941384    18.802092  \n66     35.685333  -121.168167  \n75     34.685592   135.841140  \n77     50.065361    14.321447  \n88     52.647125    23.667554  \n97    -23.427465   -46.480175  \n121    22.370425   114.316091  \n126    40.648703   -74.064910  \n130   -28.553590   -54.555351  \n139    27.672734    85.428829  \n140    40.829238   -73.927879  \n144   -25.343715   131.033678  ",
      "text/html": "<div>\n<style scoped>\n    .dataframe tbody tr th:only-of-type {\n        vertical-align: middle;\n    }\n\n    .dataframe tbody tr th {\n        vertical-align: top;\n    }\n\n    .dataframe thead th {\n        text-align: right;\n    }\n</style>\n<table border=\"1\" class=\"dataframe\">\n  <thead>\n    <tr style=\"text-align: right;\">\n      <th></th>\n      <th>image</th>\n      <th>latitude</th>\n      <th>longitude</th>\n      <th>pred</th>\n      <th>pred_lat</th>\n      <th>pred_lon</th>\n      <th>geoclip_lat</th>\n      <th>geoclip_lon</th>\n    </tr>\n  </thead>\n  <tbody>\n    <tr>\n      <th>0</th>\n      <td>315519262_c1e9631fd8_102_40829484@N00.jpg</td>\n      <td>37.599000</td>\n      <td>-112.201995</td>\n      <td>37.5930377, -112.1870895</td>\n      <td>37.593038</td>\n      <td>-112.187089</td>\n      <td>37.225000</td>\n      <td>-112.893167</td>\n    </tr>\n    <tr>\n      <th>14</th>\n      <td>521324374_96290dd123_234_7132415@N03.jpg</td>\n      <td>45.516571</td>\n      <td>-122.674198</td>\n      <td>45.5161981, -122.67323189999999</td>\n      <td>45.516198</td>\n      <td>-122.673232</td>\n      <td>45.516883</td>\n      <td>-122.680968</td>\n    </tr>\n    <tr>\n      <th>20</th>\n      <td>317112012_8b80ccd894_101_26519935@N00.jpg</td>\n      <td>31.226307</td>\n      <td>121.491193</td>\n      <td>31.2272355, 121.492094</td>\n      <td>31.227235</td>\n      <td>121.492094</td>\n      <td>30.745376</td>\n      <td>120.487747</td>\n    </tr>\n    <tr>\n      <th>26</th>\n      <td>336466397_0a77c852fc_133_65367662@N00.jpg</td>\n      <td>37.414345</td>\n      <td>-122.046130</td>\n      <td>34.678176199999996, 131.7967452</td>\n      <td>34.678176</td>\n      <td>131.796745</td>\n      <td>33.981303</td>\n      <td>-117.641311</td>\n    </tr>\n    <tr>\n      <th>43</th>\n      <td>323812702_56b1893e47_129_26519935@N00.jpg</td>\n      <td>22.255101</td>\n      <td>113.905992</td>\n      <td>22.254024, 113.904983</td>\n      <td>22.254024</td>\n      <td>113.904983</td>\n      <td>22.254024</td>\n      <td>113.904983</td>\n    </tr>\n    <tr>\n      <th>46</th>\n      <td>315248304_34cc3e6aea_103_49777280@N00.jpg</td>\n      <td>41.149383</td>\n      <td>-8.610105</td>\n      <td>41.141979, -8.6117156</td>\n      <td>41.141979</td>\n      <td>-8.611716</td>\n      <td>41.140540</td>\n      <td>-8.612304</td>\n    </tr>\n    <tr>\n      <th>59</th>\n      <td>487099337_cc35854a4d_228_82927779@N00.jpg</td>\n      <td>-33.656922</td>\n      <td>23.122819</td>\n      <td>-34.0719063, 18.8886208</td>\n      <td>-34.071906</td>\n      <td>18.888621</td>\n      <td>-33.941384</td>\n      <td>18.802092</td>\n    </tr>\n    <tr>\n      <th>66</th>\n      <td>271407163_e05772b8a3_111_27274415@N00.jpg</td>\n      <td>35.685239</td>\n      <td>-121.168304</td>\n      <td>35.6849825, -121.1699716</td>\n      <td>35.684982</td>\n      <td>-121.169972</td>\n      <td>35.685333</td>\n      <td>-121.168167</td>\n    </tr>\n    <tr>\n      <th>75</th>\n      <td>1125007623_477d5426e9_1379_93455345@N00.jpg</td>\n      <td>37.331948</td>\n      <td>136.785278</td>\n      <td>35.0346897, 135.7184095</td>\n      <td>35.034690</td>\n      <td>135.718410</td>\n      <td>34.685592</td>\n      <td>135.841140</td>\n    </tr>\n    <tr>\n      <th>77</th>\n      <td>1077872058_04a9b36974_1148_93455345@N00.jpg</td>\n      <td>50.656425</td>\n      <td>27.160949</td>\n      <td>49.9651785, 24.926884899999997</td>\n      <td>49.965179</td>\n      <td>24.926885</td>\n      <td>50.065361</td>\n      <td>14.321447</td>\n    </tr>\n    <tr>\n      <th>88</th>\n      <td>865326234_0c641c683c_1415_19953481@N00.jpg</td>\n      <td>49.779047</td>\n      <td>20.048675</td>\n      <td>50.1684487, 23.0145855</td>\n      <td>50.168449</td>\n      <td>23.014585</td>\n      <td>52.647125</td>\n      <td>23.667554</td>\n    </tr>\n    <tr>\n      <th>97</th>\n      <td>482249918_ce5956dc2c_192_50435419@N00.jpg</td>\n      <td>-34.609758</td>\n      <td>-58.411216</td>\n      <td>-34.81376813031522, -58.54008979895833</td>\n      <td>-34.813768</td>\n      <td>-58.540090</td>\n      <td>-23.427465</td>\n      <td>-46.480175</td>\n    </tr>\n    <tr>\n      <th>121</th>\n      <td>257058084_300ab83ed7_121_26519935@N00.jpg</td>\n      <td>22.465609</td>\n      <td>114.236955</td>\n      <td>22.4768003, 114.2617602</td>\n      <td>22.476800</td>\n      <td>114.261760</td>\n      <td>22.370425</td>\n      <td>114.316091</td>\n    </tr>\n    <tr>\n      <th>126</th>\n      <td>244563496_1439c608d0_90_40829484@N00.jpg</td>\n      <td>40.706018</td>\n      <td>-74.001760</td>\n      <td>40.7131281, -74.0344231</td>\n      <td>40.713128</td>\n      <td>-74.034423</td>\n      <td>40.648703</td>\n      <td>-74.064910</td>\n    </tr>\n    <tr>\n      <th>130</th>\n      <td>1019846234_5e471a10e2_1155_97522422@N00.jpg</td>\n      <td>42.197494</td>\n      <td>44.693069</td>\n      <td>-16.5552, -68.6743</td>\n      <td>-16.555200</td>\n      <td>-68.674300</td>\n      <td>-28.553590</td>\n      <td>-54.555351</td>\n    </tr>\n    <tr>\n      <th>139</th>\n      <td>77298358_5b233ede85_42_36887937@N00.jpg</td>\n      <td>27.670108</td>\n      <td>85.427739</td>\n      <td>27.669784999999997, 85.4277587</td>\n      <td>27.669785</td>\n      <td>85.427759</td>\n      <td>27.672734</td>\n      <td>85.428829</td>\n    </tr>\n    <tr>\n      <th>140</th>\n      <td>873010122_2c74adfa62_1015_9729483@N02.jpg</td>\n      <td>40.827461</td>\n      <td>-73.926744</td>\n      <td>40.8296426, -73.9261745</td>\n      <td>40.829643</td>\n      <td>-73.926175</td>\n      <td>40.829238</td>\n      <td>-73.927879</td>\n    </tr>\n    <tr>\n      <th>144</th>\n      <td>522503678_d890e18189_238_61819159@N00.jpg</td>\n      <td>-25.347283</td>\n      <td>131.055049</td>\n      <td>-25.343715, 131.033678</td>\n      <td>-25.343715</td>\n      <td>131.033678</td>\n      <td>-25.343715</td>\n      <td>131.033678</td>\n    </tr>\n  </tbody>\n</table>\n</div>"
     },
     "execution_count": 3,
     "metadata": {},
     "output_type": "execute_result"
    }
   ],
   "source": [
    "from src.tools.geo_clip.inference import predict\n",
    "from PIL import Image\n",
    "from tqdm import tqdm\n",
    "for i, row in tqdm(eval_set.iterrows()):\n",
    "    geoclip_prediction = predict(Image.open(fold_path/row['image']), top_n=1)\n",
    "    eval_set.at[i, 'geoclip_lat'] = geoclip_prediction[0][0][0]\n",
    "    eval_set.at[i, 'geoclip_lon'] = geoclip_prediction[0][0][1]\n",
    "eval_set"
   ],
   "metadata": {
    "collapsed": false,
    "ExecuteTime": {
     "end_time": "2024-03-24T22:22:15.427897Z",
     "start_time": "2024-03-24T22:20:39.434518Z"
    }
   },
   "id": "10f0a7ae4d8b06fb",
   "execution_count": 3
  },
  {
   "cell_type": "code",
   "outputs": [
    {
     "name": "stderr",
     "output_type": "stream",
     "text": [
      "/var/folders/z5/ks9fxjt91y1dgv38xzprh08m0000gn/T/ipykernel_27329/2594491122.py:3: SettingWithCopyWarning: \n",
      "A value is trying to be set on a copy of a slice from a DataFrame.\n",
      "Try using .loc[row_indexer,col_indexer] = value instead\n",
      "\n",
      "See the caveats in the documentation: https://pandas.pydata.org/pandas-docs/stable/user_guide/indexing.html#returning-a-view-versus-a-copy\n",
      "  eval_set['geoclip_dist'] = eval_set.apply(lambda x: geod.Inverse(x['geoclip_lat'], x['geoclip_lon'], x['latitude'], x['longitude'])['s12']/1000, axis=1)\n",
      "/var/folders/z5/ks9fxjt91y1dgv38xzprh08m0000gn/T/ipykernel_27329/2594491122.py:4: SettingWithCopyWarning: \n",
      "A value is trying to be set on a copy of a slice from a DataFrame.\n",
      "Try using .loc[row_indexer,col_indexer] = value instead\n",
      "\n",
      "See the caveats in the documentation: https://pandas.pydata.org/pandas-docs/stable/user_guide/indexing.html#returning-a-view-versus-a-copy\n",
      "  eval_set['pred_dist'] = eval_set.apply(lambda x: geod.Inverse(x['latitude'], x['longitude'], x['pred_lat'], x['pred_lon'])['s12']/1000, axis=1)\n"
     ]
    },
    {
     "data": {
      "text/plain": "     geoclip_dist     pred_dist\n0       73.939024      1.473313\n14       0.530109      0.086116\n20     109.679733      0.134042\n26     551.249667   8978.276127\n43       0.158240      0.158240\n46       0.999275      0.833306\n59     401.318392    394.461043\n66       0.016204      0.153612\n75     305.719895    272.370473\n77     914.836770    176.730128\n88     407.023118    217.107139\n97    1696.402463     25.526058\n121     13.322196      2.837795\n126      8.307459      2.870854\n130  12799.883345  13146.822046\n139      0.310233      0.035846\n140      0.219336      0.246985\n144      2.187340      2.187340",
      "text/html": "<div>\n<style scoped>\n    .dataframe tbody tr th:only-of-type {\n        vertical-align: middle;\n    }\n\n    .dataframe tbody tr th {\n        vertical-align: top;\n    }\n\n    .dataframe thead th {\n        text-align: right;\n    }\n</style>\n<table border=\"1\" class=\"dataframe\">\n  <thead>\n    <tr style=\"text-align: right;\">\n      <th></th>\n      <th>geoclip_dist</th>\n      <th>pred_dist</th>\n    </tr>\n  </thead>\n  <tbody>\n    <tr>\n      <th>0</th>\n      <td>73.939024</td>\n      <td>1.473313</td>\n    </tr>\n    <tr>\n      <th>14</th>\n      <td>0.530109</td>\n      <td>0.086116</td>\n    </tr>\n    <tr>\n      <th>20</th>\n      <td>109.679733</td>\n      <td>0.134042</td>\n    </tr>\n    <tr>\n      <th>26</th>\n      <td>551.249667</td>\n      <td>8978.276127</td>\n    </tr>\n    <tr>\n      <th>43</th>\n      <td>0.158240</td>\n      <td>0.158240</td>\n    </tr>\n    <tr>\n      <th>46</th>\n      <td>0.999275</td>\n      <td>0.833306</td>\n    </tr>\n    <tr>\n      <th>59</th>\n      <td>401.318392</td>\n      <td>394.461043</td>\n    </tr>\n    <tr>\n      <th>66</th>\n      <td>0.016204</td>\n      <td>0.153612</td>\n    </tr>\n    <tr>\n      <th>75</th>\n      <td>305.719895</td>\n      <td>272.370473</td>\n    </tr>\n    <tr>\n      <th>77</th>\n      <td>914.836770</td>\n      <td>176.730128</td>\n    </tr>\n    <tr>\n      <th>88</th>\n      <td>407.023118</td>\n      <td>217.107139</td>\n    </tr>\n    <tr>\n      <th>97</th>\n      <td>1696.402463</td>\n      <td>25.526058</td>\n    </tr>\n    <tr>\n      <th>121</th>\n      <td>13.322196</td>\n      <td>2.837795</td>\n    </tr>\n    <tr>\n      <th>126</th>\n      <td>8.307459</td>\n      <td>2.870854</td>\n    </tr>\n    <tr>\n      <th>130</th>\n      <td>12799.883345</td>\n      <td>13146.822046</td>\n    </tr>\n    <tr>\n      <th>139</th>\n      <td>0.310233</td>\n      <td>0.035846</td>\n    </tr>\n    <tr>\n      <th>140</th>\n      <td>0.219336</td>\n      <td>0.246985</td>\n    </tr>\n    <tr>\n      <th>144</th>\n      <td>2.187340</td>\n      <td>2.187340</td>\n    </tr>\n  </tbody>\n</table>\n</div>"
     },
     "execution_count": 4,
     "metadata": {},
     "output_type": "execute_result"
    }
   ],
   "source": [
    "from geographiclib.geodesic import Geodesic\n",
    "geod = Geodesic.WGS84\n",
    "eval_set['geoclip_dist'] = eval_set.apply(lambda x: geod.Inverse(x['geoclip_lat'], x['geoclip_lon'], x['latitude'], x['longitude'])['s12']/1000, axis=1)\n",
    "eval_set['pred_dist'] = eval_set.apply(lambda x: geod.Inverse(x['latitude'], x['longitude'], x['pred_lat'], x['pred_lon'])['s12']/1000, axis=1)\n",
    "eval_set[['geoclip_dist', 'pred_dist']]"
   ],
   "metadata": {
    "collapsed": false,
    "ExecuteTime": {
     "end_time": "2024-03-24T22:22:21.399492Z",
     "start_time": "2024-03-24T22:22:21.362926Z"
    }
   },
   "id": "b4ced6cfbcfdc2ba",
   "execution_count": 4
  },
  {
   "cell_type": "code",
   "outputs": [
    {
     "data": {
      "text/plain": "count       18.000000\nmean       960.339044\nstd       2987.158952\nmin          0.016204\n25%          0.647400\n50%         43.630610\n75%        405.596937\nmax      12799.883345\nName: geoclip_dist, dtype: float64"
     },
     "execution_count": 5,
     "metadata": {},
     "output_type": "execute_result"
    }
   ],
   "source": [
    "eval_set['geoclip_dist'].describe()"
   ],
   "metadata": {
    "collapsed": false,
    "ExecuteTime": {
     "end_time": "2024-03-24T22:23:59.890705Z",
     "start_time": "2024-03-24T22:23:59.883022Z"
    }
   },
   "id": "129441e6cd810c9b",
   "execution_count": 5
  },
  {
   "cell_type": "code",
   "outputs": [
    {
     "data": {
      "text/plain": "count       18.000000\nmean      1290.128359\nstd       3628.299235\nmin          0.035846\n25%          0.180426\n50%          2.512568\n75%        207.012886\nmax      13146.822046\nName: pred_dist, dtype: float64"
     },
     "execution_count": 6,
     "metadata": {},
     "output_type": "execute_result"
    }
   ],
   "source": [
    "eval_set['pred_dist'].describe()"
   ],
   "metadata": {
    "collapsed": false,
    "ExecuteTime": {
     "end_time": "2024-03-24T22:24:01.691574Z",
     "start_time": "2024-03-24T22:24:01.665858Z"
    }
   },
   "id": "7d0246659ebd9d7e",
   "execution_count": 6
  },
  {
   "cell_type": "code",
   "outputs": [
    {
     "data": {
      "text/plain": "<Axes: ylabel='Frequency'>"
     },
     "execution_count": 7,
     "metadata": {},
     "output_type": "execute_result"
    },
    {
     "data": {
      "text/plain": "<Figure size 640x480 with 1 Axes>",
      "image/png": "[encoded data removed]"
     },
     "metadata": {},
     "output_type": "display_data"
    }
   ],
   "source": [
    "eval_set['pred_dist'].plot.hist(bins=100)"
   ],
   "metadata": {
    "collapsed": false,
    "ExecuteTime": {
     "end_time": "2024-03-24T22:24:04.687991Z",
     "start_time": "2024-03-24T22:24:03.316739Z"
    }
   },
   "id": "c8815b4e7bffeca3",
   "execution_count": 7
  },
  {
   "cell_type": "code",
   "outputs": [
    {
     "data": {
      "text/plain": "<Axes: ylabel='Frequency'>"
     },
     "execution_count": 8,
     "metadata": {},
     "output_type": "execute_result"
    },
    {
     "data": {
      "text/plain": "<Figure size 640x480 with 1 Axes>",
      "image/png": "[encoded data removed]"
     },
     "metadata": {},
     "output_type": "display_data"
    }
   ],
   "source": [
    "eval_set['geoclip_dist'].plot.hist(bins=100)"
   ],
   "metadata": {
    "collapsed": false,
    "ExecuteTime": {
     "end_time": "2024-03-24T22:24:07.866648Z",
     "start_time": "2024-03-24T22:24:07.473759Z"
    }
   },
   "id": "3353ddeb2f7a0d35",
   "execution_count": 8
  },
  {
   "cell_type": "code",
   "outputs": [
    {
     "data": {
      "text/plain": "(6, 7)"
     },
     "execution_count": 9,
     "metadata": {},
     "output_type": "execute_result"
    }
   ],
   "source": [
    "len(eval_set[eval_set['geoclip_dist'] < 1]), len(eval_set[eval_set['pred_dist'] < 1])"
   ],
   "metadata": {
    "collapsed": false,
    "ExecuteTime": {
     "end_time": "2024-03-24T22:25:23.383038Z",
     "start_time": "2024-03-24T22:25:23.363789Z"
    }
   },
   "id": "fa87376aa3bcf0e",
   "execution_count": 9
  },
  {
   "cell_type": "code",
   "outputs": [
    {
     "data": {
      "text/plain": "(6, 7)"
     },
     "execution_count": 17,
     "metadata": {},
     "output_type": "execute_result"
    }
   ],
   "source": [
    "thresh = 1\n",
    "len(eval_set[eval_set['geoclip_dist'] < thresh]), len(eval_set[eval_set['pred_dist'] < thresh])"
   ],
   "metadata": {
    "collapsed": false,
    "ExecuteTime": {
     "end_time": "2024-03-24T22:26:15.188768Z",
     "start_time": "2024-03-24T22:26:15.111602Z"
    }
   },
   "id": "836d2b5c98c6637c",
   "execution_count": 17
  },
  {
   "cell_type": "code",
   "outputs": [
    {
     "name": "stderr",
     "output_type": "stream",
     "text": [
      "/var/folders/z5/ks9fxjt91y1dgv38xzprh08m0000gn/T/ipykernel_27329/1172815560.py:1: SettingWithCopyWarning: \n",
      "A value is trying to be set on a copy of a slice from a DataFrame.\n",
      "Try using .loc[row_indexer,col_indexer] = value instead\n",
      "\n",
      "See the caveats in the documentation: https://pandas.pydata.org/pandas-docs/stable/user_guide/indexing.html#returning-a-view-versus-a-copy\n",
      "  eval_set['geoclip_pred_diff'] = eval_set['geoclip_dist'] - eval_set['pred_dist']\n"
     ]
    },
    {
     "data": {
      "text/plain": "0        72.465711\n14        0.443993\n20      109.545691\n26    -8427.026460\n43        0.000000\n46        0.165968\n59        6.857350\n66       -0.137408\n75       33.349422\n77      738.106642\n88      189.915979\n97     1670.876405\n121      10.484401\n126       5.436605\n130    -346.938701\n139       0.274387\n140      -0.027649\n144       0.000000\nName: geoclip_pred_diff, dtype: float64"
     },
     "execution_count": 19,
     "metadata": {},
     "output_type": "execute_result"
    }
   ],
   "source": [
    "eval_set['geoclip_pred_diff'] = eval_set['geoclip_dist'] - eval_set['pred_dist']\n",
    "eval_set['geoclip_pred_diff']"
   ],
   "metadata": {
    "collapsed": false,
    "ExecuteTime": {
     "end_time": "2024-03-24T22:51:49.637059Z",
     "start_time": "2024-03-24T22:51:49.625669Z"
    }
   },
   "id": "8a6481c22c206573",
   "execution_count": 19
  },
  {
   "cell_type": "code",
   "outputs": [
    {
     "data": {
      "text/plain": "count      8.000000\nmean      41.040447\nstd       97.334744\nmin        0.000000\n25%        0.112976\n50%        0.391055\n75%       15.779375\nmax      279.482039\nName: geoclip_pred_diff, dtype: float64"
     },
     "execution_count": 14,
     "metadata": {},
     "output_type": "execute_result"
    }
   ],
   "source": [
    "eval_set['geoclip_pred_diff'].describe()"
   ],
   "metadata": {
    "collapsed": false,
    "ExecuteTime": {
     "end_time": "2024-03-09T09:18:52.736922Z",
     "start_time": "2024-03-09T09:18:52.722787Z"
    }
   },
   "id": "b349a7c333645a75",
   "execution_count": 14
  },
  {
   "cell_type": "code",
   "outputs": [
    {
     "data": {
      "text/plain": "<Axes: ylabel='Frequency'>"
     },
     "execution_count": 15,
     "metadata": {},
     "output_type": "execute_result"
    },
    {
     "data": {
      "text/plain": "<Figure size 640x480 with 1 Axes>",
      "image/png": "[encoded data removed]"
     },
     "metadata": {},
     "output_type": "display_data"
    }
   ],
   "source": [
    "(eval_set['geoclip_dist'] - eval_set['pred_dist']).plot.hist(bins=100)"
   ],
   "metadata": {
    "collapsed": false,
    "ExecuteTime": {
     "end_time": "2024-03-09T09:18:59.114770Z",
     "start_time": "2024-03-09T09:18:58.981441Z"
    }
   },
   "id": "62038d363fe13322",
   "execution_count": 15
  },
  {
   "cell_type": "code",
   "outputs": [
    {
     "data": {
      "text/plain": "                                           image   latitude   longitude  \\\n0      315519262_c1e9631fd8_102_40829484@N00.jpg  37.599000 -112.201995   \n14      521324374_96290dd123_234_7132415@N03.jpg  45.516571 -122.674198   \n20     317112012_8b80ccd894_101_26519935@N00.jpg  31.226307  121.491193   \n26     336466397_0a77c852fc_133_65367662@N00.jpg  37.414345 -122.046130   \n43     323812702_56b1893e47_129_26519935@N00.jpg  22.255101  113.905992   \n46     315248304_34cc3e6aea_103_49777280@N00.jpg  41.149383   -8.610105   \n59     487099337_cc35854a4d_228_82927779@N00.jpg -33.656922   23.122819   \n66     271407163_e05772b8a3_111_27274415@N00.jpg  35.685239 -121.168304   \n75   1125007623_477d5426e9_1379_93455345@N00.jpg  37.331948  136.785278   \n77   1077872058_04a9b36974_1148_93455345@N00.jpg  50.656425   27.160949   \n88    865326234_0c641c683c_1415_19953481@N00.jpg  49.779047   20.048675   \n97     482249918_ce5956dc2c_192_50435419@N00.jpg -34.609758  -58.411216   \n121    257058084_300ab83ed7_121_26519935@N00.jpg  22.465609  114.236955   \n126     244563496_1439c608d0_90_40829484@N00.jpg  40.706018  -74.001760   \n130  1019846234_5e471a10e2_1155_97522422@N00.jpg  42.197494   44.693069   \n139      77298358_5b233ede85_42_36887937@N00.jpg  27.670108   85.427739   \n140    873010122_2c74adfa62_1015_9729483@N02.jpg  40.827461  -73.926744   \n144    522503678_d890e18189_238_61819159@N00.jpg -25.347283  131.055049   \n\n                                       pred   pred_lat    pred_lon  \\\n0                  37.5930377, -112.1870895  37.593038 -112.187089   \n14          45.5161981, -122.67323189999999  45.516198 -122.673232   \n20                   31.2272355, 121.492094  31.227235  121.492094   \n26          34.678176199999996, 131.7967452  34.678176  131.796745   \n43                    22.254024, 113.904983  22.254024  113.904983   \n46                    41.141979, -8.6117156  41.141979   -8.611716   \n59                  -34.0719063, 18.8886208 -34.071906   18.888621   \n66                 35.6849825, -121.1699716  35.684982 -121.169972   \n75                  35.0346897, 135.7184095  35.034690  135.718410   \n77           49.9651785, 24.926884899999997  49.965179   24.926885   \n88                   50.1684487, 23.0145855  50.168449   23.014585   \n97   -34.81376813031522, -58.54008979895833 -34.813768  -58.540090   \n121                 22.4768003, 114.2617602  22.476800  114.261760   \n126                 40.7131281, -74.0344231  40.713128  -74.034423   \n130                      -16.5552, -68.6743 -16.555200  -68.674300   \n139          27.669784999999997, 85.4277587  27.669785   85.427759   \n140                 40.8296426, -73.9261745  40.829643  -73.926175   \n144                  -25.343715, 131.033678 -25.343715  131.033678   \n\n     geoclip_lat  geoclip_lon  geoclip_dist     pred_dist  geoclip_pred_diff  \n0      37.225000  -112.893167     73.939024      1.473313          72.465711  \n14     45.516883  -122.680968      0.530109      0.086116           0.443993  \n20     30.745376   120.487747    109.679733      0.134042         109.545691  \n26     33.981303  -117.641311    551.249667   8978.276127       -8427.026460  \n43     22.254024   113.904983      0.158240      0.158240           0.000000  \n46     41.140540    -8.612304      0.999275      0.833306           0.165968  \n59    -33.941384    18.802092    401.318392    394.461043           6.857350  \n66     35.685333  -121.168167      0.016204      0.153612          -0.137408  \n75     34.685592   135.841140    305.719895    272.370473          33.349422  \n77     50.065361    14.321447    914.836770    176.730128         738.106642  \n88     52.647125    23.667554    407.023118    217.107139         189.915979  \n97    -23.427465   -46.480175   1696.402463     25.526058        1670.876405  \n121    22.370425   114.316091     13.322196      2.837795          10.484401  \n126    40.648703   -74.064910      8.307459      2.870854           5.436605  \n130   -28.553590   -54.555351  12799.883345  13146.822046        -346.938701  \n139    27.672734    85.428829      0.310233      0.035846           0.274387  \n140    40.829238   -73.927879      0.219336      0.246985          -0.027649  \n144   -25.343715   131.033678      2.187340      2.187340           0.000000  ",
      "text/html": "<div>\n<style scoped>\n    .dataframe tbody tr th:only-of-type {\n        vertical-align: middle;\n    }\n\n    .dataframe tbody tr th {\n        vertical-align: top;\n    }\n\n    .dataframe thead th {\n        text-align: right;\n    }\n</style>\n<table border=\"1\" class=\"dataframe\">\n  <thead>\n    <tr style=\"text-align: right;\">\n      <th></th>\n      <th>image</th>\n      <th>latitude</th>\n      <th>longitude</th>\n      <th>pred</th>\n      <th>pred_lat</th>\n      <th>pred_lon</th>\n      <th>geoclip_lat</th>\n      <th>geoclip_lon</th>\n      <th>geoclip_dist</th>\n      <th>pred_dist</th>\n      <th>geoclip_pred_diff</th>\n    </tr>\n  </thead>\n  <tbody>\n    <tr>\n      <th>0</th>\n      <td>315519262_c1e9631fd8_102_40829484@N00.jpg</td>\n      <td>37.599000</td>\n      <td>-112.201995</td>\n      <td>37.5930377, -112.1870895</td>\n      <td>37.593038</td>\n      <td>-112.187089</td>\n      <td>37.225000</td>\n      <td>-112.893167</td>\n      <td>73.939024</td>\n      <td>1.473313</td>\n      <td>72.465711</td>\n    </tr>\n    <tr>\n      <th>14</th>\n      <td>521324374_96290dd123_234_7132415@N03.jpg</td>\n      <td>45.516571</td>\n      <td>-122.674198</td>\n      <td>45.5161981, -122.67323189999999</td>\n      <td>45.516198</td>\n      <td>-122.673232</td>\n      <td>45.516883</td>\n      <td>-122.680968</td>\n      <td>0.530109</td>\n      <td>0.086116</td>\n      <td>0.443993</td>\n    </tr>\n    <tr>\n      <th>20</th>\n      <td>317112012_8b80ccd894_101_26519935@N00.jpg</td>\n      <td>31.226307</td>\n      <td>121.491193</td>\n      <td>31.2272355, 121.492094</td>\n      <td>31.227235</td>\n      <td>121.492094</td>\n      <td>30.745376</td>\n      <td>120.487747</td>\n      <td>109.679733</td>\n      <td>0.134042</td>\n      <td>109.545691</td>\n    </tr>\n    <tr>\n      <th>26</th>\n      <td>336466397_0a77c852fc_133_65367662@N00.jpg</td>\n      <td>37.414345</td>\n      <td>-122.046130</td>\n      <td>34.678176199999996, 131.7967452</td>\n      <td>34.678176</td>\n      <td>131.796745</td>\n      <td>33.981303</td>\n      <td>-117.641311</td>\n      <td>551.249667</td>\n      <td>8978.276127</td>\n      <td>-8427.026460</td>\n    </tr>\n    <tr>\n      <th>43</th>\n      <td>323812702_56b1893e47_129_26519935@N00.jpg</td>\n      <td>22.255101</td>\n      <td>113.905992</td>\n      <td>22.254024, 113.904983</td>\n      <td>22.254024</td>\n      <td>113.904983</td>\n      <td>22.254024</td>\n      <td>113.904983</td>\n      <td>0.158240</td>\n      <td>0.158240</td>\n      <td>0.000000</td>\n    </tr>\n    <tr>\n      <th>46</th>\n      <td>315248304_34cc3e6aea_103_49777280@N00.jpg</td>\n      <td>41.149383</td>\n      <td>-8.610105</td>\n      <td>41.141979, -8.6117156</td>\n      <td>41.141979</td>\n      <td>-8.611716</td>\n      <td>41.140540</td>\n      <td>-8.612304</td>\n      <td>0.999275</td>\n      <td>0.833306</td>\n      <td>0.165968</td>\n    </tr>\n    <tr>\n      <th>59</th>\n      <td>487099337_cc35854a4d_228_82927779@N00.jpg</td>\n      <td>-33.656922</td>\n      <td>23.122819</td>\n      <td>-34.0719063, 18.8886208</td>\n      <td>-34.071906</td>\n      <td>18.888621</td>\n      <td>-33.941384</td>\n      <td>18.802092</td>\n      <td>401.318392</td>\n      <td>394.461043</td>\n      <td>6.857350</td>\n    </tr>\n    <tr>\n      <th>66</th>\n      <td>271407163_e05772b8a3_111_27274415@N00.jpg</td>\n      <td>35.685239</td>\n      <td>-121.168304</td>\n      <td>35.6849825, -121.1699716</td>\n      <td>35.684982</td>\n      <td>-121.169972</td>\n      <td>35.685333</td>\n      <td>-121.168167</td>\n      <td>0.016204</td>\n      <td>0.153612</td>\n      <td>-0.137408</td>\n    </tr>\n    <tr>\n      <th>75</th>\n      <td>1125007623_477d5426e9_1379_93455345@N00.jpg</td>\n      <td>37.331948</td>\n      <td>136.785278</td>\n      <td>35.0346897, 135.7184095</td>\n      <td>35.034690</td>\n      <td>135.718410</td>\n      <td>34.685592</td>\n      <td>135.841140</td>\n      <td>305.719895</td>\n      <td>272.370473</td>\n      <td>33.349422</td>\n    </tr>\n    <tr>\n      <th>77</th>\n      <td>1077872058_04a9b36974_1148_93455345@N00.jpg</td>\n      <td>50.656425</td>\n      <td>27.160949</td>\n      <td>49.9651785, 24.926884899999997</td>\n      <td>49.965179</td>\n      <td>24.926885</td>\n      <td>50.065361</td>\n      <td>14.321447</td>\n      <td>914.836770</td>\n      <td>176.730128</td>\n      <td>738.106642</td>\n    </tr>\n    <tr>\n      <th>88</th>\n      <td>865326234_0c641c683c_1415_19953481@N00.jpg</td>\n      <td>49.779047</td>\n      <td>20.048675</td>\n      <td>50.1684487, 23.0145855</td>\n      <td>50.168449</td>\n      <td>23.014585</td>\n      <td>52.647125</td>\n      <td>23.667554</td>\n      <td>407.023118</td>\n      <td>217.107139</td>\n      <td>189.915979</td>\n    </tr>\n    <tr>\n      <th>97</th>\n      <td>482249918_ce5956dc2c_192_50435419@N00.jpg</td>\n      <td>-34.609758</td>\n      <td>-58.411216</td>\n      <td>-34.81376813031522, -58.54008979895833</td>\n      <td>-34.813768</td>\n      <td>-58.540090</td>\n      <td>-23.427465</td>\n      <td>-46.480175</td>\n      <td>1696.402463</td>\n      <td>25.526058</td>\n      <td>1670.876405</td>\n    </tr>\n    <tr>\n      <th>121</th>\n      <td>257058084_300ab83ed7_121_26519935@N00.jpg</td>\n      <td>22.465609</td>\n      <td>114.236955</td>\n      <td>22.4768003, 114.2617602</td>\n      <td>22.476800</td>\n      <td>114.261760</td>\n      <td>22.370425</td>\n      <td>114.316091</td>\n      <td>13.322196</td>\n      <td>2.837795</td>\n      <td>10.484401</td>\n    </tr>\n    <tr>\n      <th>126</th>\n      <td>244563496_1439c608d0_90_40829484@N00.jpg</td>\n      <td>40.706018</td>\n      <td>-74.001760</td>\n      <td>40.7131281, -74.0344231</td>\n      <td>40.713128</td>\n      <td>-74.034423</td>\n      <td>40.648703</td>\n      <td>-74.064910</td>\n      <td>8.307459</td>\n      <td>2.870854</td>\n      <td>5.436605</td>\n    </tr>\n    <tr>\n      <th>130</th>\n      <td>1019846234_5e471a10e2_1155_97522422@N00.jpg</td>\n      <td>42.197494</td>\n      <td>44.693069</td>\n      <td>-16.5552, -68.6743</td>\n      <td>-16.555200</td>\n      <td>-68.674300</td>\n      <td>-28.553590</td>\n      <td>-54.555351</td>\n      <td>12799.883345</td>\n      <td>13146.822046</td>\n      <td>-346.938701</td>\n    </tr>\n    <tr>\n      <th>139</th>\n      <td>77298358_5b233ede85_42_36887937@N00.jpg</td>\n      <td>27.670108</td>\n      <td>85.427739</td>\n      <td>27.669784999999997, 85.4277587</td>\n      <td>27.669785</td>\n      <td>85.427759</td>\n      <td>27.672734</td>\n      <td>85.428829</td>\n      <td>0.310233</td>\n      <td>0.035846</td>\n      <td>0.274387</td>\n    </tr>\n    <tr>\n      <th>140</th>\n      <td>873010122_2c74adfa62_1015_9729483@N02.jpg</td>\n      <td>40.827461</td>\n      <td>-73.926744</td>\n      <td>40.8296426, -73.9261745</td>\n      <td>40.829643</td>\n      <td>-73.926175</td>\n      <td>40.829238</td>\n      <td>-73.927879</td>\n      <td>0.219336</td>\n      <td>0.246985</td>\n      <td>-0.027649</td>\n    </tr>\n    <tr>\n      <th>144</th>\n      <td>522503678_d890e18189_238_61819159@N00.jpg</td>\n      <td>-25.347283</td>\n      <td>131.055049</td>\n      <td>-25.343715, 131.033678</td>\n      <td>-25.343715</td>\n      <td>131.033678</td>\n      <td>-25.343715</td>\n      <td>131.033678</td>\n      <td>2.187340</td>\n      <td>2.187340</td>\n      <td>0.000000</td>\n    </tr>\n  </tbody>\n</table>\n</div>"
     },
     "execution_count": 20,
     "metadata": {},
     "output_type": "execute_result"
    }
   ],
   "source": [
    "eval_set"
   ],
   "metadata": {
    "collapsed": false,
    "ExecuteTime": {
     "end_time": "2024-03-24T22:51:54.837398Z",
     "start_time": "2024-03-24T22:51:54.823651Z"
    }
   },
   "id": "d2a20c0ada943dd7",
   "execution_count": 20
  },
  {
   "cell_type": "code",
   "outputs": [],
   "source": [],
   "metadata": {
    "collapsed": false
   },
   "id": "f070f311e95cd6ec"
  }
 ],
 "metadata": {
  "kernelspec": {
   "display_name": "Python 3",
   "language": "python",
   "name": "python3"
  },
  "language_info": {
   "codemirror_mode": {
    "name": "ipython",
    "version": 2
   },
   "file_extension": ".py",
   "mimetype": "text/x-python",
   "name": "python",
   "nbconvert_exporter": "python",
   "pygments_lexer": "ipython2",
   "version": "2.7.6"
  }
 },
 "nbformat": 4,
 "nbformat_minor": 5
}
