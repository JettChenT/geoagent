{
 "cells": [
  {
   "cell_type": "code",
   "execution_count": 14,
   "id": "initial_id",
   "metadata": {
    "collapsed": true,
    "ExecuteTime": {
     "end_time": "2024-03-02T12:34:16.023283Z",
     "start_time": "2024-03-02T12:34:15.985340Z"
    }
   },
   "outputs": [
    {
     "data": {
      "text/plain": "    Unnamed: 0.2  Unnamed: 0.1  Unnamed: 0  \\\n0             17            15          35   \n1             57            35          58   \n2              7            27          28   \n6             62            32          49   \n17             1             5          57   \n20             0            48           6   \n21            18             0          18   \n22             4             9          26   \n25            31            11          50   \n32            24            51           0   \n33            34            18          61   \n37            16            19           8   \n41            25             7          21   \n49            33            39          55   \n52            19            14          52   \n56            38            13           1   \n63            53            21          62   \n\n                                       image   latitude   longitude  \\\n0   19b7a195-83f2-47de-b83b-90f01a136b4d.jpg  10.778840  106.688210   \n1   59a95a76-df66-401e-862c-87ced530535b.jpg -37.515172  177.190246   \n2   ec447c0e-9b6b-4d78-bcbf-272d74c37eb1.jpg  41.899262   12.472937   \n6   c6574360-2426-4cf7-b044-fe854cc5e873.jpg  41.446972 -117.792663   \n17  5636d9ca-e16e-4dc7-a7da-7df22b99a25f.jpg  63.433317   10.373840   \n20  0db9c46f-4e2c-41bb-8a35-f2e80967ee93.jpg  51.506699   -0.142908   \n21  251e07a5-d16b-4f2c-bc50-cb7a4d1e3bf5.jpg  18.986168   72.810859   \n22  163fcf66-509e-4ef8-a457-f87df38e9b74.jpg -50.277931  -72.908020   \n25  769de87f-8813-48d4-a871-b86e8869d271.jpg  67.003002  -50.729198   \n32  85681330-3209-49f9-9109-c7e7ffba9b23.jpg  39.904732  116.416282   \n33  9c839496-41ef-41bd-8713-9b02af3565b8.jpg  48.855828    2.353649   \n37  8891abed-7596-46b7-8183-c191bdad0fbe.jpg  14.594215  -90.593261   \n41  85696a42-d168-452f-8a60-a13543fa7faf.jpg  52.708323    5.298500   \n49  9d1a9c47-bf19-497f-8a91-9fbd25090825.jpg   0.320747   32.580642   \n52  a31cfae6-e84c-4330-84db-c2a2667de634.jpg  43.793897   11.239700   \n56  9d28c932-39f4-4332-bd4c-c098933f57af.jpg  36.006895 -112.038574   \n63  f76db8fe-006a-4cc0-8bee-e85eabbfe2f4.jpg  30.334953   31.190185   \n\n                                     pred  \n0                 20.9576676, 105.7704907  \n1                  -39.140212, 175.625294  \n2          41.8981206, 12.473151699999999  \n6   42.83516963182199, -120.0284535201455  \n17                       63.4305, 10.3951  \n20                 51.5069125, -0.1428496  \n21                 18.9828273, 72.8088966  \n22                  -50.48307, -73.057708  \n25                67.0106004, -50.7109637  \n32                   39.916253, 116.39019  \n33          48.855613299999995, 2.3544587  \n37                14.5565348, -90.7329922  \n41                    52.632242, 4.747585  \n49  0.3384975111692154, 32.58633920650114  \n52                 43.7174351, 10.4022415  \n56               36.0176269, -111.9769134  \n63                   25.740683, 32.601156  ",
      "text/html": "<div>\n<style scoped>\n    .dataframe tbody tr th:only-of-type {\n        vertical-align: middle;\n    }\n\n    .dataframe tbody tr th {\n        vertical-align: top;\n    }\n\n    .dataframe thead th {\n        text-align: right;\n    }\n</style>\n<table border=\"1\" class=\"dataframe\">\n  <thead>\n    <tr style=\"text-align: right;\">\n      <th></th>\n      <th>Unnamed: 0.2</th>\n      <th>Unnamed: 0.1</th>\n      <th>Unnamed: 0</th>\n      <th>image</th>\n      <th>latitude</th>\n      <th>longitude</th>\n      <th>pred</th>\n    </tr>\n  </thead>\n  <tbody>\n    <tr>\n      <th>0</th>\n      <td>17</td>\n      <td>15</td>\n      <td>35</td>\n      <td>19b7a195-83f2-47de-b83b-90f01a136b4d.jpg</td>\n      <td>10.778840</td>\n      <td>106.688210</td>\n      <td>20.9576676, 105.7704907</td>\n    </tr>\n    <tr>\n      <th>1</th>\n      <td>57</td>\n      <td>35</td>\n      <td>58</td>\n      <td>59a95a76-df66-401e-862c-87ced530535b.jpg</td>\n      <td>-37.515172</td>\n      <td>177.190246</td>\n      <td>-39.140212, 175.625294</td>\n    </tr>\n    <tr>\n      <th>2</th>\n      <td>7</td>\n      <td>27</td>\n      <td>28</td>\n      <td>ec447c0e-9b6b-4d78-bcbf-272d74c37eb1.jpg</td>\n      <td>41.899262</td>\n      <td>12.472937</td>\n      <td>41.8981206, 12.473151699999999</td>\n    </tr>\n    <tr>\n      <th>6</th>\n      <td>62</td>\n      <td>32</td>\n      <td>49</td>\n      <td>c6574360-2426-4cf7-b044-fe854cc5e873.jpg</td>\n      <td>41.446972</td>\n      <td>-117.792663</td>\n      <td>42.83516963182199, -120.0284535201455</td>\n    </tr>\n    <tr>\n      <th>17</th>\n      <td>1</td>\n      <td>5</td>\n      <td>57</td>\n      <td>5636d9ca-e16e-4dc7-a7da-7df22b99a25f.jpg</td>\n      <td>63.433317</td>\n      <td>10.373840</td>\n      <td>63.4305, 10.3951</td>\n    </tr>\n    <tr>\n      <th>20</th>\n      <td>0</td>\n      <td>48</td>\n      <td>6</td>\n      <td>0db9c46f-4e2c-41bb-8a35-f2e80967ee93.jpg</td>\n      <td>51.506699</td>\n      <td>-0.142908</td>\n      <td>51.5069125, -0.1428496</td>\n    </tr>\n    <tr>\n      <th>21</th>\n      <td>18</td>\n      <td>0</td>\n      <td>18</td>\n      <td>251e07a5-d16b-4f2c-bc50-cb7a4d1e3bf5.jpg</td>\n      <td>18.986168</td>\n      <td>72.810859</td>\n      <td>18.9828273, 72.8088966</td>\n    </tr>\n    <tr>\n      <th>22</th>\n      <td>4</td>\n      <td>9</td>\n      <td>26</td>\n      <td>163fcf66-509e-4ef8-a457-f87df38e9b74.jpg</td>\n      <td>-50.277931</td>\n      <td>-72.908020</td>\n      <td>-50.48307, -73.057708</td>\n    </tr>\n    <tr>\n      <th>25</th>\n      <td>31</td>\n      <td>11</td>\n      <td>50</td>\n      <td>769de87f-8813-48d4-a871-b86e8869d271.jpg</td>\n      <td>67.003002</td>\n      <td>-50.729198</td>\n      <td>67.0106004, -50.7109637</td>\n    </tr>\n    <tr>\n      <th>32</th>\n      <td>24</td>\n      <td>51</td>\n      <td>0</td>\n      <td>85681330-3209-49f9-9109-c7e7ffba9b23.jpg</td>\n      <td>39.904732</td>\n      <td>116.416282</td>\n      <td>39.916253, 116.39019</td>\n    </tr>\n    <tr>\n      <th>33</th>\n      <td>34</td>\n      <td>18</td>\n      <td>61</td>\n      <td>9c839496-41ef-41bd-8713-9b02af3565b8.jpg</td>\n      <td>48.855828</td>\n      <td>2.353649</td>\n      <td>48.855613299999995, 2.3544587</td>\n    </tr>\n    <tr>\n      <th>37</th>\n      <td>16</td>\n      <td>19</td>\n      <td>8</td>\n      <td>8891abed-7596-46b7-8183-c191bdad0fbe.jpg</td>\n      <td>14.594215</td>\n      <td>-90.593261</td>\n      <td>14.5565348, -90.7329922</td>\n    </tr>\n    <tr>\n      <th>41</th>\n      <td>25</td>\n      <td>7</td>\n      <td>21</td>\n      <td>85696a42-d168-452f-8a60-a13543fa7faf.jpg</td>\n      <td>52.708323</td>\n      <td>5.298500</td>\n      <td>52.632242, 4.747585</td>\n    </tr>\n    <tr>\n      <th>49</th>\n      <td>33</td>\n      <td>39</td>\n      <td>55</td>\n      <td>9d1a9c47-bf19-497f-8a91-9fbd25090825.jpg</td>\n      <td>0.320747</td>\n      <td>32.580642</td>\n      <td>0.3384975111692154, 32.58633920650114</td>\n    </tr>\n    <tr>\n      <th>52</th>\n      <td>19</td>\n      <td>14</td>\n      <td>52</td>\n      <td>a31cfae6-e84c-4330-84db-c2a2667de634.jpg</td>\n      <td>43.793897</td>\n      <td>11.239700</td>\n      <td>43.7174351, 10.4022415</td>\n    </tr>\n    <tr>\n      <th>56</th>\n      <td>38</td>\n      <td>13</td>\n      <td>1</td>\n      <td>9d28c932-39f4-4332-bd4c-c098933f57af.jpg</td>\n      <td>36.006895</td>\n      <td>-112.038574</td>\n      <td>36.0176269, -111.9769134</td>\n    </tr>\n    <tr>\n      <th>63</th>\n      <td>53</td>\n      <td>21</td>\n      <td>62</td>\n      <td>f76db8fe-006a-4cc0-8bee-e85eabbfe2f4.jpg</td>\n      <td>30.334953</td>\n      <td>31.190185</td>\n      <td>25.740683, 32.601156</td>\n    </tr>\n  </tbody>\n</table>\n</div>"
     },
     "execution_count": 14,
     "metadata": {},
     "output_type": "execute_result"
    }
   ],
   "source": [
    "import pandas as pd\n",
    "from pathlib import Path\n",
    "fold_path = Path(\"../datasets/IM2GPS/human_geolocation_test_anon/\")\n",
    "stuff = pd.read_csv(fold_path/'coords.csv')\n",
    "eval_set = stuff[stuff.pred.isna() == False]\n",
    "eval_set"
   ]
  },
  {
   "cell_type": "code",
   "outputs": [
    {
     "name": "stderr",
     "output_type": "stream",
     "text": [
      "/var/folders/z5/ks9fxjt91y1dgv38xzprh08m0000gn/T/ipykernel_93297/3093291700.py:1: SettingWithCopyWarning: \n",
      "A value is trying to be set on a copy of a slice from a DataFrame.\n",
      "Try using .loc[row_indexer,col_indexer] = value instead\n",
      "\n",
      "See the caveats in the documentation: https://pandas.pydata.org/pandas-docs/stable/user_guide/indexing.html#returning-a-view-versus-a-copy\n",
      "  eval_set['pred_lat'] = eval_set.pred.apply(lambda x: float(x.split(', ')[0]))\n",
      "/var/folders/z5/ks9fxjt91y1dgv38xzprh08m0000gn/T/ipykernel_93297/3093291700.py:2: SettingWithCopyWarning: \n",
      "A value is trying to be set on a copy of a slice from a DataFrame.\n",
      "Try using .loc[row_indexer,col_indexer] = value instead\n",
      "\n",
      "See the caveats in the documentation: https://pandas.pydata.org/pandas-docs/stable/user_guide/indexing.html#returning-a-view-versus-a-copy\n",
      "  eval_set['pred_lon'] = eval_set.pred.apply(lambda x: float(x.split(', ')[1]))\n"
     ]
    },
    {
     "data": {
      "text/plain": "    Unnamed: 0.2  Unnamed: 0.1  Unnamed: 0  \\\n0             17            15          35   \n1             57            35          58   \n2              7            27          28   \n6             62            32          49   \n17             1             5          57   \n20             0            48           6   \n21            18             0          18   \n22             4             9          26   \n25            31            11          50   \n32            24            51           0   \n33            34            18          61   \n37            16            19           8   \n41            25             7          21   \n49            33            39          55   \n52            19            14          52   \n56            38            13           1   \n63            53            21          62   \n\n                                       image   latitude   longitude  \\\n0   19b7a195-83f2-47de-b83b-90f01a136b4d.jpg  10.778840  106.688210   \n1   59a95a76-df66-401e-862c-87ced530535b.jpg -37.515172  177.190246   \n2   ec447c0e-9b6b-4d78-bcbf-272d74c37eb1.jpg  41.899262   12.472937   \n6   c6574360-2426-4cf7-b044-fe854cc5e873.jpg  41.446972 -117.792663   \n17  5636d9ca-e16e-4dc7-a7da-7df22b99a25f.jpg  63.433317   10.373840   \n20  0db9c46f-4e2c-41bb-8a35-f2e80967ee93.jpg  51.506699   -0.142908   \n21  251e07a5-d16b-4f2c-bc50-cb7a4d1e3bf5.jpg  18.986168   72.810859   \n22  163fcf66-509e-4ef8-a457-f87df38e9b74.jpg -50.277931  -72.908020   \n25  769de87f-8813-48d4-a871-b86e8869d271.jpg  67.003002  -50.729198   \n32  85681330-3209-49f9-9109-c7e7ffba9b23.jpg  39.904732  116.416282   \n33  9c839496-41ef-41bd-8713-9b02af3565b8.jpg  48.855828    2.353649   \n37  8891abed-7596-46b7-8183-c191bdad0fbe.jpg  14.594215  -90.593261   \n41  85696a42-d168-452f-8a60-a13543fa7faf.jpg  52.708323    5.298500   \n49  9d1a9c47-bf19-497f-8a91-9fbd25090825.jpg   0.320747   32.580642   \n52  a31cfae6-e84c-4330-84db-c2a2667de634.jpg  43.793897   11.239700   \n56  9d28c932-39f4-4332-bd4c-c098933f57af.jpg  36.006895 -112.038574   \n63  f76db8fe-006a-4cc0-8bee-e85eabbfe2f4.jpg  30.334953   31.190185   \n\n                                     pred   pred_lat    pred_lon  geoclip_lat  \\\n0                 20.9576676, 105.7704907  20.957668  105.770491    21.033300   \n1                  -39.140212, 175.625294 -39.140212  175.625294   -39.140212   \n2          41.8981206, 12.473151699999999  41.898121   12.473152    41.900592   \n6   42.83516963182199, -120.0284535201455  42.835170 -120.028454    45.584666   \n17                       63.4305, 10.3951  63.430500   10.395100    63.438450   \n20                 51.5069125, -0.1428496  51.506912   -0.142850    51.579903   \n21                 18.9828273, 72.8088966  18.982827   72.808897    18.642239   \n22                  -50.48307, -73.057708 -50.483070  -73.057708   -50.483070   \n25                67.0106004, -50.7109637  67.010600  -50.710964    69.307161   \n32                   39.916253, 116.39019  39.916253  116.390190    39.916253   \n33          48.855613299999995, 2.3544587  48.855613    2.354459    48.851000   \n37                14.5565348, -90.7329922  14.556535  -90.732992    14.557032   \n41                    52.632242, 4.747585  52.632242    4.747585    52.632242   \n49  0.3384975111692154, 32.58633920650114   0.338498   32.586339     0.312765   \n52                 43.7174351, 10.4022415  43.717435   10.402242    43.843488   \n56               36.0176269, -111.9769134  36.017627 -111.976913    36.057902   \n63                   25.740683, 32.601156  25.740683   32.601156    31.317903   \n\n    geoclip_lon  \n0    105.849997  \n1    175.625294  \n2     12.478398  \n6   -118.621166  \n17    10.406198  \n20    -0.336714  \n21    72.875747  \n22   -73.057708  \n25   -50.878801  \n32   116.390190  \n33     2.340167  \n37   -90.733240  \n41     4.747585  \n49    32.579956  \n52    10.503466  \n56  -112.139918  \n63    35.352767  ",
      "text/html": "<div>\n<style scoped>\n    .dataframe tbody tr th:only-of-type {\n        vertical-align: middle;\n    }\n\n    .dataframe tbody tr th {\n        vertical-align: top;\n    }\n\n    .dataframe thead th {\n        text-align: right;\n    }\n</style>\n<table border=\"1\" class=\"dataframe\">\n  <thead>\n    <tr style=\"text-align: right;\">\n      <th></th>\n      <th>Unnamed: 0.2</th>\n      <th>Unnamed: 0.1</th>\n      <th>Unnamed: 0</th>\n      <th>image</th>\n      <th>latitude</th>\n      <th>longitude</th>\n      <th>pred</th>\n      <th>pred_lat</th>\n      <th>pred_lon</th>\n      <th>geoclip_lat</th>\n      <th>geoclip_lon</th>\n    </tr>\n  </thead>\n  <tbody>\n    <tr>\n      <th>0</th>\n      <td>17</td>\n      <td>15</td>\n      <td>35</td>\n      <td>19b7a195-83f2-47de-b83b-90f01a136b4d.jpg</td>\n      <td>10.778840</td>\n      <td>106.688210</td>\n      <td>20.9576676, 105.7704907</td>\n      <td>20.957668</td>\n      <td>105.770491</td>\n      <td>21.033300</td>\n      <td>105.849997</td>\n    </tr>\n    <tr>\n      <th>1</th>\n      <td>57</td>\n      <td>35</td>\n      <td>58</td>\n      <td>59a95a76-df66-401e-862c-87ced530535b.jpg</td>\n      <td>-37.515172</td>\n      <td>177.190246</td>\n      <td>-39.140212, 175.625294</td>\n      <td>-39.140212</td>\n      <td>175.625294</td>\n      <td>-39.140212</td>\n      <td>175.625294</td>\n    </tr>\n    <tr>\n      <th>2</th>\n      <td>7</td>\n      <td>27</td>\n      <td>28</td>\n      <td>ec447c0e-9b6b-4d78-bcbf-272d74c37eb1.jpg</td>\n      <td>41.899262</td>\n      <td>12.472937</td>\n      <td>41.8981206, 12.473151699999999</td>\n      <td>41.898121</td>\n      <td>12.473152</td>\n      <td>41.900592</td>\n      <td>12.478398</td>\n    </tr>\n    <tr>\n      <th>6</th>\n      <td>62</td>\n      <td>32</td>\n      <td>49</td>\n      <td>c6574360-2426-4cf7-b044-fe854cc5e873.jpg</td>\n      <td>41.446972</td>\n      <td>-117.792663</td>\n      <td>42.83516963182199, -120.0284535201455</td>\n      <td>42.835170</td>\n      <td>-120.028454</td>\n      <td>45.584666</td>\n      <td>-118.621166</td>\n    </tr>\n    <tr>\n      <th>17</th>\n      <td>1</td>\n      <td>5</td>\n      <td>57</td>\n      <td>5636d9ca-e16e-4dc7-a7da-7df22b99a25f.jpg</td>\n      <td>63.433317</td>\n      <td>10.373840</td>\n      <td>63.4305, 10.3951</td>\n      <td>63.430500</td>\n      <td>10.395100</td>\n      <td>63.438450</td>\n      <td>10.406198</td>\n    </tr>\n    <tr>\n      <th>20</th>\n      <td>0</td>\n      <td>48</td>\n      <td>6</td>\n      <td>0db9c46f-4e2c-41bb-8a35-f2e80967ee93.jpg</td>\n      <td>51.506699</td>\n      <td>-0.142908</td>\n      <td>51.5069125, -0.1428496</td>\n      <td>51.506912</td>\n      <td>-0.142850</td>\n      <td>51.579903</td>\n      <td>-0.336714</td>\n    </tr>\n    <tr>\n      <th>21</th>\n      <td>18</td>\n      <td>0</td>\n      <td>18</td>\n      <td>251e07a5-d16b-4f2c-bc50-cb7a4d1e3bf5.jpg</td>\n      <td>18.986168</td>\n      <td>72.810859</td>\n      <td>18.9828273, 72.8088966</td>\n      <td>18.982827</td>\n      <td>72.808897</td>\n      <td>18.642239</td>\n      <td>72.875747</td>\n    </tr>\n    <tr>\n      <th>22</th>\n      <td>4</td>\n      <td>9</td>\n      <td>26</td>\n      <td>163fcf66-509e-4ef8-a457-f87df38e9b74.jpg</td>\n      <td>-50.277931</td>\n      <td>-72.908020</td>\n      <td>-50.48307, -73.057708</td>\n      <td>-50.483070</td>\n      <td>-73.057708</td>\n      <td>-50.483070</td>\n      <td>-73.057708</td>\n    </tr>\n    <tr>\n      <th>25</th>\n      <td>31</td>\n      <td>11</td>\n      <td>50</td>\n      <td>769de87f-8813-48d4-a871-b86e8869d271.jpg</td>\n      <td>67.003002</td>\n      <td>-50.729198</td>\n      <td>67.0106004, -50.7109637</td>\n      <td>67.010600</td>\n      <td>-50.710964</td>\n      <td>69.307161</td>\n      <td>-50.878801</td>\n    </tr>\n    <tr>\n      <th>32</th>\n      <td>24</td>\n      <td>51</td>\n      <td>0</td>\n      <td>85681330-3209-49f9-9109-c7e7ffba9b23.jpg</td>\n      <td>39.904732</td>\n      <td>116.416282</td>\n      <td>39.916253, 116.39019</td>\n      <td>39.916253</td>\n      <td>116.390190</td>\n      <td>39.916253</td>\n      <td>116.390190</td>\n    </tr>\n    <tr>\n      <th>33</th>\n      <td>34</td>\n      <td>18</td>\n      <td>61</td>\n      <td>9c839496-41ef-41bd-8713-9b02af3565b8.jpg</td>\n      <td>48.855828</td>\n      <td>2.353649</td>\n      <td>48.855613299999995, 2.3544587</td>\n      <td>48.855613</td>\n      <td>2.354459</td>\n      <td>48.851000</td>\n      <td>2.340167</td>\n    </tr>\n    <tr>\n      <th>37</th>\n      <td>16</td>\n      <td>19</td>\n      <td>8</td>\n      <td>8891abed-7596-46b7-8183-c191bdad0fbe.jpg</td>\n      <td>14.594215</td>\n      <td>-90.593261</td>\n      <td>14.5565348, -90.7329922</td>\n      <td>14.556535</td>\n      <td>-90.732992</td>\n      <td>14.557032</td>\n      <td>-90.733240</td>\n    </tr>\n    <tr>\n      <th>41</th>\n      <td>25</td>\n      <td>7</td>\n      <td>21</td>\n      <td>85696a42-d168-452f-8a60-a13543fa7faf.jpg</td>\n      <td>52.708323</td>\n      <td>5.298500</td>\n      <td>52.632242, 4.747585</td>\n      <td>52.632242</td>\n      <td>4.747585</td>\n      <td>52.632242</td>\n      <td>4.747585</td>\n    </tr>\n    <tr>\n      <th>49</th>\n      <td>33</td>\n      <td>39</td>\n      <td>55</td>\n      <td>9d1a9c47-bf19-497f-8a91-9fbd25090825.jpg</td>\n      <td>0.320747</td>\n      <td>32.580642</td>\n      <td>0.3384975111692154, 32.58633920650114</td>\n      <td>0.338498</td>\n      <td>32.586339</td>\n      <td>0.312765</td>\n      <td>32.579956</td>\n    </tr>\n    <tr>\n      <th>52</th>\n      <td>19</td>\n      <td>14</td>\n      <td>52</td>\n      <td>a31cfae6-e84c-4330-84db-c2a2667de634.jpg</td>\n      <td>43.793897</td>\n      <td>11.239700</td>\n      <td>43.7174351, 10.4022415</td>\n      <td>43.717435</td>\n      <td>10.402242</td>\n      <td>43.843488</td>\n      <td>10.503466</td>\n    </tr>\n    <tr>\n      <th>56</th>\n      <td>38</td>\n      <td>13</td>\n      <td>1</td>\n      <td>9d28c932-39f4-4332-bd4c-c098933f57af.jpg</td>\n      <td>36.006895</td>\n      <td>-112.038574</td>\n      <td>36.0176269, -111.9769134</td>\n      <td>36.017627</td>\n      <td>-111.976913</td>\n      <td>36.057902</td>\n      <td>-112.139918</td>\n    </tr>\n    <tr>\n      <th>63</th>\n      <td>53</td>\n      <td>21</td>\n      <td>62</td>\n      <td>f76db8fe-006a-4cc0-8bee-e85eabbfe2f4.jpg</td>\n      <td>30.334953</td>\n      <td>31.190185</td>\n      <td>25.740683, 32.601156</td>\n      <td>25.740683</td>\n      <td>32.601156</td>\n      <td>31.317903</td>\n      <td>35.352767</td>\n    </tr>\n  </tbody>\n</table>\n</div>"
     },
     "execution_count": 20,
     "metadata": {},
     "output_type": "execute_result"
    }
   ],
   "source": [
    "eval_set['pred_lat'] = eval_set.pred.apply(lambda x: float(x.split(', ')[0]))\n",
    "eval_set['pred_lon'] = eval_set.pred.apply(lambda x: float(x.split(', ')[1]))\n",
    "eval_set"
   ],
   "metadata": {
    "collapsed": false,
    "ExecuteTime": {
     "end_time": "2024-03-02T12:39:20.762574Z",
     "start_time": "2024-03-02T12:39:20.749273Z"
    }
   },
   "id": "6464e1a1a6190ea4",
   "execution_count": 20
  },
  {
   "cell_type": "code",
   "outputs": [
    {
     "name": "stderr",
     "output_type": "stream",
     "text": [
      "17it [00:36,  2.14s/it]\n"
     ]
    },
    {
     "data": {
      "text/plain": "    Unnamed: 0.2  Unnamed: 0.1  Unnamed: 0  \\\n0             17            15          35   \n1             57            35          58   \n2              7            27          28   \n6             62            32          49   \n17             1             5          57   \n20             0            48           6   \n21            18             0          18   \n22             4             9          26   \n25            31            11          50   \n32            24            51           0   \n33            34            18          61   \n37            16            19           8   \n41            25             7          21   \n49            33            39          55   \n52            19            14          52   \n56            38            13           1   \n63            53            21          62   \n\n                                       image   latitude   longitude  \\\n0   19b7a195-83f2-47de-b83b-90f01a136b4d.jpg  10.778840  106.688210   \n1   59a95a76-df66-401e-862c-87ced530535b.jpg -37.515172  177.190246   \n2   ec447c0e-9b6b-4d78-bcbf-272d74c37eb1.jpg  41.899262   12.472937   \n6   c6574360-2426-4cf7-b044-fe854cc5e873.jpg  41.446972 -117.792663   \n17  5636d9ca-e16e-4dc7-a7da-7df22b99a25f.jpg  63.433317   10.373840   \n20  0db9c46f-4e2c-41bb-8a35-f2e80967ee93.jpg  51.506699   -0.142908   \n21  251e07a5-d16b-4f2c-bc50-cb7a4d1e3bf5.jpg  18.986168   72.810859   \n22  163fcf66-509e-4ef8-a457-f87df38e9b74.jpg -50.277931  -72.908020   \n25  769de87f-8813-48d4-a871-b86e8869d271.jpg  67.003002  -50.729198   \n32  85681330-3209-49f9-9109-c7e7ffba9b23.jpg  39.904732  116.416282   \n33  9c839496-41ef-41bd-8713-9b02af3565b8.jpg  48.855828    2.353649   \n37  8891abed-7596-46b7-8183-c191bdad0fbe.jpg  14.594215  -90.593261   \n41  85696a42-d168-452f-8a60-a13543fa7faf.jpg  52.708323    5.298500   \n49  9d1a9c47-bf19-497f-8a91-9fbd25090825.jpg   0.320747   32.580642   \n52  a31cfae6-e84c-4330-84db-c2a2667de634.jpg  43.793897   11.239700   \n56  9d28c932-39f4-4332-bd4c-c098933f57af.jpg  36.006895 -112.038574   \n63  f76db8fe-006a-4cc0-8bee-e85eabbfe2f4.jpg  30.334953   31.190185   \n\n                                     pred            pred_lat  \\\n0                 20.9576676, 105.7704907          20.9576676   \n1                  -39.140212, 175.625294          -39.140212   \n2          41.8981206, 12.473151699999999          41.8981206   \n6   42.83516963182199, -120.0284535201455   42.83516963182199   \n17                       63.4305, 10.3951             63.4305   \n20                 51.5069125, -0.1428496          51.5069125   \n21                 18.9828273, 72.8088966          18.9828273   \n22                  -50.48307, -73.057708           -50.48307   \n25                67.0106004, -50.7109637          67.0106004   \n32                   39.916253, 116.39019           39.916253   \n33          48.855613299999995, 2.3544587  48.855613299999995   \n37                14.5565348, -90.7329922          14.5565348   \n41                    52.632242, 4.747585           52.632242   \n49  0.3384975111692154, 32.58633920650114  0.3384975111692154   \n52                 43.7174351, 10.4022415          43.7174351   \n56               36.0176269, -111.9769134          36.0176269   \n63                   25.740683, 32.601156           25.740683   \n\n              pred_lon  geoclip_lat  geoclip_lon  \n0          105.7704907    21.033300   105.849997  \n1           175.625294   -39.140212   175.625294  \n2   12.473151699999999    41.900592    12.478398  \n6   -120.0284535201455    45.584666  -118.621166  \n17             10.3951    63.438450    10.406198  \n20          -0.1428496    51.579903    -0.336714  \n21          72.8088966    18.642239    72.875747  \n22          -73.057708   -50.483070   -73.057708  \n25         -50.7109637    69.307161   -50.878801  \n32           116.39019    39.916253   116.390190  \n33           2.3544587    48.851000     2.340167  \n37         -90.7329922    14.557032   -90.733240  \n41            4.747585    52.632242     4.747585  \n49   32.58633920650114     0.312765    32.579956  \n52          10.4022415    43.843488    10.503466  \n56        -111.9769134    36.057902  -112.139918  \n63           32.601156    31.317903    35.352767  ",
      "text/html": "<div>\n<style scoped>\n    .dataframe tbody tr th:only-of-type {\n        vertical-align: middle;\n    }\n\n    .dataframe tbody tr th {\n        vertical-align: top;\n    }\n\n    .dataframe thead th {\n        text-align: right;\n    }\n</style>\n<table border=\"1\" class=\"dataframe\">\n  <thead>\n    <tr style=\"text-align: right;\">\n      <th></th>\n      <th>Unnamed: 0.2</th>\n      <th>Unnamed: 0.1</th>\n      <th>Unnamed: 0</th>\n      <th>image</th>\n      <th>latitude</th>\n      <th>longitude</th>\n      <th>pred</th>\n      <th>pred_lat</th>\n      <th>pred_lon</th>\n      <th>geoclip_lat</th>\n      <th>geoclip_lon</th>\n    </tr>\n  </thead>\n  <tbody>\n    <tr>\n      <th>0</th>\n      <td>17</td>\n      <td>15</td>\n      <td>35</td>\n      <td>19b7a195-83f2-47de-b83b-90f01a136b4d.jpg</td>\n      <td>10.778840</td>\n      <td>106.688210</td>\n      <td>20.9576676, 105.7704907</td>\n      <td>20.9576676</td>\n      <td>105.7704907</td>\n      <td>21.033300</td>\n      <td>105.849997</td>\n    </tr>\n    <tr>\n      <th>1</th>\n      <td>57</td>\n      <td>35</td>\n      <td>58</td>\n      <td>59a95a76-df66-401e-862c-87ced530535b.jpg</td>\n      <td>-37.515172</td>\n      <td>177.190246</td>\n      <td>-39.140212, 175.625294</td>\n      <td>-39.140212</td>\n      <td>175.625294</td>\n      <td>-39.140212</td>\n      <td>175.625294</td>\n    </tr>\n    <tr>\n      <th>2</th>\n      <td>7</td>\n      <td>27</td>\n      <td>28</td>\n      <td>ec447c0e-9b6b-4d78-bcbf-272d74c37eb1.jpg</td>\n      <td>41.899262</td>\n      <td>12.472937</td>\n      <td>41.8981206, 12.473151699999999</td>\n      <td>41.8981206</td>\n      <td>12.473151699999999</td>\n      <td>41.900592</td>\n      <td>12.478398</td>\n    </tr>\n    <tr>\n      <th>6</th>\n      <td>62</td>\n      <td>32</td>\n      <td>49</td>\n      <td>c6574360-2426-4cf7-b044-fe854cc5e873.jpg</td>\n      <td>41.446972</td>\n      <td>-117.792663</td>\n      <td>42.83516963182199, -120.0284535201455</td>\n      <td>42.83516963182199</td>\n      <td>-120.0284535201455</td>\n      <td>45.584666</td>\n      <td>-118.621166</td>\n    </tr>\n    <tr>\n      <th>17</th>\n      <td>1</td>\n      <td>5</td>\n      <td>57</td>\n      <td>5636d9ca-e16e-4dc7-a7da-7df22b99a25f.jpg</td>\n      <td>63.433317</td>\n      <td>10.373840</td>\n      <td>63.4305, 10.3951</td>\n      <td>63.4305</td>\n      <td>10.3951</td>\n      <td>63.438450</td>\n      <td>10.406198</td>\n    </tr>\n    <tr>\n      <th>20</th>\n      <td>0</td>\n      <td>48</td>\n      <td>6</td>\n      <td>0db9c46f-4e2c-41bb-8a35-f2e80967ee93.jpg</td>\n      <td>51.506699</td>\n      <td>-0.142908</td>\n      <td>51.5069125, -0.1428496</td>\n      <td>51.5069125</td>\n      <td>-0.1428496</td>\n      <td>51.579903</td>\n      <td>-0.336714</td>\n    </tr>\n    <tr>\n      <th>21</th>\n      <td>18</td>\n      <td>0</td>\n      <td>18</td>\n      <td>251e07a5-d16b-4f2c-bc50-cb7a4d1e3bf5.jpg</td>\n      <td>18.986168</td>\n      <td>72.810859</td>\n      <td>18.9828273, 72.8088966</td>\n      <td>18.9828273</td>\n      <td>72.8088966</td>\n      <td>18.642239</td>\n      <td>72.875747</td>\n    </tr>\n    <tr>\n      <th>22</th>\n      <td>4</td>\n      <td>9</td>\n      <td>26</td>\n      <td>163fcf66-509e-4ef8-a457-f87df38e9b74.jpg</td>\n      <td>-50.277931</td>\n      <td>-72.908020</td>\n      <td>-50.48307, -73.057708</td>\n      <td>-50.48307</td>\n      <td>-73.057708</td>\n      <td>-50.483070</td>\n      <td>-73.057708</td>\n    </tr>\n    <tr>\n      <th>25</th>\n      <td>31</td>\n      <td>11</td>\n      <td>50</td>\n      <td>769de87f-8813-48d4-a871-b86e8869d271.jpg</td>\n      <td>67.003002</td>\n      <td>-50.729198</td>\n      <td>67.0106004, -50.7109637</td>\n      <td>67.0106004</td>\n      <td>-50.7109637</td>\n      <td>69.307161</td>\n      <td>-50.878801</td>\n    </tr>\n    <tr>\n      <th>32</th>\n      <td>24</td>\n      <td>51</td>\n      <td>0</td>\n      <td>85681330-3209-49f9-9109-c7e7ffba9b23.jpg</td>\n      <td>39.904732</td>\n      <td>116.416282</td>\n      <td>39.916253, 116.39019</td>\n      <td>39.916253</td>\n      <td>116.39019</td>\n      <td>39.916253</td>\n      <td>116.390190</td>\n    </tr>\n    <tr>\n      <th>33</th>\n      <td>34</td>\n      <td>18</td>\n      <td>61</td>\n      <td>9c839496-41ef-41bd-8713-9b02af3565b8.jpg</td>\n      <td>48.855828</td>\n      <td>2.353649</td>\n      <td>48.855613299999995, 2.3544587</td>\n      <td>48.855613299999995</td>\n      <td>2.3544587</td>\n      <td>48.851000</td>\n      <td>2.340167</td>\n    </tr>\n    <tr>\n      <th>37</th>\n      <td>16</td>\n      <td>19</td>\n      <td>8</td>\n      <td>8891abed-7596-46b7-8183-c191bdad0fbe.jpg</td>\n      <td>14.594215</td>\n      <td>-90.593261</td>\n      <td>14.5565348, -90.7329922</td>\n      <td>14.5565348</td>\n      <td>-90.7329922</td>\n      <td>14.557032</td>\n      <td>-90.733240</td>\n    </tr>\n    <tr>\n      <th>41</th>\n      <td>25</td>\n      <td>7</td>\n      <td>21</td>\n      <td>85696a42-d168-452f-8a60-a13543fa7faf.jpg</td>\n      <td>52.708323</td>\n      <td>5.298500</td>\n      <td>52.632242, 4.747585</td>\n      <td>52.632242</td>\n      <td>4.747585</td>\n      <td>52.632242</td>\n      <td>4.747585</td>\n    </tr>\n    <tr>\n      <th>49</th>\n      <td>33</td>\n      <td>39</td>\n      <td>55</td>\n      <td>9d1a9c47-bf19-497f-8a91-9fbd25090825.jpg</td>\n      <td>0.320747</td>\n      <td>32.580642</td>\n      <td>0.3384975111692154, 32.58633920650114</td>\n      <td>0.3384975111692154</td>\n      <td>32.58633920650114</td>\n      <td>0.312765</td>\n      <td>32.579956</td>\n    </tr>\n    <tr>\n      <th>52</th>\n      <td>19</td>\n      <td>14</td>\n      <td>52</td>\n      <td>a31cfae6-e84c-4330-84db-c2a2667de634.jpg</td>\n      <td>43.793897</td>\n      <td>11.239700</td>\n      <td>43.7174351, 10.4022415</td>\n      <td>43.7174351</td>\n      <td>10.4022415</td>\n      <td>43.843488</td>\n      <td>10.503466</td>\n    </tr>\n    <tr>\n      <th>56</th>\n      <td>38</td>\n      <td>13</td>\n      <td>1</td>\n      <td>9d28c932-39f4-4332-bd4c-c098933f57af.jpg</td>\n      <td>36.006895</td>\n      <td>-112.038574</td>\n      <td>36.0176269, -111.9769134</td>\n      <td>36.0176269</td>\n      <td>-111.9769134</td>\n      <td>36.057902</td>\n      <td>-112.139918</td>\n    </tr>\n    <tr>\n      <th>63</th>\n      <td>53</td>\n      <td>21</td>\n      <td>62</td>\n      <td>f76db8fe-006a-4cc0-8bee-e85eabbfe2f4.jpg</td>\n      <td>30.334953</td>\n      <td>31.190185</td>\n      <td>25.740683, 32.601156</td>\n      <td>25.740683</td>\n      <td>32.601156</td>\n      <td>31.317903</td>\n      <td>35.352767</td>\n    </tr>\n  </tbody>\n</table>\n</div>"
     },
     "execution_count": 19,
     "metadata": {},
     "output_type": "execute_result"
    }
   ],
   "source": [
    "from src.tools.geo_clip.inference import predict\n",
    "from PIL import Image\n",
    "from tqdm import tqdm\n",
    "for i, row in tqdm(eval_set.iterrows()):\n",
    "    geoclip_prediction = predict(Image.open(fold_path/row['image']), top_n=1)\n",
    "    eval_set.at[i, 'geoclip_lat'] = geoclip_prediction[0][0][0]\n",
    "    eval_set.at[i, 'geoclip_lon'] = geoclip_prediction[0][0][1]\n",
    "eval_set"
   ],
   "metadata": {
    "collapsed": false,
    "ExecuteTime": {
     "end_time": "2024-03-02T12:37:17.415447Z",
     "start_time": "2024-03-02T12:36:40.914383Z"
    }
   },
   "id": "10f0a7ae4d8b06fb",
   "execution_count": 19
  },
  {
   "cell_type": "code",
   "outputs": [
    {
     "name": "stderr",
     "output_type": "stream",
     "text": [
      "/var/folders/z5/ks9fxjt91y1dgv38xzprh08m0000gn/T/ipykernel_93297/2594491122.py:3: SettingWithCopyWarning: \n",
      "A value is trying to be set on a copy of a slice from a DataFrame.\n",
      "Try using .loc[row_indexer,col_indexer] = value instead\n",
      "\n",
      "See the caveats in the documentation: https://pandas.pydata.org/pandas-docs/stable/user_guide/indexing.html#returning-a-view-versus-a-copy\n",
      "  eval_set['geoclip_dist'] = eval_set.apply(lambda x: geod.Inverse(x['geoclip_lat'], x['geoclip_lon'], x['latitude'], x['longitude'])['s12']/1000, axis=1)\n",
      "/var/folders/z5/ks9fxjt91y1dgv38xzprh08m0000gn/T/ipykernel_93297/2594491122.py:4: SettingWithCopyWarning: \n",
      "A value is trying to be set on a copy of a slice from a DataFrame.\n",
      "Try using .loc[row_indexer,col_indexer] = value instead\n",
      "\n",
      "See the caveats in the documentation: https://pandas.pydata.org/pandas-docs/stable/user_guide/indexing.html#returning-a-view-versus-a-copy\n",
      "  eval_set['pred_dist'] = eval_set.apply(lambda x: geod.Inverse(x['latitude'], x['longitude'], x['pred_lat'], x['pred_lon'])['s12']/1000, axis=1)\n"
     ]
    },
    {
     "data": {
      "text/plain": "    geoclip_dist    pred_dist\n0    1138.293828  1130.653853\n1     226.405319   226.405319\n2       0.476627     0.128023\n6     464.556848   240.685732\n17      1.713525     1.106833\n20     15.719675     0.024097\n21     38.679000     0.423610\n22     25.180593    25.180593\n25    257.075566     1.162041\n32      2.571722     2.571722\n33      1.125686     0.064036\n37     15.635075    15.623921\n41     38.217510    38.217510\n49      0.885902     2.062668\n52     59.485586    67.977041\n56     10.745178     5.684805\n63    412.871059   527.684633",
      "text/html": "<div>\n<style scoped>\n    .dataframe tbody tr th:only-of-type {\n        vertical-align: middle;\n    }\n\n    .dataframe tbody tr th {\n        vertical-align: top;\n    }\n\n    .dataframe thead th {\n        text-align: right;\n    }\n</style>\n<table border=\"1\" class=\"dataframe\">\n  <thead>\n    <tr style=\"text-align: right;\">\n      <th></th>\n      <th>geoclip_dist</th>\n      <th>pred_dist</th>\n    </tr>\n  </thead>\n  <tbody>\n    <tr>\n      <th>0</th>\n      <td>1138.293828</td>\n      <td>1130.653853</td>\n    </tr>\n    <tr>\n      <th>1</th>\n      <td>226.405319</td>\n      <td>226.405319</td>\n    </tr>\n    <tr>\n      <th>2</th>\n      <td>0.476627</td>\n      <td>0.128023</td>\n    </tr>\n    <tr>\n      <th>6</th>\n      <td>464.556848</td>\n      <td>240.685732</td>\n    </tr>\n    <tr>\n      <th>17</th>\n      <td>1.713525</td>\n      <td>1.106833</td>\n    </tr>\n    <tr>\n      <th>20</th>\n      <td>15.719675</td>\n      <td>0.024097</td>\n    </tr>\n    <tr>\n      <th>21</th>\n      <td>38.679000</td>\n      <td>0.423610</td>\n    </tr>\n    <tr>\n      <th>22</th>\n      <td>25.180593</td>\n      <td>25.180593</td>\n    </tr>\n    <tr>\n      <th>25</th>\n      <td>257.075566</td>\n      <td>1.162041</td>\n    </tr>\n    <tr>\n      <th>32</th>\n      <td>2.571722</td>\n      <td>2.571722</td>\n    </tr>\n    <tr>\n      <th>33</th>\n      <td>1.125686</td>\n      <td>0.064036</td>\n    </tr>\n    <tr>\n      <th>37</th>\n      <td>15.635075</td>\n      <td>15.623921</td>\n    </tr>\n    <tr>\n      <th>41</th>\n      <td>38.217510</td>\n      <td>38.217510</td>\n    </tr>\n    <tr>\n      <th>49</th>\n      <td>0.885902</td>\n      <td>2.062668</td>\n    </tr>\n    <tr>\n      <th>52</th>\n      <td>59.485586</td>\n      <td>67.977041</td>\n    </tr>\n    <tr>\n      <th>56</th>\n      <td>10.745178</td>\n      <td>5.684805</td>\n    </tr>\n    <tr>\n      <th>63</th>\n      <td>412.871059</td>\n      <td>527.684633</td>\n    </tr>\n  </tbody>\n</table>\n</div>"
     },
     "execution_count": 21,
     "metadata": {},
     "output_type": "execute_result"
    }
   ],
   "source": [
    "from geographiclib.geodesic import Geodesic\n",
    "geod = Geodesic.WGS84\n",
    "eval_set['geoclip_dist'] = eval_set.apply(lambda x: geod.Inverse(x['geoclip_lat'], x['geoclip_lon'], x['latitude'], x['longitude'])['s12']/1000, axis=1)\n",
    "eval_set['pred_dist'] = eval_set.apply(lambda x: geod.Inverse(x['latitude'], x['longitude'], x['pred_lat'], x['pred_lon'])['s12']/1000, axis=1)\n",
    "eval_set[['geoclip_dist', 'pred_dist']]"
   ],
   "metadata": {
    "collapsed": false,
    "ExecuteTime": {
     "end_time": "2024-03-02T12:43:08.886466Z",
     "start_time": "2024-03-02T12:43:08.853360Z"
    }
   },
   "id": "b4ced6cfbcfdc2ba",
   "execution_count": 21
  },
  {
   "cell_type": "code",
   "outputs": [
    {
     "data": {
      "text/plain": "count      17.000000\nmean      159.390512\nstd       293.171561\nmin         0.476627\n25%         2.571722\n50%        25.180593\n75%       226.405319\nmax      1138.293828\nName: geoclip_dist, dtype: float64"
     },
     "execution_count": 22,
     "metadata": {},
     "output_type": "execute_result"
    }
   ],
   "source": [
    "eval_set['geoclip_dist'].describe()"
   ],
   "metadata": {
    "collapsed": false,
    "ExecuteTime": {
     "end_time": "2024-03-02T12:43:53.858958Z",
     "start_time": "2024-03-02T12:43:53.853785Z"
    }
   },
   "id": "129441e6cd810c9b",
   "execution_count": 22
  },
  {
   "cell_type": "code",
   "outputs": [
    {
     "data": {
      "text/plain": "count      17.000000\nmean      134.450379\nstd       292.159675\nmin         0.024097\n25%         1.106833\n50%         5.684805\n75%        67.977041\nmax      1130.653853\nName: pred_dist, dtype: float64"
     },
     "execution_count": 23,
     "metadata": {},
     "output_type": "execute_result"
    }
   ],
   "source": [
    "eval_set['pred_dist'].describe()"
   ],
   "metadata": {
    "collapsed": false,
    "ExecuteTime": {
     "end_time": "2024-03-02T12:43:55.644876Z",
     "start_time": "2024-03-02T12:43:55.641783Z"
    }
   },
   "id": "7d0246659ebd9d7e",
   "execution_count": 23
  },
  {
   "cell_type": "code",
   "outputs": [
    {
     "data": {
      "text/plain": "<Axes: ylabel='Frequency'>"
     },
     "execution_count": 36,
     "metadata": {},
     "output_type": "execute_result"
    },
    {
     "data": {
      "text/plain": "<Figure size 640x480 with 1 Axes>",
      "image/png": "[encoded data removed]"
     },
     "metadata": {},
     "output_type": "display_data"
    }
   ],
   "source": [
    "eval_set['pred_dist'].plot.hist(bins=100)"
   ],
   "metadata": {
    "collapsed": false,
    "ExecuteTime": {
     "end_time": "2024-03-02T13:14:33.003881Z",
     "start_time": "2024-03-02T13:14:32.875650Z"
    }
   },
   "id": "c8815b4e7bffeca3",
   "execution_count": 36
  },
  {
   "cell_type": "code",
   "outputs": [
    {
     "data": {
      "text/plain": "<Axes: ylabel='Frequency'>"
     },
     "execution_count": 37,
     "metadata": {},
     "output_type": "execute_result"
    },
    {
     "data": {
      "text/plain": "<Figure size 640x480 with 1 Axes>",
      "image/png": "[encoded data removed]"
     },
     "metadata": {},
     "output_type": "display_data"
    }
   ],
   "source": [
    "eval_set['geoclip_dist'].plot.hist(bins=100)"
   ],
   "metadata": {
    "collapsed": false,
    "ExecuteTime": {
     "end_time": "2024-03-02T13:14:38.354282Z",
     "start_time": "2024-03-02T13:14:38.222032Z"
    }
   },
   "id": "3353ddeb2f7a0d35",
   "execution_count": 37
  },
  {
   "cell_type": "code",
   "outputs": [
    {
     "data": {
      "text/plain": "(2, 4)"
     },
     "execution_count": 41,
     "metadata": {},
     "output_type": "execute_result"
    }
   ],
   "source": [
    "len(eval_set[eval_set['geoclip_dist'] < 1]), len(eval_set[eval_set['pred_dist'] < 1])"
   ],
   "metadata": {
    "collapsed": false,
    "ExecuteTime": {
     "end_time": "2024-03-02T13:17:43.630184Z",
     "start_time": "2024-03-02T13:17:43.623728Z"
    }
   },
   "id": "fa87376aa3bcf0e",
   "execution_count": 41
  },
  {
   "cell_type": "code",
   "outputs": [
    {
     "name": "stderr",
     "output_type": "stream",
     "text": [
      "/var/folders/z5/ks9fxjt91y1dgv38xzprh08m0000gn/T/ipykernel_93297/1345777795.py:1: SettingWithCopyWarning: \n",
      "A value is trying to be set on a copy of a slice from a DataFrame.\n",
      "Try using .loc[row_indexer,col_indexer] = value instead\n",
      "\n",
      "See the caveats in the documentation: https://pandas.pydata.org/pandas-docs/stable/user_guide/indexing.html#returning-a-view-versus-a-copy\n",
      "  eval_set['geoclip_pred_diff'] = eval_set.apply(lambda x: geod.Inverse(x['geoclip_lat'], x['geoclip_lon'], x['pred_lat'], x['pred_lon'])['s12']/1000, axis=1)\n"
     ]
    },
    {
     "data": {
      "text/plain": "0      11.766741\n1       0.000000\n2       0.514661\n6     325.545172\n17      1.045090\n20     15.710822\n21     38.352574\n22      0.000000\n25    256.247835\n32      0.000000\n33      1.167569\n37      0.061152\n41      0.000000\n49      2.932737\n52     16.203543\n56     15.354795\n63    674.157268\nName: geoclip_pred_diff, dtype: float64"
     },
     "execution_count": 24,
     "metadata": {},
     "output_type": "execute_result"
    }
   ],
   "source": [
    "eval_set['geoclip_pred_diff'] = eval_set.apply(lambda x: geod.Inverse(x['geoclip_lat'], x['geoclip_lon'], x['pred_lat'], x['pred_lon'])['s12']/1000, axis=1)\n",
    "eval_set['geoclip_pred_diff']"
   ],
   "metadata": {
    "collapsed": false,
    "ExecuteTime": {
     "end_time": "2024-03-02T12:45:10.326277Z",
     "start_time": "2024-03-02T12:45:10.296540Z"
    }
   },
   "id": "8a6481c22c206573",
   "execution_count": 24
  },
  {
   "cell_type": "code",
   "outputs": [
    {
     "data": {
      "text/plain": "count     17.000000\nmean      79.944704\nstd      180.251013\nmin        0.000000\n25%        0.061152\n50%        2.932737\n75%       16.203543\nmax      674.157268\nName: geoclip_pred_diff, dtype: float64"
     },
     "execution_count": 25,
     "metadata": {},
     "output_type": "execute_result"
    }
   ],
   "source": [
    "eval_set['geoclip_pred_diff'].describe()"
   ],
   "metadata": {
    "collapsed": false,
    "ExecuteTime": {
     "end_time": "2024-03-02T12:45:13.454329Z",
     "start_time": "2024-03-02T12:45:13.445341Z"
    }
   },
   "id": "b349a7c333645a75",
   "execution_count": 25
  },
  {
   "cell_type": "code",
   "outputs": [
    {
     "data": {
      "text/plain": "count     17.000000\nmean      24.940133\nstd       86.633892\nmin     -114.813574\n25%        0.000000\n50%        0.348604\n75%        7.639975\nmax      255.913525\ndtype: float64"
     },
     "execution_count": 32,
     "metadata": {},
     "output_type": "execute_result"
    }
   ],
   "source": [
    "(eval_set['geoclip_dist'] - eval_set['pred_dist']).describe()"
   ],
   "metadata": {
    "collapsed": false,
    "ExecuteTime": {
     "end_time": "2024-03-02T12:50:58.781619Z",
     "start_time": "2024-03-02T12:50:58.764288Z"
    }
   },
   "id": "62038d363fe13322",
   "execution_count": 32
  },
  {
   "cell_type": "code",
   "outputs": [],
   "source": [],
   "metadata": {
    "collapsed": false
   },
   "id": "d2a20c0ada943dd7"
  }
 ],
 "metadata": {
  "kernelspec": {
   "display_name": "Python 3",
   "language": "python",
   "name": "python3"
  },
  "language_info": {
   "codemirror_mode": {
    "name": "ipython",
    "version": 2
   },
   "file_extension": ".py",
   "mimetype": "text/x-python",
   "name": "python",
   "nbconvert_exporter": "python",
   "pygments_lexer": "ipython2",
   "version": "2.7.6"
  }
 },
 "nbformat": 4,
 "nbformat_minor": 5
}
