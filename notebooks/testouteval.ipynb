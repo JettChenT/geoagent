{
 "cells": [
  {
   "cell_type": "code",
   "execution_count": 4,
   "id": "initial_id",
   "metadata": {
    "collapsed": true,
    "ExecuteTime": {
     "end_time": "2024-03-09T09:16:51.016428Z",
     "start_time": "2024-03-09T09:16:50.975464Z"
    }
   },
   "outputs": [
    {
     "data": {
      "text/plain": "                                           image   latitude   longitude  \\\n14      521324374_96290dd123_234_7132415@N03.jpg  45.516571 -122.674198   \n43     323812702_56b1893e47_129_26519935@N00.jpg  22.255101  113.905992   \n46     315248304_34cc3e6aea_103_49777280@N00.jpg  41.149383   -8.610105   \n75   1125007623_477d5426e9_1379_93455345@N00.jpg  37.331948  136.785278   \n88    865326234_0c641c683c_1415_19953481@N00.jpg  49.779047   20.048675   \n126     244563496_1439c608d0_90_40829484@N00.jpg  40.706018  -74.001760   \n140    873010122_2c74adfa62_1015_9729483@N02.jpg  40.827461  -73.926744   \n144    522503678_d890e18189_238_61819159@N00.jpg -25.347283  131.055049   \n\n                               pred  \n14               45.5160, -122.6732  \n43            22.254024, 113.904983  \n46            41.141979, -8.6117156  \n75   35.0344943, 135.71826339999998  \n88           50.1684487, 23.0145855  \n126         40.7131281, -74.0344231  \n140         40.8296426, -73.9261745  \n144          -25.343715, 131.033678  ",
      "text/html": "<div>\n<style scoped>\n    .dataframe tbody tr th:only-of-type {\n        vertical-align: middle;\n    }\n\n    .dataframe tbody tr th {\n        vertical-align: top;\n    }\n\n    .dataframe thead th {\n        text-align: right;\n    }\n</style>\n<table border=\"1\" class=\"dataframe\">\n  <thead>\n    <tr style=\"text-align: right;\">\n      <th></th>\n      <th>image</th>\n      <th>latitude</th>\n      <th>longitude</th>\n      <th>pred</th>\n    </tr>\n  </thead>\n  <tbody>\n    <tr>\n      <th>14</th>\n      <td>521324374_96290dd123_234_7132415@N03.jpg</td>\n      <td>45.516571</td>\n      <td>-122.674198</td>\n      <td>45.5160, -122.6732</td>\n    </tr>\n    <tr>\n      <th>43</th>\n      <td>323812702_56b1893e47_129_26519935@N00.jpg</td>\n      <td>22.255101</td>\n      <td>113.905992</td>\n      <td>22.254024, 113.904983</td>\n    </tr>\n    <tr>\n      <th>46</th>\n      <td>315248304_34cc3e6aea_103_49777280@N00.jpg</td>\n      <td>41.149383</td>\n      <td>-8.610105</td>\n      <td>41.141979, -8.6117156</td>\n    </tr>\n    <tr>\n      <th>75</th>\n      <td>1125007623_477d5426e9_1379_93455345@N00.jpg</td>\n      <td>37.331948</td>\n      <td>136.785278</td>\n      <td>35.0344943, 135.71826339999998</td>\n    </tr>\n    <tr>\n      <th>88</th>\n      <td>865326234_0c641c683c_1415_19953481@N00.jpg</td>\n      <td>49.779047</td>\n      <td>20.048675</td>\n      <td>50.1684487, 23.0145855</td>\n    </tr>\n    <tr>\n      <th>126</th>\n      <td>244563496_1439c608d0_90_40829484@N00.jpg</td>\n      <td>40.706018</td>\n      <td>-74.001760</td>\n      <td>40.7131281, -74.0344231</td>\n    </tr>\n    <tr>\n      <th>140</th>\n      <td>873010122_2c74adfa62_1015_9729483@N02.jpg</td>\n      <td>40.827461</td>\n      <td>-73.926744</td>\n      <td>40.8296426, -73.9261745</td>\n    </tr>\n    <tr>\n      <th>144</th>\n      <td>522503678_d890e18189_238_61819159@N00.jpg</td>\n      <td>-25.347283</td>\n      <td>131.055049</td>\n      <td>-25.343715, 131.033678</td>\n    </tr>\n  </tbody>\n</table>\n</div>"
     },
     "execution_count": 4,
     "metadata": {},
     "output_type": "execute_result"
    }
   ],
   "source": [
    "import pandas as pd\n",
    "from pathlib import Path\n",
    "fold_path = Path(\"../datasets/\")\n",
    "stuff = pd.read_csv(fold_path/'coords.csv')\n",
    "eval_set = stuff[stuff.pred.isna() == False]\n",
    "eval_set"
   ]
  },
  {
   "cell_type": "code",
   "outputs": [
    {
     "name": "stderr",
     "output_type": "stream",
     "text": [
      "/var/folders/z5/ks9fxjt91y1dgv38xzprh08m0000gn/T/ipykernel_12625/2682320412.py:1: SettingWithCopyWarning: \n",
      "A value is trying to be set on a copy of a slice from a DataFrame.\n",
      "Try using .loc[row_indexer,col_indexer] = value instead\n",
      "\n",
      "See the caveats in the documentation: https://pandas.pydata.org/pandas-docs/stable/user_guide/indexing.html#returning-a-view-versus-a-copy\n",
      "  eval_set['pred_lat'] = eval_set.pred.apply(lambda x: float(x.split(',')[0]))\n",
      "/var/folders/z5/ks9fxjt91y1dgv38xzprh08m0000gn/T/ipykernel_12625/2682320412.py:2: SettingWithCopyWarning: \n",
      "A value is trying to be set on a copy of a slice from a DataFrame.\n",
      "Try using .loc[row_indexer,col_indexer] = value instead\n",
      "\n",
      "See the caveats in the documentation: https://pandas.pydata.org/pandas-docs/stable/user_guide/indexing.html#returning-a-view-versus-a-copy\n",
      "  eval_set['pred_lon'] = eval_set.pred.apply(lambda x: float(x.split(',')[1]))\n"
     ]
    },
    {
     "data": {
      "text/plain": "                                           image   latitude   longitude  \\\n14      521324374_96290dd123_234_7132415@N03.jpg  45.516571 -122.674198   \n43     323812702_56b1893e47_129_26519935@N00.jpg  22.255101  113.905992   \n46     315248304_34cc3e6aea_103_49777280@N00.jpg  41.149383   -8.610105   \n75   1125007623_477d5426e9_1379_93455345@N00.jpg  37.331948  136.785278   \n88    865326234_0c641c683c_1415_19953481@N00.jpg  49.779047   20.048675   \n126     244563496_1439c608d0_90_40829484@N00.jpg  40.706018  -74.001760   \n140    873010122_2c74adfa62_1015_9729483@N02.jpg  40.827461  -73.926744   \n144    522503678_d890e18189_238_61819159@N00.jpg -25.347283  131.055049   \n\n                               pred   pred_lat    pred_lon  \n14               45.5160, -122.6732  45.516000 -122.673200  \n43            22.254024, 113.904983  22.254024  113.904983  \n46            41.141979, -8.6117156  41.141979   -8.611716  \n75   35.0344943, 135.71826339999998  35.034494  135.718263  \n88           50.1684487, 23.0145855  50.168449   23.014585  \n126         40.7131281, -74.0344231  40.713128  -74.034423  \n140         40.8296426, -73.9261745  40.829643  -73.926175  \n144          -25.343715, 131.033678 -25.343715  131.033678  ",
      "text/html": "<div>\n<style scoped>\n    .dataframe tbody tr th:only-of-type {\n        vertical-align: middle;\n    }\n\n    .dataframe tbody tr th {\n        vertical-align: top;\n    }\n\n    .dataframe thead th {\n        text-align: right;\n    }\n</style>\n<table border=\"1\" class=\"dataframe\">\n  <thead>\n    <tr style=\"text-align: right;\">\n      <th></th>\n      <th>image</th>\n      <th>latitude</th>\n      <th>longitude</th>\n      <th>pred</th>\n      <th>pred_lat</th>\n      <th>pred_lon</th>\n    </tr>\n  </thead>\n  <tbody>\n    <tr>\n      <th>14</th>\n      <td>521324374_96290dd123_234_7132415@N03.jpg</td>\n      <td>45.516571</td>\n      <td>-122.674198</td>\n      <td>45.5160, -122.6732</td>\n      <td>45.516000</td>\n      <td>-122.673200</td>\n    </tr>\n    <tr>\n      <th>43</th>\n      <td>323812702_56b1893e47_129_26519935@N00.jpg</td>\n      <td>22.255101</td>\n      <td>113.905992</td>\n      <td>22.254024, 113.904983</td>\n      <td>22.254024</td>\n      <td>113.904983</td>\n    </tr>\n    <tr>\n      <th>46</th>\n      <td>315248304_34cc3e6aea_103_49777280@N00.jpg</td>\n      <td>41.149383</td>\n      <td>-8.610105</td>\n      <td>41.141979, -8.6117156</td>\n      <td>41.141979</td>\n      <td>-8.611716</td>\n    </tr>\n    <tr>\n      <th>75</th>\n      <td>1125007623_477d5426e9_1379_93455345@N00.jpg</td>\n      <td>37.331948</td>\n      <td>136.785278</td>\n      <td>35.0344943, 135.71826339999998</td>\n      <td>35.034494</td>\n      <td>135.718263</td>\n    </tr>\n    <tr>\n      <th>88</th>\n      <td>865326234_0c641c683c_1415_19953481@N00.jpg</td>\n      <td>49.779047</td>\n      <td>20.048675</td>\n      <td>50.1684487, 23.0145855</td>\n      <td>50.168449</td>\n      <td>23.014585</td>\n    </tr>\n    <tr>\n      <th>126</th>\n      <td>244563496_1439c608d0_90_40829484@N00.jpg</td>\n      <td>40.706018</td>\n      <td>-74.001760</td>\n      <td>40.7131281, -74.0344231</td>\n      <td>40.713128</td>\n      <td>-74.034423</td>\n    </tr>\n    <tr>\n      <th>140</th>\n      <td>873010122_2c74adfa62_1015_9729483@N02.jpg</td>\n      <td>40.827461</td>\n      <td>-73.926744</td>\n      <td>40.8296426, -73.9261745</td>\n      <td>40.829643</td>\n      <td>-73.926175</td>\n    </tr>\n    <tr>\n      <th>144</th>\n      <td>522503678_d890e18189_238_61819159@N00.jpg</td>\n      <td>-25.347283</td>\n      <td>131.055049</td>\n      <td>-25.343715, 131.033678</td>\n      <td>-25.343715</td>\n      <td>131.033678</td>\n    </tr>\n  </tbody>\n</table>\n</div>"
     },
     "execution_count": 5,
     "metadata": {},
     "output_type": "execute_result"
    }
   ],
   "source": [
    "eval_set['pred_lat'] = eval_set.pred.apply(lambda x: float(x.split(',')[0]))\n",
    "eval_set['pred_lon'] = eval_set.pred.apply(lambda x: float(x.split(',')[1]))\n",
    "eval_set"
   ],
   "metadata": {
    "collapsed": false,
    "ExecuteTime": {
     "end_time": "2024-03-09T09:16:53.311942Z",
     "start_time": "2024-03-09T09:16:53.304807Z"
    }
   },
   "id": "6464e1a1a6190ea4",
   "execution_count": 5
  },
  {
   "cell_type": "code",
   "outputs": [
    {
     "name": "stderr",
     "output_type": "stream",
     "text": [
      "0it [00:00, ?it/s]`text_config_dict` is provided which will be used to initialize `CLIPTextConfig`. The value `text_config[\"id2label\"]` will be overriden.\n",
      "`text_config_dict` is provided which will be used to initialize `CLIPTextConfig`. The value `text_config[\"bos_token_id\"]` will be overriden.\n",
      "`text_config_dict` is provided which will be used to initialize `CLIPTextConfig`. The value `text_config[\"eos_token_id\"]` will be overriden.\n",
      "`text_config_dict` is provided which will be used to initialize `CLIPTextConfig`. The value `text_config[\"id2label\"]` will be overriden.\n",
      "`text_config_dict` is provided which will be used to initialize `CLIPTextConfig`. The value `text_config[\"bos_token_id\"]` will be overriden.\n",
      "`text_config_dict` is provided which will be used to initialize `CLIPTextConfig`. The value `text_config[\"eos_token_id\"]` will be overriden.\n",
      "/var/folders/z5/ks9fxjt91y1dgv38xzprh08m0000gn/T/ipykernel_12625/1922697041.py:6: SettingWithCopyWarning: \n",
      "A value is trying to be set on a copy of a slice from a DataFrame.\n",
      "Try using .loc[row_indexer,col_indexer] = value instead\n",
      "\n",
      "See the caveats in the documentation: https://pandas.pydata.org/pandas-docs/stable/user_guide/indexing.html#returning-a-view-versus-a-copy\n",
      "  eval_set.at[i, 'geoclip_lat'] = geoclip_prediction[0][0][0]\n",
      "/var/folders/z5/ks9fxjt91y1dgv38xzprh08m0000gn/T/ipykernel_12625/1922697041.py:7: SettingWithCopyWarning: \n",
      "A value is trying to be set on a copy of a slice from a DataFrame.\n",
      "Try using .loc[row_indexer,col_indexer] = value instead\n",
      "\n",
      "See the caveats in the documentation: https://pandas.pydata.org/pandas-docs/stable/user_guide/indexing.html#returning-a-view-versus-a-copy\n",
      "  eval_set.at[i, 'geoclip_lon'] = geoclip_prediction[0][0][1]\n",
      "8it [00:29,  3.68s/it]\n"
     ]
    },
    {
     "data": {
      "text/plain": "                                           image   latitude   longitude  \\\n14      521324374_96290dd123_234_7132415@N03.jpg  45.516571 -122.674198   \n43     323812702_56b1893e47_129_26519935@N00.jpg  22.255101  113.905992   \n46     315248304_34cc3e6aea_103_49777280@N00.jpg  41.149383   -8.610105   \n75   1125007623_477d5426e9_1379_93455345@N00.jpg  37.331948  136.785278   \n88    865326234_0c641c683c_1415_19953481@N00.jpg  49.779047   20.048675   \n126     244563496_1439c608d0_90_40829484@N00.jpg  40.706018  -74.001760   \n140    873010122_2c74adfa62_1015_9729483@N02.jpg  40.827461  -73.926744   \n144    522503678_d890e18189_238_61819159@N00.jpg -25.347283  131.055049   \n\n                               pred   pred_lat    pred_lon  geoclip_lat  \\\n14               45.5160, -122.6732  45.516000 -122.673200    45.516883   \n43            22.254024, 113.904983  22.254024  113.904983    22.254024   \n46            41.141979, -8.6117156  41.141979   -8.611716    41.140540   \n75   35.0344943, 135.71826339999998  35.034494  135.718263    34.685592   \n88           50.1684487, 23.0145855  50.168449   23.014585    52.647125   \n126         40.7131281, -74.0344231  40.713128  -74.034423    40.648703   \n140         40.8296426, -73.9261745  40.829643  -73.926175    40.829238   \n144          -25.343715, 131.033678 -25.343715  131.033678   -25.343715   \n\n     geoclip_lon  \n14   -122.680968  \n43    113.904983  \n46     -8.612304  \n75    135.841140  \n88     23.667554  \n126   -74.064910  \n140   -73.927879  \n144   131.033678  ",
      "text/html": "<div>\n<style scoped>\n    .dataframe tbody tr th:only-of-type {\n        vertical-align: middle;\n    }\n\n    .dataframe tbody tr th {\n        vertical-align: top;\n    }\n\n    .dataframe thead th {\n        text-align: right;\n    }\n</style>\n<table border=\"1\" class=\"dataframe\">\n  <thead>\n    <tr style=\"text-align: right;\">\n      <th></th>\n      <th>image</th>\n      <th>latitude</th>\n      <th>longitude</th>\n      <th>pred</th>\n      <th>pred_lat</th>\n      <th>pred_lon</th>\n      <th>geoclip_lat</th>\n      <th>geoclip_lon</th>\n    </tr>\n  </thead>\n  <tbody>\n    <tr>\n      <th>14</th>\n      <td>521324374_96290dd123_234_7132415@N03.jpg</td>\n      <td>45.516571</td>\n      <td>-122.674198</td>\n      <td>45.5160, -122.6732</td>\n      <td>45.516000</td>\n      <td>-122.673200</td>\n      <td>45.516883</td>\n      <td>-122.680968</td>\n    </tr>\n    <tr>\n      <th>43</th>\n      <td>323812702_56b1893e47_129_26519935@N00.jpg</td>\n      <td>22.255101</td>\n      <td>113.905992</td>\n      <td>22.254024, 113.904983</td>\n      <td>22.254024</td>\n      <td>113.904983</td>\n      <td>22.254024</td>\n      <td>113.904983</td>\n    </tr>\n    <tr>\n      <th>46</th>\n      <td>315248304_34cc3e6aea_103_49777280@N00.jpg</td>\n      <td>41.149383</td>\n      <td>-8.610105</td>\n      <td>41.141979, -8.6117156</td>\n      <td>41.141979</td>\n      <td>-8.611716</td>\n      <td>41.140540</td>\n      <td>-8.612304</td>\n    </tr>\n    <tr>\n      <th>75</th>\n      <td>1125007623_477d5426e9_1379_93455345@N00.jpg</td>\n      <td>37.331948</td>\n      <td>136.785278</td>\n      <td>35.0344943, 135.71826339999998</td>\n      <td>35.034494</td>\n      <td>135.718263</td>\n      <td>34.685592</td>\n      <td>135.841140</td>\n    </tr>\n    <tr>\n      <th>88</th>\n      <td>865326234_0c641c683c_1415_19953481@N00.jpg</td>\n      <td>49.779047</td>\n      <td>20.048675</td>\n      <td>50.1684487, 23.0145855</td>\n      <td>50.168449</td>\n      <td>23.014585</td>\n      <td>52.647125</td>\n      <td>23.667554</td>\n    </tr>\n    <tr>\n      <th>126</th>\n      <td>244563496_1439c608d0_90_40829484@N00.jpg</td>\n      <td>40.706018</td>\n      <td>-74.001760</td>\n      <td>40.7131281, -74.0344231</td>\n      <td>40.713128</td>\n      <td>-74.034423</td>\n      <td>40.648703</td>\n      <td>-74.064910</td>\n    </tr>\n    <tr>\n      <th>140</th>\n      <td>873010122_2c74adfa62_1015_9729483@N02.jpg</td>\n      <td>40.827461</td>\n      <td>-73.926744</td>\n      <td>40.8296426, -73.9261745</td>\n      <td>40.829643</td>\n      <td>-73.926175</td>\n      <td>40.829238</td>\n      <td>-73.927879</td>\n    </tr>\n    <tr>\n      <th>144</th>\n      <td>522503678_d890e18189_238_61819159@N00.jpg</td>\n      <td>-25.347283</td>\n      <td>131.055049</td>\n      <td>-25.343715, 131.033678</td>\n      <td>-25.343715</td>\n      <td>131.033678</td>\n      <td>-25.343715</td>\n      <td>131.033678</td>\n    </tr>\n  </tbody>\n</table>\n</div>"
     },
     "execution_count": 6,
     "metadata": {},
     "output_type": "execute_result"
    }
   ],
   "source": [
    "from src.tools.geo_clip.inference import predict\n",
    "from PIL import Image\n",
    "from tqdm import tqdm\n",
    "for i, row in tqdm(eval_set.iterrows()):\n",
    "    geoclip_prediction = predict(Image.open(fold_path/row['image']), top_n=1)\n",
    "    eval_set.at[i, 'geoclip_lat'] = geoclip_prediction[0][0][0]\n",
    "    eval_set.at[i, 'geoclip_lon'] = geoclip_prediction[0][0][1]\n",
    "eval_set"
   ],
   "metadata": {
    "collapsed": false,
    "ExecuteTime": {
     "end_time": "2024-03-09T09:17:30.093358Z",
     "start_time": "2024-03-09T09:16:57.646093Z"
    }
   },
   "id": "10f0a7ae4d8b06fb",
   "execution_count": 6
  },
  {
   "cell_type": "code",
   "outputs": [
    {
     "name": "stderr",
     "output_type": "stream",
     "text": [
      "/var/folders/z5/ks9fxjt91y1dgv38xzprh08m0000gn/T/ipykernel_12625/2594491122.py:3: SettingWithCopyWarning: \n",
      "A value is trying to be set on a copy of a slice from a DataFrame.\n",
      "Try using .loc[row_indexer,col_indexer] = value instead\n",
      "\n",
      "See the caveats in the documentation: https://pandas.pydata.org/pandas-docs/stable/user_guide/indexing.html#returning-a-view-versus-a-copy\n",
      "  eval_set['geoclip_dist'] = eval_set.apply(lambda x: geod.Inverse(x['geoclip_lat'], x['geoclip_lon'], x['latitude'], x['longitude'])['s12']/1000, axis=1)\n",
      "/var/folders/z5/ks9fxjt91y1dgv38xzprh08m0000gn/T/ipykernel_12625/2594491122.py:4: SettingWithCopyWarning: \n",
      "A value is trying to be set on a copy of a slice from a DataFrame.\n",
      "Try using .loc[row_indexer,col_indexer] = value instead\n",
      "\n",
      "See the caveats in the documentation: https://pandas.pydata.org/pandas-docs/stable/user_guide/indexing.html#returning-a-view-versus-a-copy\n",
      "  eval_set['pred_dist'] = eval_set.apply(lambda x: geod.Inverse(x['latitude'], x['longitude'], x['pred_lat'], x['pred_lon'])['s12']/1000, axis=1)\n"
     ]
    },
    {
     "data": {
      "text/plain": "     geoclip_dist   pred_dist\n14       0.530109    0.100539\n43       0.158240    0.158240\n46       0.999275    0.833306\n75     305.719895  272.395431\n88     407.023118  217.107139\n126      8.307459    2.870854\n140      0.219336    0.246985\n144      2.187340    2.187340",
      "text/html": "<div>\n<style scoped>\n    .dataframe tbody tr th:only-of-type {\n        vertical-align: middle;\n    }\n\n    .dataframe tbody tr th {\n        vertical-align: top;\n    }\n\n    .dataframe thead th {\n        text-align: right;\n    }\n</style>\n<table border=\"1\" class=\"dataframe\">\n  <thead>\n    <tr style=\"text-align: right;\">\n      <th></th>\n      <th>geoclip_dist</th>\n      <th>pred_dist</th>\n    </tr>\n  </thead>\n  <tbody>\n    <tr>\n      <th>14</th>\n      <td>0.530109</td>\n      <td>0.100539</td>\n    </tr>\n    <tr>\n      <th>43</th>\n      <td>0.158240</td>\n      <td>0.158240</td>\n    </tr>\n    <tr>\n      <th>46</th>\n      <td>0.999275</td>\n      <td>0.833306</td>\n    </tr>\n    <tr>\n      <th>75</th>\n      <td>305.719895</td>\n      <td>272.395431</td>\n    </tr>\n    <tr>\n      <th>88</th>\n      <td>407.023118</td>\n      <td>217.107139</td>\n    </tr>\n    <tr>\n      <th>126</th>\n      <td>8.307459</td>\n      <td>2.870854</td>\n    </tr>\n    <tr>\n      <th>140</th>\n      <td>0.219336</td>\n      <td>0.246985</td>\n    </tr>\n    <tr>\n      <th>144</th>\n      <td>2.187340</td>\n      <td>2.187340</td>\n    </tr>\n  </tbody>\n</table>\n</div>"
     },
     "execution_count": 7,
     "metadata": {},
     "output_type": "execute_result"
    }
   ],
   "source": [
    "from geographiclib.geodesic import Geodesic\n",
    "geod = Geodesic.WGS84\n",
    "eval_set['geoclip_dist'] = eval_set.apply(lambda x: geod.Inverse(x['geoclip_lat'], x['geoclip_lon'], x['latitude'], x['longitude'])['s12']/1000, axis=1)\n",
    "eval_set['pred_dist'] = eval_set.apply(lambda x: geod.Inverse(x['latitude'], x['longitude'], x['pred_lat'], x['pred_lon'])['s12']/1000, axis=1)\n",
    "eval_set[['geoclip_dist', 'pred_dist']]"
   ],
   "metadata": {
    "collapsed": false,
    "ExecuteTime": {
     "end_time": "2024-03-09T09:18:25.509881Z",
     "start_time": "2024-03-09T09:18:25.481340Z"
    }
   },
   "id": "b4ced6cfbcfdc2ba",
   "execution_count": 7
  },
  {
   "cell_type": "code",
   "outputs": [
    {
     "data": {
      "text/plain": "count      8.000000\nmean      90.643096\nstd      166.252070\nmin        0.158240\n25%        0.452415\n50%        1.593308\n75%       82.660568\nmax      407.023118\nName: geoclip_dist, dtype: float64"
     },
     "execution_count": 8,
     "metadata": {},
     "output_type": "execute_result"
    }
   ],
   "source": [
    "eval_set['geoclip_dist'].describe()"
   ],
   "metadata": {
    "collapsed": false,
    "ExecuteTime": {
     "end_time": "2024-03-09T09:18:27.750334Z",
     "start_time": "2024-03-09T09:18:27.743599Z"
    }
   },
   "id": "129441e6cd810c9b",
   "execution_count": 8
  },
  {
   "cell_type": "code",
   "outputs": [
    {
     "data": {
      "text/plain": "count      8.000000\nmean      61.987479\nstd      113.772339\nmin        0.100539\n25%        0.224799\n50%        1.510323\n75%       56.429925\nmax      272.395431\nName: pred_dist, dtype: float64"
     },
     "execution_count": 9,
     "metadata": {},
     "output_type": "execute_result"
    }
   ],
   "source": [
    "eval_set['pred_dist'].describe()"
   ],
   "metadata": {
    "collapsed": false,
    "ExecuteTime": {
     "end_time": "2024-03-09T09:18:29.194141Z",
     "start_time": "2024-03-09T09:18:29.188242Z"
    }
   },
   "id": "7d0246659ebd9d7e",
   "execution_count": 9
  },
  {
   "cell_type": "code",
   "outputs": [
    {
     "data": {
      "text/plain": "<Axes: ylabel='Frequency'>"
     },
     "execution_count": 10,
     "metadata": {},
     "output_type": "execute_result"
    },
    {
     "data": {
      "text/plain": "<Figure size 640x480 with 1 Axes>",
      "image/png": "[encoded data removed]"
     },
     "metadata": {},
     "output_type": "display_data"
    }
   ],
   "source": [
    "eval_set['pred_dist'].plot.hist(bins=100)"
   ],
   "metadata": {
    "collapsed": false,
    "ExecuteTime": {
     "end_time": "2024-03-09T09:18:41.178448Z",
     "start_time": "2024-03-09T09:18:40.462963Z"
    }
   },
   "id": "c8815b4e7bffeca3",
   "execution_count": 10
  },
  {
   "cell_type": "code",
   "outputs": [
    {
     "data": {
      "text/plain": "<Axes: ylabel='Frequency'>"
     },
     "execution_count": 11,
     "metadata": {},
     "output_type": "execute_result"
    },
    {
     "data": {
      "text/plain": "<Figure size 640x480 with 1 Axes>",
      "image/png": "[encoded data removed]"
     },
     "metadata": {},
     "output_type": "display_data"
    }
   ],
   "source": [
    "eval_set['geoclip_dist'].plot.hist(bins=100)"
   ],
   "metadata": {
    "collapsed": false,
    "ExecuteTime": {
     "end_time": "2024-03-09T09:18:43.297461Z",
     "start_time": "2024-03-09T09:18:42.992449Z"
    }
   },
   "id": "3353ddeb2f7a0d35",
   "execution_count": 11
  },
  {
   "cell_type": "code",
   "outputs": [
    {
     "data": {
      "text/plain": "(4, 4)"
     },
     "execution_count": 12,
     "metadata": {},
     "output_type": "execute_result"
    }
   ],
   "source": [
    "len(eval_set[eval_set['geoclip_dist'] < 1]), len(eval_set[eval_set['pred_dist'] < 1])"
   ],
   "metadata": {
    "collapsed": false,
    "ExecuteTime": {
     "end_time": "2024-03-09T09:18:48.214777Z",
     "start_time": "2024-03-09T09:18:48.180912Z"
    }
   },
   "id": "fa87376aa3bcf0e",
   "execution_count": 12
  },
  {
   "cell_type": "code",
   "outputs": [
    {
     "name": "stderr",
     "output_type": "stream",
     "text": [
      "/var/folders/z5/ks9fxjt91y1dgv38xzprh08m0000gn/T/ipykernel_12625/1345777795.py:1: SettingWithCopyWarning: \n",
      "A value is trying to be set on a copy of a slice from a DataFrame.\n",
      "Try using .loc[row_indexer,col_indexer] = value instead\n",
      "\n",
      "See the caveats in the documentation: https://pandas.pydata.org/pandas-docs/stable/user_guide/indexing.html#returning-a-view-versus-a-copy\n",
      "  eval_set['geoclip_pred_diff'] = eval_set.apply(lambda x: geod.Inverse(x['geoclip_lat'], x['geoclip_lon'], x['pred_lat'], x['pred_lon'])['s12']/1000, axis=1)\n"
     ]
    },
    {
     "data": {
      "text/plain": "14       0.614838\n43       0.000000\n46       0.167271\n75      40.304437\n88     279.482039\n126      7.604354\n140      0.150635\n144      0.000000\nName: geoclip_pred_diff, dtype: float64"
     },
     "execution_count": 13,
     "metadata": {},
     "output_type": "execute_result"
    }
   ],
   "source": [
    "eval_set['geoclip_pred_diff'] = eval_set.apply(lambda x: geod.Inverse(x['geoclip_lat'], x['geoclip_lon'], x['pred_lat'], x['pred_lon'])['s12']/1000, axis=1)\n",
    "eval_set['geoclip_pred_diff']"
   ],
   "metadata": {
    "collapsed": false,
    "ExecuteTime": {
     "end_time": "2024-03-09T09:18:50.524990Z",
     "start_time": "2024-03-09T09:18:50.520711Z"
    }
   },
   "id": "8a6481c22c206573",
   "execution_count": 13
  },
  {
   "cell_type": "code",
   "outputs": [
    {
     "data": {
      "text/plain": "count      8.000000\nmean      41.040447\nstd       97.334744\nmin        0.000000\n25%        0.112976\n50%        0.391055\n75%       15.779375\nmax      279.482039\nName: geoclip_pred_diff, dtype: float64"
     },
     "execution_count": 14,
     "metadata": {},
     "output_type": "execute_result"
    }
   ],
   "source": [
    "eval_set['geoclip_pred_diff'].describe()"
   ],
   "metadata": {
    "collapsed": false,
    "ExecuteTime": {
     "end_time": "2024-03-09T09:18:52.736922Z",
     "start_time": "2024-03-09T09:18:52.722787Z"
    }
   },
   "id": "b349a7c333645a75",
   "execution_count": 14
  },
  {
   "cell_type": "code",
   "outputs": [
    {
     "data": {
      "text/plain": "<Axes: ylabel='Frequency'>"
     },
     "execution_count": 15,
     "metadata": {},
     "output_type": "execute_result"
    },
    {
     "data": {
      "text/plain": "<Figure size 640x480 with 1 Axes>",
      "image/png": "[encoded data removed]"
     },
     "metadata": {},
     "output_type": "display_data"
    }
   ],
   "source": [
    "(eval_set['geoclip_dist'] - eval_set['pred_dist']).plot.hist(bins=100)"
   ],
   "metadata": {
    "collapsed": false,
    "ExecuteTime": {
     "end_time": "2024-03-09T09:18:59.114770Z",
     "start_time": "2024-03-09T09:18:58.981441Z"
    }
   },
   "id": "62038d363fe13322",
   "execution_count": 15
  },
  {
   "cell_type": "code",
   "outputs": [
    {
     "data": {
      "text/plain": "                                           image   latitude   longitude  \\\n14      521324374_96290dd123_234_7132415@N03.jpg  45.516571 -122.674198   \n43     323812702_56b1893e47_129_26519935@N00.jpg  22.255101  113.905992   \n46     315248304_34cc3e6aea_103_49777280@N00.jpg  41.149383   -8.610105   \n75   1125007623_477d5426e9_1379_93455345@N00.jpg  37.331948  136.785278   \n88    865326234_0c641c683c_1415_19953481@N00.jpg  49.779047   20.048675   \n126     244563496_1439c608d0_90_40829484@N00.jpg  40.706018  -74.001760   \n140    873010122_2c74adfa62_1015_9729483@N02.jpg  40.827461  -73.926744   \n144    522503678_d890e18189_238_61819159@N00.jpg -25.347283  131.055049   \n\n                               pred   pred_lat    pred_lon  geoclip_lat  \\\n14               45.5160, -122.6732  45.516000 -122.673200    45.516883   \n43            22.254024, 113.904983  22.254024  113.904983    22.254024   \n46            41.141979, -8.6117156  41.141979   -8.611716    41.140540   \n75   35.0344943, 135.71826339999998  35.034494  135.718263    34.685592   \n88           50.1684487, 23.0145855  50.168449   23.014585    52.647125   \n126         40.7131281, -74.0344231  40.713128  -74.034423    40.648703   \n140         40.8296426, -73.9261745  40.829643  -73.926175    40.829238   \n144          -25.343715, 131.033678 -25.343715  131.033678   -25.343715   \n\n     geoclip_lon  geoclip_dist   pred_dist  geoclip_pred_diff  \n14   -122.680968      0.530109    0.100539           0.614838  \n43    113.904983      0.158240    0.158240           0.000000  \n46     -8.612304      0.999275    0.833306           0.167271  \n75    135.841140    305.719895  272.395431          40.304437  \n88     23.667554    407.023118  217.107139         279.482039  \n126   -74.064910      8.307459    2.870854           7.604354  \n140   -73.927879      0.219336    0.246985           0.150635  \n144   131.033678      2.187340    2.187340           0.000000  ",
      "text/html": "<div>\n<style scoped>\n    .dataframe tbody tr th:only-of-type {\n        vertical-align: middle;\n    }\n\n    .dataframe tbody tr th {\n        vertical-align: top;\n    }\n\n    .dataframe thead th {\n        text-align: right;\n    }\n</style>\n<table border=\"1\" class=\"dataframe\">\n  <thead>\n    <tr style=\"text-align: right;\">\n      <th></th>\n      <th>image</th>\n      <th>latitude</th>\n      <th>longitude</th>\n      <th>pred</th>\n      <th>pred_lat</th>\n      <th>pred_lon</th>\n      <th>geoclip_lat</th>\n      <th>geoclip_lon</th>\n      <th>geoclip_dist</th>\n      <th>pred_dist</th>\n      <th>geoclip_pred_diff</th>\n    </tr>\n  </thead>\n  <tbody>\n    <tr>\n      <th>14</th>\n      <td>521324374_96290dd123_234_7132415@N03.jpg</td>\n      <td>45.516571</td>\n      <td>-122.674198</td>\n      <td>45.5160, -122.6732</td>\n      <td>45.516000</td>\n      <td>-122.673200</td>\n      <td>45.516883</td>\n      <td>-122.680968</td>\n      <td>0.530109</td>\n      <td>0.100539</td>\n      <td>0.614838</td>\n    </tr>\n    <tr>\n      <th>43</th>\n      <td>323812702_56b1893e47_129_26519935@N00.jpg</td>\n      <td>22.255101</td>\n      <td>113.905992</td>\n      <td>22.254024, 113.904983</td>\n      <td>22.254024</td>\n      <td>113.904983</td>\n      <td>22.254024</td>\n      <td>113.904983</td>\n      <td>0.158240</td>\n      <td>0.158240</td>\n      <td>0.000000</td>\n    </tr>\n    <tr>\n      <th>46</th>\n      <td>315248304_34cc3e6aea_103_49777280@N00.jpg</td>\n      <td>41.149383</td>\n      <td>-8.610105</td>\n      <td>41.141979, -8.6117156</td>\n      <td>41.141979</td>\n      <td>-8.611716</td>\n      <td>41.140540</td>\n      <td>-8.612304</td>\n      <td>0.999275</td>\n      <td>0.833306</td>\n      <td>0.167271</td>\n    </tr>\n    <tr>\n      <th>75</th>\n      <td>1125007623_477d5426e9_1379_93455345@N00.jpg</td>\n      <td>37.331948</td>\n      <td>136.785278</td>\n      <td>35.0344943, 135.71826339999998</td>\n      <td>35.034494</td>\n      <td>135.718263</td>\n      <td>34.685592</td>\n      <td>135.841140</td>\n      <td>305.719895</td>\n      <td>272.395431</td>\n      <td>40.304437</td>\n    </tr>\n    <tr>\n      <th>88</th>\n      <td>865326234_0c641c683c_1415_19953481@N00.jpg</td>\n      <td>49.779047</td>\n      <td>20.048675</td>\n      <td>50.1684487, 23.0145855</td>\n      <td>50.168449</td>\n      <td>23.014585</td>\n      <td>52.647125</td>\n      <td>23.667554</td>\n      <td>407.023118</td>\n      <td>217.107139</td>\n      <td>279.482039</td>\n    </tr>\n    <tr>\n      <th>126</th>\n      <td>244563496_1439c608d0_90_40829484@N00.jpg</td>\n      <td>40.706018</td>\n      <td>-74.001760</td>\n      <td>40.7131281, -74.0344231</td>\n      <td>40.713128</td>\n      <td>-74.034423</td>\n      <td>40.648703</td>\n      <td>-74.064910</td>\n      <td>8.307459</td>\n      <td>2.870854</td>\n      <td>7.604354</td>\n    </tr>\n    <tr>\n      <th>140</th>\n      <td>873010122_2c74adfa62_1015_9729483@N02.jpg</td>\n      <td>40.827461</td>\n      <td>-73.926744</td>\n      <td>40.8296426, -73.9261745</td>\n      <td>40.829643</td>\n      <td>-73.926175</td>\n      <td>40.829238</td>\n      <td>-73.927879</td>\n      <td>0.219336</td>\n      <td>0.246985</td>\n      <td>0.150635</td>\n    </tr>\n    <tr>\n      <th>144</th>\n      <td>522503678_d890e18189_238_61819159@N00.jpg</td>\n      <td>-25.347283</td>\n      <td>131.055049</td>\n      <td>-25.343715, 131.033678</td>\n      <td>-25.343715</td>\n      <td>131.033678</td>\n      <td>-25.343715</td>\n      <td>131.033678</td>\n      <td>2.187340</td>\n      <td>2.187340</td>\n      <td>0.000000</td>\n    </tr>\n  </tbody>\n</table>\n</div>"
     },
     "execution_count": 16,
     "metadata": {},
     "output_type": "execute_result"
    }
   ],
   "source": [
    "eval_set"
   ],
   "metadata": {
    "collapsed": false,
    "ExecuteTime": {
     "end_time": "2024-03-09T09:21:32.939419Z",
     "start_time": "2024-03-09T09:21:32.932237Z"
    }
   },
   "id": "d2a20c0ada943dd7",
   "execution_count": 16
  },
  {
   "cell_type": "code",
   "outputs": [],
   "source": [],
   "metadata": {
    "collapsed": false
   },
   "id": "f070f311e95cd6ec"
  }
 ],
 "metadata": {
  "kernelspec": {
   "display_name": "Python 3",
   "language": "python",
   "name": "python3"
  },
  "language_info": {
   "codemirror_mode": {
    "name": "ipython",
    "version": 2
   },
   "file_extension": ".py",
   "mimetype": "text/x-python",
   "name": "python",
   "nbconvert_exporter": "python",
   "pygments_lexer": "ipython2",
   "version": "2.7.6"
  }
 },
 "nbformat": 4,
 "nbformat_minor": 5
}
