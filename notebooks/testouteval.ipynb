{
 "cells": [
  {
   "cell_type": "code",
   "execution_count": 10,
   "id": "initial_id",
   "metadata": {
    "collapsed": true,
    "ExecuteTime": {
     "end_time": "2024-03-01T13:56:05.866199Z",
     "start_time": "2024-03-01T13:56:05.861557Z"
    }
   },
   "outputs": [
    {
     "data": {
      "text/plain": "    Unnamed: 0.1  Unnamed: 0                                     image  \\\n0              0          18  251e07a5-d16b-4f2c-bc50-cb7a4d1e3bf5.jpg   \n13            13           1  9d28c932-39f4-4332-bd4c-c098933f57af.jpg   \n51            51           0  85681330-3209-49f9-9109-c7e7ffba9b23.jpg   \n\n     latitude   longitude                      pred  \n0   18.986168   72.810859    18.9828273, 72.8088966  \n13  36.006895 -112.038574  36.0176269, -111.9769134  \n51  39.904732  116.416282      39.916253, 116.39019  ",
      "text/html": "<div>\n<style scoped>\n    .dataframe tbody tr th:only-of-type {\n        vertical-align: middle;\n    }\n\n    .dataframe tbody tr th {\n        vertical-align: top;\n    }\n\n    .dataframe thead th {\n        text-align: right;\n    }\n</style>\n<table border=\"1\" class=\"dataframe\">\n  <thead>\n    <tr style=\"text-align: right;\">\n      <th></th>\n      <th>Unnamed: 0.1</th>\n      <th>Unnamed: 0</th>\n      <th>image</th>\n      <th>latitude</th>\n      <th>longitude</th>\n      <th>pred</th>\n    </tr>\n  </thead>\n  <tbody>\n    <tr>\n      <th>0</th>\n      <td>0</td>\n      <td>18</td>\n      <td>251e07a5-d16b-4f2c-bc50-cb7a4d1e3bf5.jpg</td>\n      <td>18.986168</td>\n      <td>72.810859</td>\n      <td>18.9828273, 72.8088966</td>\n    </tr>\n    <tr>\n      <th>13</th>\n      <td>13</td>\n      <td>1</td>\n      <td>9d28c932-39f4-4332-bd4c-c098933f57af.jpg</td>\n      <td>36.006895</td>\n      <td>-112.038574</td>\n      <td>36.0176269, -111.9769134</td>\n    </tr>\n    <tr>\n      <th>51</th>\n      <td>51</td>\n      <td>0</td>\n      <td>85681330-3209-49f9-9109-c7e7ffba9b23.jpg</td>\n      <td>39.904732</td>\n      <td>116.416282</td>\n      <td>39.916253, 116.39019</td>\n    </tr>\n  </tbody>\n</table>\n</div>"
     },
     "execution_count": 10,
     "metadata": {},
     "output_type": "execute_result"
    }
   ],
   "source": [
    "import pandas as pd\n",
    "stuff = pd.read_csv('../datasets/IM2GPS/human_geolocation_test_anon/coords.csv')\n",
    "stuff[stuff.pred.isna() == False]"
   ]
  },
  {
   "cell_type": "code",
   "outputs": [],
   "source": [],
   "metadata": {
    "collapsed": false
   },
   "id": "80de7ebe4f15c607"
  }
 ],
 "metadata": {
  "kernelspec": {
   "display_name": "Python 3",
   "language": "python",
   "name": "python3"
  },
  "language_info": {
   "codemirror_mode": {
    "name": "ipython",
    "version": 2
   },
   "file_extension": ".py",
   "mimetype": "text/x-python",
   "name": "python",
   "nbconvert_exporter": "python",
   "pygments_lexer": "ipython2",
   "version": "2.7.6"
  }
 },
 "nbformat": 4,
 "nbformat_minor": 5
}
