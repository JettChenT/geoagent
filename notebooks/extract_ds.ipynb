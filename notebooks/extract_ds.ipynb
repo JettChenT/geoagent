{
 "cells": [
  {
   "cell_type": "code",
   "execution_count": 8,
   "id": "initial_id",
   "metadata": {
    "collapsed": true,
    "ExecuteTime": {
     "end_time": "2024-02-27T22:38:26.341306Z",
     "start_time": "2024-02-27T22:38:26.338284Z"
    }
   },
   "outputs": [],
   "source": [
    "def find_coordinate(content, marker):\n",
    "    start_index = content.find(marker)\n",
    "    end_ind = content.find(b'\\x00', start_index)\n",
    "    return float(content[start_index + len(marker):end_ind].decode('utf-8'))\n",
    "\n",
    "def extract_coordinates(file_path):\n",
    "    # Markers to search for\n",
    "    longitude_marker = b'longitude:'\n",
    "    latitude_marker = b'latitude:'\n",
    "    contents = open(file_path, 'rb').read()\n",
    "    coords = (find_coordinate(contents, latitude_marker), find_coordinate(contents, longitude_marker))\n",
    "    del contents\n",
    "    return coords\n",
    "\n",
    "from pathlib import Path\n",
    "\n",
    "target_folder = Path('../datasets/IM2GPS/human_geolocation_test_anon')"
   ]
  },
  {
   "cell_type": "code",
   "outputs": [],
   "source": [
    "# Extract coordinates from all images\n",
    "import pandas as pd\n",
    "import os\n",
    "image_files = [f for f in os.listdir(target_folder) if f.endswith('.jpg')]\n",
    "image_files = [os.path.join(target_folder, f) for f in image_files]\n",
    "coordinates = [extract_coordinates(f) for f in image_files]\n",
    "filenames = [os.path.basename(f) for f in image_files]\n",
    "df = pd.DataFrame({'image': filenames, 'latitude': [c[0] for c in coordinates], 'longitude': [c[1] for c in coordinates]})\n",
    "df.to_csv(target_folder/'coords.csv', index=False)"
   ],
   "metadata": {
    "collapsed": false,
    "ExecuteTime": {
     "end_time": "2024-02-27T22:42:34.424855Z",
     "start_time": "2024-02-27T22:42:34.361775Z"
    }
   },
   "id": "de0a66ae148b5e0f",
   "execution_count": 11
  },
  {
   "cell_type": "code",
   "outputs": [
    {
     "data": {
      "text/plain": "                                       image   latitude   longitude\n0   86688e77-bd47-453b-8bee-f27943ddd921.jpg  35.018047  135.769901\n1   2295bf6f-2eb7-42bd-81ce-cb3c86f665df.jpg  47.620548 -122.348739\n2   59a95a76-df66-401e-862c-87ced530535b.jpg -37.515172  177.190246\n3   01785a25-8505-4682-a52d-50f12ae12c41.jpg  13.749890  100.494861\n4   5b31ae55-bdb7-4db9-bc2a-e187f743d938.jpg  46.970800  -96.547300\n..                                       ...        ...         ...\n59  6fd84650-e08f-4b0c-a55f-b347ab7f3b06.jpg  41.014166   28.983993\n60  bee823de-90f2-4e12-b6b6-7c4bda0fa2dd.jpg  19.403135   98.676452\n61  b647675f-2ce8-418e-ae6d-4558766beef0.jpg  20.710057 -156.252880\n62  7dc7e9db-26cf-4eae-9fe3-2618dc40fda4.jpg -29.079575  152.108459\n63  35c23d79-71bf-4205-b6dd-64505bf82878.jpg  26.209046   50.611782\n\n[64 rows x 3 columns]",
      "text/html": "<div>\n<style scoped>\n    .dataframe tbody tr th:only-of-type {\n        vertical-align: middle;\n    }\n\n    .dataframe tbody tr th {\n        vertical-align: top;\n    }\n\n    .dataframe thead th {\n        text-align: right;\n    }\n</style>\n<table border=\"1\" class=\"dataframe\">\n  <thead>\n    <tr style=\"text-align: right;\">\n      <th></th>\n      <th>image</th>\n      <th>latitude</th>\n      <th>longitude</th>\n    </tr>\n  </thead>\n  <tbody>\n    <tr>\n      <th>0</th>\n      <td>86688e77-bd47-453b-8bee-f27943ddd921.jpg</td>\n      <td>35.018047</td>\n      <td>135.769901</td>\n    </tr>\n    <tr>\n      <th>1</th>\n      <td>2295bf6f-2eb7-42bd-81ce-cb3c86f665df.jpg</td>\n      <td>47.620548</td>\n      <td>-122.348739</td>\n    </tr>\n    <tr>\n      <th>2</th>\n      <td>59a95a76-df66-401e-862c-87ced530535b.jpg</td>\n      <td>-37.515172</td>\n      <td>177.190246</td>\n    </tr>\n    <tr>\n      <th>3</th>\n      <td>01785a25-8505-4682-a52d-50f12ae12c41.jpg</td>\n      <td>13.749890</td>\n      <td>100.494861</td>\n    </tr>\n    <tr>\n      <th>4</th>\n      <td>5b31ae55-bdb7-4db9-bc2a-e187f743d938.jpg</td>\n      <td>46.970800</td>\n      <td>-96.547300</td>\n    </tr>\n    <tr>\n      <th>...</th>\n      <td>...</td>\n      <td>...</td>\n      <td>...</td>\n    </tr>\n    <tr>\n      <th>59</th>\n      <td>6fd84650-e08f-4b0c-a55f-b347ab7f3b06.jpg</td>\n      <td>41.014166</td>\n      <td>28.983993</td>\n    </tr>\n    <tr>\n      <th>60</th>\n      <td>bee823de-90f2-4e12-b6b6-7c4bda0fa2dd.jpg</td>\n      <td>19.403135</td>\n      <td>98.676452</td>\n    </tr>\n    <tr>\n      <th>61</th>\n      <td>b647675f-2ce8-418e-ae6d-4558766beef0.jpg</td>\n      <td>20.710057</td>\n      <td>-156.252880</td>\n    </tr>\n    <tr>\n      <th>62</th>\n      <td>7dc7e9db-26cf-4eae-9fe3-2618dc40fda4.jpg</td>\n      <td>-29.079575</td>\n      <td>152.108459</td>\n    </tr>\n    <tr>\n      <th>63</th>\n      <td>35c23d79-71bf-4205-b6dd-64505bf82878.jpg</td>\n      <td>26.209046</td>\n      <td>50.611782</td>\n    </tr>\n  </tbody>\n</table>\n<p>64 rows × 3 columns</p>\n</div>"
     },
     "execution_count": 12,
     "metadata": {},
     "output_type": "execute_result"
    }
   ],
   "source": [
    "df"
   ],
   "metadata": {
    "collapsed": false,
    "ExecuteTime": {
     "end_time": "2024-02-27T22:42:35.967620Z",
     "start_time": "2024-02-27T22:42:35.919388Z"
    }
   },
   "id": "bf254c1cc0bbf0d5",
   "execution_count": 12
  },
  {
   "cell_type": "code",
   "outputs": [],
   "source": [],
   "metadata": {
    "collapsed": false
   },
   "id": "55ba69868b5919ff"
  }
 ],
 "metadata": {
  "kernelspec": {
   "display_name": "Python 3",
   "language": "python",
   "name": "python3"
  },
  "language_info": {
   "codemirror_mode": {
    "name": "ipython",
    "version": 2
   },
   "file_extension": ".py",
   "mimetype": "text/x-python",
   "name": "python",
   "nbconvert_exporter": "python",
   "pygments_lexer": "ipython2",
   "version": "2.7.6"
  }
 },
 "nbformat": 4,
 "nbformat_minor": 5
}
