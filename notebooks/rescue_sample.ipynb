{
 "cells": [
  {
   "cell_type": "code",
   "execution_count": 3,
   "id": "initial_id",
   "metadata": {
    "collapsed": true,
    "ExecuteTime": {
     "end_time": "2024-03-09T09:09:38.579655Z",
     "start_time": "2024-03-09T09:09:38.565955Z"
    }
   },
   "outputs": [
    {
     "data": {
      "text/plain": "                                          image   latitude   longitude  \\\n0     315519262_c1e9631fd8_102_40829484@N00.jpg  37.599000 -112.201995   \n1    532055519_5ca9666626_1400_79756109@N00.jpg  20.864586 -156.167736   \n2     337866907_3f69c49d11_160_65367662@N00.jpg  37.308390 -121.802200   \n3      195180812_8762d1dba5_70_73935513@N00.jpg -25.499066  -54.621276   \n4       94109874_d31b3793e1_12_25159586@N00.jpg  36.820278  138.946838   \n..                                          ...        ...         ...   \n145   408360718_5f91986dae_129_15376845@N00.jpg  41.336735  -72.910380   \n146    401671038_ce67582596_50_33463080@N00.jpg  13.475105  103.842773   \n147     45093902_0ca68f3d8e_28_88483799@N00.jpg  38.560500  -75.057100   \n148   323788192_26c8dd9de1_141_26519935@N00.jpg  22.287944  114.207644   \n149    118131355_5451e9534a_56_18684820@N00.jpg  13.735383  100.500183   \n\n                               pred  \n0    39.8821803, 116.40660559999998  \n1                               NaN  \n2                               NaN  \n3            -25.343715, 131.033678  \n4            50.1684487, 23.0145855  \n..                              ...  \n145                             NaN  \n146                             NaN  \n147                             NaN  \n148                             NaN  \n149                             NaN  \n\n[150 rows x 4 columns]",
      "text/html": "<div>\n<style scoped>\n    .dataframe tbody tr th:only-of-type {\n        vertical-align: middle;\n    }\n\n    .dataframe tbody tr th {\n        vertical-align: top;\n    }\n\n    .dataframe thead th {\n        text-align: right;\n    }\n</style>\n<table border=\"1\" class=\"dataframe\">\n  <thead>\n    <tr style=\"text-align: right;\">\n      <th></th>\n      <th>image</th>\n      <th>latitude</th>\n      <th>longitude</th>\n      <th>pred</th>\n    </tr>\n  </thead>\n  <tbody>\n    <tr>\n      <th>0</th>\n      <td>315519262_c1e9631fd8_102_40829484@N00.jpg</td>\n      <td>37.599000</td>\n      <td>-112.201995</td>\n      <td>39.8821803, 116.40660559999998</td>\n    </tr>\n    <tr>\n      <th>1</th>\n      <td>532055519_5ca9666626_1400_79756109@N00.jpg</td>\n      <td>20.864586</td>\n      <td>-156.167736</td>\n      <td>NaN</td>\n    </tr>\n    <tr>\n      <th>2</th>\n      <td>337866907_3f69c49d11_160_65367662@N00.jpg</td>\n      <td>37.308390</td>\n      <td>-121.802200</td>\n      <td>NaN</td>\n    </tr>\n    <tr>\n      <th>3</th>\n      <td>195180812_8762d1dba5_70_73935513@N00.jpg</td>\n      <td>-25.499066</td>\n      <td>-54.621276</td>\n      <td>-25.343715, 131.033678</td>\n    </tr>\n    <tr>\n      <th>4</th>\n      <td>94109874_d31b3793e1_12_25159586@N00.jpg</td>\n      <td>36.820278</td>\n      <td>138.946838</td>\n      <td>50.1684487, 23.0145855</td>\n    </tr>\n    <tr>\n      <th>...</th>\n      <td>...</td>\n      <td>...</td>\n      <td>...</td>\n      <td>...</td>\n    </tr>\n    <tr>\n      <th>145</th>\n      <td>408360718_5f91986dae_129_15376845@N00.jpg</td>\n      <td>41.336735</td>\n      <td>-72.910380</td>\n      <td>NaN</td>\n    </tr>\n    <tr>\n      <th>146</th>\n      <td>401671038_ce67582596_50_33463080@N00.jpg</td>\n      <td>13.475105</td>\n      <td>103.842773</td>\n      <td>NaN</td>\n    </tr>\n    <tr>\n      <th>147</th>\n      <td>45093902_0ca68f3d8e_28_88483799@N00.jpg</td>\n      <td>38.560500</td>\n      <td>-75.057100</td>\n      <td>NaN</td>\n    </tr>\n    <tr>\n      <th>148</th>\n      <td>323788192_26c8dd9de1_141_26519935@N00.jpg</td>\n      <td>22.287944</td>\n      <td>114.207644</td>\n      <td>NaN</td>\n    </tr>\n    <tr>\n      <th>149</th>\n      <td>118131355_5451e9534a_56_18684820@N00.jpg</td>\n      <td>13.735383</td>\n      <td>100.500183</td>\n      <td>NaN</td>\n    </tr>\n  </tbody>\n</table>\n<p>150 rows × 4 columns</p>\n</div>"
     },
     "execution_count": 3,
     "metadata": {},
     "output_type": "execute_result"
    }
   ],
   "source": [
    "import pandas as pd\n",
    "from pathlib import Path\n",
    "fold_path = Path(\"../datasets/im2gps3ktest_sampled\")\n",
    "stuff = pd.read_csv(fold_path/'coords.csv')\n",
    "stuff"
   ]
  },
  {
   "cell_type": "code",
   "outputs": [],
   "source": [
    "import re\n",
    "def extract_info(input_string):\n",
    "    # Regular expression to match the latitude, longitude, and image name\n",
    "    pattern = r\"Predicted: ([\\d.-]+), ([\\d.-]+) for image ([\\w_@.]+)\\.jpg\"\n",
    "    \n",
    "    # Search for the pattern\n",
    "    match = re.search(pattern, input_string)\n",
    "    \n",
    "    if match:\n",
    "        latitude = match.group(1)\n",
    "        longitude = match.group(2)\n",
    "        image_name = match.group(3)\n",
    "        \n",
    "        return latitude, longitude, image_name\n",
    "    else:\n",
    "        return None, None, None"
   ],
   "metadata": {
    "collapsed": false,
    "ExecuteTime": {
     "end_time": "2024-03-09T09:12:07.593076Z",
     "start_time": "2024-03-09T09:12:07.581674Z"
    }
   },
   "id": "542e176a4f3d45e4",
   "execution_count": 6
  },
  {
   "cell_type": "code",
   "outputs": [],
   "source": [
    "stuff['pred'] = \"\""
   ],
   "metadata": {
    "collapsed": false,
    "ExecuteTime": {
     "end_time": "2024-03-09T09:10:05.159137Z",
     "start_time": "2024-03-09T09:10:05.129801Z"
    }
   },
   "id": "7769b7973698a87b",
   "execution_count": 4
  },
  {
   "cell_type": "code",
   "outputs": [],
   "source": [
    "sources = \"\"\"\n",
    "Predicted: -25.343715, 131.033678 for image 522503678_d890e18189_238_61819159@N00.jpg\n",
    "Predicted: 45.5160, -122.6732 for image 521324374_96290dd123_234_7132415@N03.jpg\n",
    "Predicted: 41.141979, -8.6117156 for image 315248304_34cc3e6aea_103_49777280@N00.jpg\n",
    "Predicted: 40.8296426, -73.9261745 for image 873010122_2c74adfa62_1015_9729483@N02.jpg\n",
    "Predicted: 35.0344943, 135.71826339999998 for image 1125007623_477d5426e9_1379_93455345@N00.jpg\n",
    "Predicted: 40.7131281, -74.0344231 for image 244563496_1439c608d0_90_40829484@N00.jpg\n",
    "Predicted: 50.1684487, 23.0145855 for image 865326234_0c641c683c_1415_19953481@N00.jpg\n",
    "Predicted: 22.254024, 113.904983 for image 323812702_56b1893e47_129_26519935@N00.jpg\n",
    "\"\"\"\n",
    "for l in sources.split(\"\\n\"):\n",
    "    lat, lon, img = extract_info(l)\n",
    "    if lat is not None:\n",
    "        stuff.loc[stuff['image'] == f\"{img}.jpg\", 'pred'] = f\"{lat}, {lon}\""
   ],
   "metadata": {
    "collapsed": false,
    "ExecuteTime": {
     "end_time": "2024-03-09T09:16:47.360786Z",
     "start_time": "2024-03-09T09:16:47.332121Z"
    }
   },
   "id": "e97a54b9b1a0daaf",
   "execution_count": 11
  },
  {
   "cell_type": "code",
   "outputs": [
    {
     "data": {
      "text/plain": "                                           image   latitude   longitude  \\\n14      521324374_96290dd123_234_7132415@N03.jpg  45.516571 -122.674198   \n43     323812702_56b1893e47_129_26519935@N00.jpg  22.255101  113.905992   \n46     315248304_34cc3e6aea_103_49777280@N00.jpg  41.149383   -8.610105   \n75   1125007623_477d5426e9_1379_93455345@N00.jpg  37.331948  136.785278   \n88    865326234_0c641c683c_1415_19953481@N00.jpg  49.779047   20.048675   \n126     244563496_1439c608d0_90_40829484@N00.jpg  40.706018  -74.001760   \n140    873010122_2c74adfa62_1015_9729483@N02.jpg  40.827461  -73.926744   \n144    522503678_d890e18189_238_61819159@N00.jpg -25.347283  131.055049   \n\n                               pred  \n14               45.5160, -122.6732  \n43            22.254024, 113.904983  \n46            41.141979, -8.6117156  \n75   35.0344943, 135.71826339999998  \n88           50.1684487, 23.0145855  \n126         40.7131281, -74.0344231  \n140         40.8296426, -73.9261745  \n144          -25.343715, 131.033678  ",
      "text/html": "<div>\n<style scoped>\n    .dataframe tbody tr th:only-of-type {\n        vertical-align: middle;\n    }\n\n    .dataframe tbody tr th {\n        vertical-align: top;\n    }\n\n    .dataframe thead th {\n        text-align: right;\n    }\n</style>\n<table border=\"1\" class=\"dataframe\">\n  <thead>\n    <tr style=\"text-align: right;\">\n      <th></th>\n      <th>image</th>\n      <th>latitude</th>\n      <th>longitude</th>\n      <th>pred</th>\n    </tr>\n  </thead>\n  <tbody>\n    <tr>\n      <th>14</th>\n      <td>521324374_96290dd123_234_7132415@N03.jpg</td>\n      <td>45.516571</td>\n      <td>-122.674198</td>\n      <td>45.5160, -122.6732</td>\n    </tr>\n    <tr>\n      <th>43</th>\n      <td>323812702_56b1893e47_129_26519935@N00.jpg</td>\n      <td>22.255101</td>\n      <td>113.905992</td>\n      <td>22.254024, 113.904983</td>\n    </tr>\n    <tr>\n      <th>46</th>\n      <td>315248304_34cc3e6aea_103_49777280@N00.jpg</td>\n      <td>41.149383</td>\n      <td>-8.610105</td>\n      <td>41.141979, -8.6117156</td>\n    </tr>\n    <tr>\n      <th>75</th>\n      <td>1125007623_477d5426e9_1379_93455345@N00.jpg</td>\n      <td>37.331948</td>\n      <td>136.785278</td>\n      <td>35.0344943, 135.71826339999998</td>\n    </tr>\n    <tr>\n      <th>88</th>\n      <td>865326234_0c641c683c_1415_19953481@N00.jpg</td>\n      <td>49.779047</td>\n      <td>20.048675</td>\n      <td>50.1684487, 23.0145855</td>\n    </tr>\n    <tr>\n      <th>126</th>\n      <td>244563496_1439c608d0_90_40829484@N00.jpg</td>\n      <td>40.706018</td>\n      <td>-74.001760</td>\n      <td>40.7131281, -74.0344231</td>\n    </tr>\n    <tr>\n      <th>140</th>\n      <td>873010122_2c74adfa62_1015_9729483@N02.jpg</td>\n      <td>40.827461</td>\n      <td>-73.926744</td>\n      <td>40.8296426, -73.9261745</td>\n    </tr>\n    <tr>\n      <th>144</th>\n      <td>522503678_d890e18189_238_61819159@N00.jpg</td>\n      <td>-25.347283</td>\n      <td>131.055049</td>\n      <td>-25.343715, 131.033678</td>\n    </tr>\n  </tbody>\n</table>\n</div>"
     },
     "execution_count": 12,
     "metadata": {},
     "output_type": "execute_result"
    }
   ],
   "source": [
    "stuff[stuff['pred'] != \"\"]"
   ],
   "metadata": {
    "collapsed": false,
    "ExecuteTime": {
     "end_time": "2024-03-09T09:16:47.823185Z",
     "start_time": "2024-03-09T09:16:47.808359Z"
    }
   },
   "id": "5b67126c6b2195c5",
   "execution_count": 12
  },
  {
   "cell_type": "code",
   "outputs": [],
   "source": [
    "stuff.to_csv(fold_path/'coords.csv', index=False)"
   ],
   "metadata": {
    "collapsed": false,
    "ExecuteTime": {
     "end_time": "2024-03-09T09:16:48.671847Z",
     "start_time": "2024-03-09T09:16:48.653033Z"
    }
   },
   "id": "b0bd63e3bd946a25",
   "execution_count": 13
  },
  {
   "cell_type": "code",
   "outputs": [],
   "source": [],
   "metadata": {
    "collapsed": false
   },
   "id": "73d513602053e6a5"
  }
 ],
 "metadata": {
  "kernelspec": {
   "display_name": "Python 3",
   "language": "python",
   "name": "python3"
  },
  "language_info": {
   "codemirror_mode": {
    "name": "ipython",
    "version": 2
   },
   "file_extension": ".py",
   "mimetype": "text/x-python",
   "name": "python",
   "nbconvert_exporter": "python",
   "pygments_lexer": "ipython2",
   "version": "2.7.6"
  }
 },
 "nbformat": 4,
 "nbformat_minor": 5
}
