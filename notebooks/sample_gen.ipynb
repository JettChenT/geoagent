{
 "cells": [
  {
   "cell_type": "code",
   "execution_count": 10,
   "id": "initial_id",
   "metadata": {
    "collapsed": true,
    "ExecuteTime": {
     "end_time": "2024-03-02T13:33:22.042799Z",
     "start_time": "2024-03-02T13:33:21.921382Z"
    }
   },
   "outputs": [],
   "source": [
    "import os\n",
    "from pathlib import Path\n",
    "SAMPLE_COUNT = 150\n",
    "\n",
    "src_dir = Path('../datasets/im2gps3ktest')\n",
    "dst_dir = Path('../datasets/im2gps3ktest_sampled')\n",
    "os.system(f'rm -rf {dst_dir}')\n",
    "os.mkdir(dst_dir)"
   ]
  },
  {
   "cell_type": "code",
   "outputs": [],
   "source": [
    "import random\n",
    "import shutil\n",
    "# sample 150 images from the dataset, and symlink them to the new directory\n",
    "for root, dirs, files in os.walk(src_dir):\n",
    "    for file in random.sample(files, SAMPLE_COUNT):\n",
    "        src_file = os.path.join(root, file)\n",
    "        dst_file = os.path.join(dst_dir, file)\n",
    "        os.symlink(os.path.abspath(src_file), dst_file)"
   ],
   "metadata": {
    "collapsed": false,
    "ExecuteTime": {
     "end_time": "2024-03-02T13:33:22.074785Z",
     "start_time": "2024-03-02T13:33:22.042507Z"
    }
   },
   "id": "72e2a056fc04aeac",
   "execution_count": 11
  },
  {
   "cell_type": "code",
   "outputs": [],
   "source": [],
   "metadata": {
    "collapsed": false
   },
   "id": "8491f64ec754e718"
  }
 ],
 "metadata": {
  "kernelspec": {
   "display_name": "Python 3",
   "language": "python",
   "name": "python3"
  },
  "language_info": {
   "codemirror_mode": {
    "name": "ipython",
    "version": 2
   },
   "file_extension": ".py",
   "mimetype": "text/x-python",
   "name": "python",
   "nbconvert_exporter": "python",
   "pygments_lexer": "ipython2",
   "version": "2.7.6"
  }
 },
 "nbformat": 4,
 "nbformat_minor": 5
}
