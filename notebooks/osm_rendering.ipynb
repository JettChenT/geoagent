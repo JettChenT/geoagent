{
 "cells": [
  {
   "cell_type": "code",
   "execution_count": 4,
   "id": "initial_id",
   "metadata": {
    "collapsed": true,
    "ExecuteTime": {
     "end_time": "2023-12-25T11:46:08.693431Z",
     "start_time": "2023-12-25T11:46:08.691837Z"
    }
   },
   "outputs": [],
   "source": [
    "from tools.nomantim import search_raw\n",
    "from geopy import Nominatim\n",
    "import folium"
   ]
  },
  {
   "cell_type": "code",
   "execution_count": 7,
   "outputs": [
    {
     "data": {
      "text/plain": "[Location(Adam Clayton Powell Jr. Boulevard, Manhattan Community Board 10, Manhattan, New York County, City of New York, New York, 10039, United States, (40.8060422, -73.9503622, 0.0)),\n Location(Adam Clayton Powell Jr. Boulevard, Harlem, Manhattan, New York County, City of New York, New York, 10039, United States, (40.8257045, -73.9359838, 0.0)),\n Location(Adam Clayton Powell Jr. Boulevard, Harlem, Manhattan, New York County, City of New York, New York, 10039, United States, (40.8259882, -73.9359764, 0.0)),\n Location(Adam Clayton Powell Jr. Boulevard, Manhattan Community Board 10, Manhattan, New York County, City of New York, New York, 10026, United States, (40.8030983, -73.9525083, 0.0))]"
     },
     "execution_count": 7,
     "metadata": {},
     "output_type": "execute_result"
    }
   ],
   "source": [
    "geolocator = Nominatim(user_agent=\"OSM Querying Geocoder\", timeout=10)\n",
    "dat = geolocator.geocode(\"7th Ave, New York City\", exactly_one=False)\n",
    "dat"
   ],
   "metadata": {
    "collapsed": false,
    "ExecuteTime": {
     "end_time": "2023-12-25T11:53:03.957809Z",
     "start_time": "2023-12-25T11:53:02.241072Z"
    }
   },
   "id": "34f52c0601c051aa"
  },
  {
   "cell_type": "code",
   "execution_count": 12,
   "outputs": [
    {
     "name": "stdout",
     "output_type": "stream",
     "text": [
      "40.8060422 -73.9503622\n",
      "40.8257045 -73.9359838\n",
      "40.8259882 -73.9359764\n",
      "40.8030983 -73.9525083\n"
     ]
    }
   ],
   "source": [
    "for d in dat:\n",
    "    print(d.latitude, d.longitude)"
   ],
   "metadata": {
    "collapsed": false,
    "ExecuteTime": {
     "end_time": "2023-12-25T11:54:55.102157Z",
     "start_time": "2023-12-25T11:54:55.070290Z"
    }
   },
   "id": "1e2d2a44a5a9f345"
  },
  {
   "cell_type": "code",
   "execution_count": null,
   "outputs": [],
   "source": [],
   "metadata": {
    "collapsed": false
   },
   "id": "9e8e281c19a2a8a7"
  }
 ],
 "metadata": {
  "kernelspec": {
   "display_name": "Python 3",
   "language": "python",
   "name": "python3"
  },
  "language_info": {
   "codemirror_mode": {
    "name": "ipython",
    "version": 2
   },
   "file_extension": ".py",
   "mimetype": "text/x-python",
   "name": "python",
   "nbconvert_exporter": "python",
   "pygments_lexer": "ipython2",
   "version": "2.7.6"
  }
 },
 "nbformat": 4,
 "nbformat_minor": 5
}
