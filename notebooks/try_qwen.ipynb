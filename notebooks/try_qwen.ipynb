{
 "cells": [
  {
   "cell_type": "code",
   "execution_count": 17,
   "metadata": {},
   "outputs": [
    {
     "name": "stdout",
     "output_type": "stream",
     "text": [
      "{\"role\": \"assistant\", \"content\": [{\"text\": \"In the tranquil setting of a beach, a woman and her dog share an intimate moment under the soft glow of sunset hues. The woman, clad in a blue plaid shirt, is seated on the sandy shore with her legs crossed. Her gaze is directed towards her companion - a golden retriever who stands before her.\\n\\nThe dog's front paws rest gently on the woman's hand as they engage in what appears to be a playful handshake or high-five gesture. Their interaction suggests a bond that transcends words between them.\\n\\nBeyond their immediate vicinity lies the vast expanse of the ocean, its surface disturbed by waves crashing against the shore. In the distance, you can see other people enjoying the beach at dusk, adding life to this serene scene. \\n\\nEvery element in this image paints a picture of companionship and joy shared between humans and animals amidst nature's beauty. It's a snapshot of a peaceful evening spent outdoors, filled with laughter, love, and simple pleasures.\"}]}\n"
     ]
    }
   ],
   "source": [
    "from http import HTTPStatus\n",
    "import dashscope\n",
    "from pathlib import Path\n",
    "import sys\n",
    "\n",
    "sys.path.append(\"../\")\n",
    "\n",
    "from src.utils import upload_image, Session, setup_session\n",
    "ses = Session()\n",
    "setup_session(ses)\n",
    "\n",
    "# print(\"Uploading image\")\n",
    "# im_url = upload_image(ses, Path(\"../images/NY2.png\"))\n",
    "# print(im_url)\n",
    "\n",
    "messages = [\n",
    "    {\n",
    "        \"role\": \"user\",\n",
    "        \"content\": [\n",
    "            {\"image\": \"https://dashscope.oss-cn-beijing.aliyuncs.com/images/dog_and_girl.jpeg\"},\n",
    "            {\"text\": \"Describe this image.\"}\n",
    "        ]\n",
    "    }\n",
    "]\n",
    "response = dashscope.MultiModalConversation.call(\n",
    "    model=\"qwen-vl-plus\",\n",
    "    messages=messages,\n",
    ")\n",
    "print(response.output.choices[0].message)\n"
   ]
  },
  {
   "cell_type": "code",
   "execution_count": null,
   "metadata": {},
   "outputs": [],
   "source": []
  }
 ],
 "metadata": {
  "kernelspec": {
   "display_name": "geoloc",
   "language": "python",
   "name": "python3"
  },
  "language_info": {
   "codemirror_mode": {
    "name": "ipython",
    "version": 3
   },
   "file_extension": ".py",
   "mimetype": "text/x-python",
   "name": "python",
   "nbconvert_exporter": "python",
   "pygments_lexer": "ipython3",
   "version": "3.11.7"
  }
 },
 "nbformat": 4,
 "nbformat_minor": 2
}
