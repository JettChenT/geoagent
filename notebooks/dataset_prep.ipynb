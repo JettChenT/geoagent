{
 "cells": [
  {
   "cell_type": "code",
   "execution_count": 1,
   "metadata": {},
   "outputs": [],
   "source": [
    "dat = \"\"\"\n",
    "## World\n",
    "1. https://geoconfirmed.org/world/401f38b5-342d-4998-fbed-08dc3fa15d29 :: https://twitter.com/MilitaryPOV/status/1771236946049655268\n",
    "2. https://geoconfirmed.org/world/f3f5b6fc-0077-4a49-4e26-08dc07dfae34 :: https://twitter.com/QudsNen/status/1739735895220068689 \n",
    "3. https://geoconfirmed.org/world/fc116fed-26bc-40d6-500e-08dc07dfae34 :: https://twitter.com/PrensaEcua593/status/1745135528377254309\n",
    "4. https://geoconfirmed.org/world/cec18f30-39bc-4067-4fcb-08dc07dfae34 :: https://twitter.com/hugeglassofmilk/status/1744850183462994103\n",
    "5. https://geoconfirmed.org/world/26d9fd72-fcdb-461a-e700-08dbe78ec568 :: https://twitter.com/AlbertoCaliu/status/1723125191281144103\n",
    "6. https://geoconfirmed.org/world/da9e0251-cea6-47c8-e705-08dbe78ec568 :: https://twitter.com/DaveAtherton20/status/1719622046945054794\n",
    "7. https://geoconfirmed.org/world/e9d62eb7-ac41-4bf7-0f19-08db769b6f09 :: https://twitter.com/ShawnReynolds_/status/1678220473946066946\n",
    "8. https://geoconfirmed.org/world/8a0aeb09-4c3f-43ae-4fbf-08dc07dfae34 :: https://twitter.com/atummundi/status/1744825666204205191\n",
    "9. https://geoconfirmed.org/world/fd078025-619d-4fe3-e6ff-08dbe78ec568 :: https://twitter.com/visegrad24/status/1723959975968682305\n",
    "10. https://geoconfirmed.org/world/497210a7-3819-4fc4-be08-08dc16b82b57 :: https://twitter.com/volcaholic1/status/1747213684558938152\n",
    "\n",
    "## Ukraine\n",
    "1. https://geoconfirmed.org/ukraine/290b10f0-1608-4c6f-4dc8-08dc07dfae34 :: https://twitter.com/neonhandrail/status/1741317826789752934\n",
    "2. https://geoconfirmed.org/ukraine/3afb45da-d2c9-45d2-4ccf-08dc289e8ffb :: https://twitter.com/99Dominik_/status/1757303673154150647\n",
    "3. https://ukraine.bellingcat.com/?id=3X1UUL :: https://twitter.com/Flash_news_ua/status/1769658204588298738\n",
    "4. https://ukraine.bellingcat.com/?id=VVAPFE :: https://t.me/hueviyherson/53743\n",
    "5. https://ukraine.bellingcat.com/?range=2023-09-21&range=2024-03-25&id=P9T3RY :: https://twitter.com/wartranslated/status/1771110851652596054\n",
    "6. https://ukraine.bellingcat.com/?range=2023-09-21&range=2024-03-25&id=1PE8VR :: https://t.me/huyovy_kharkiv/136266\n",
    "7. https://ukraine.bellingcat.com/?range=2023-09-21&range=2024-03-25&id=GEBLWG :: https://t.me/kharkivlife/70977\n",
    "8. https://ukraine.bellingcat.com/?range=2023-09-21&range=2024-03-25&id=6817PJ :: https://t.me/ermaka2022/4078\n",
    "9. https://ukraine.bellingcat.com/?id=M7AEQD :: https://t.me/KharkivPolitics/24189\n",
    "10. https://ukraine.bellingcat.com/?id=M39BNF :: https://t.me/sumygo/68618\n",
    "11. https://ukraine.bellingcat.com/?color=asc4&filter=asc4&range=2023-09-24&range=2024-03-28&id=8RV4T3 :: https://t.me/stranaua/141645\n",
    "\n",
    "## Sahel\n",
    "1. https://geoconfirmed.org/sahel/b67c101d-5f0e-43c5-8f68-08dbd86c9d3e :: https://twitter.com/free_aqlam/status/1716534496827187590\n",
    "2. https://geoconfirmed.org/sahel/7c8c933c-483e-4d38-a0b2-08db46b2768a :: https://twitter.com/BenDoBrown/status/1651573619619684356\n",
    "3. https://geoconfirmed.org/sahel/636bf0a6-c12d-4e64-4d5a-08dc289e8ffb :: https://twitter.com/Sapana997/status/1749038513150996976\n",
    "4. https://geoconfirmed.org/sahel/a4ff33c5-74b6-4744-3218-08db40046b63 :: https://twitter.com/marksnoeck/status/1648609458111541249\n",
    "5. https://geoconfirmed.org/sahel/ca4f1019-fd25-4d20-31f4-08db40046b63 :: https://twitter.com/TramaZoul/status/1647191400692211712\n",
    "6. https://geoconfirmed.org/sahel/d340ad6f-4f73-459a-7c60-08db824d1d28 :: https://www.facebook.com/watch/?v=660691879429274\n",
    "7. https://geoconfirmed.org/sahel/5130e3e4-d1d4-4903-e022-08dbfe4f3bc7 :: https://twitter.com/_MalazEmad/status/1737095690570875387\n",
    "8. https://geoconfirmed.org/sahel/a4793dd3-eefb-4efe-4f19-08dc07dfae34 :: https://twitter.com/ibrahim18276051/status/1736383282722324633\n",
    "9. https://geoconfirmed.org/sahel/079b2fe2-fb5c-4f81-e10e-08dbfe4f3bc7 :: https://twitter.com/dvs2030/status/1732071418249027636\n",
    "10. https://geoconfirmed.org/sahel/6c454766-f9a5-4f76-35b5-08dbb4585a9a :: https://twitter.com/hugeglassofmilk/status/1696813778879353214\n",
    "\n",
    "## Syria\n",
    "1. https://geoconfirmed.org/syria/29162484-83d7-46b0-2aaa-08dbb94bfb59 :: https://twitter.com/Military_OSTX/status/1704131096617845066\n",
    "2. https://geoconfirmed.org/syria/e9f83d78-322e-4a6d-be0e-08dc16b82b57 :: https://twitter.com/SyriaCivilDef/status/1747244752263651364\n",
    "3. https://geoconfirmed.org/syria/cddaa9a5-5152-4a90-e100-08dbfe4f3bc7 :: https://twitter.com/SyriaCivilDef/status/1710368158496772181\n",
    "4. https://geoconfirmed.org/syria/05735d33-1d4b-4562-281a-08dc330cac67 :: https://twitter.com/QalaatAlMudiq/status/1763529116911816914\n",
    "5. https://geoconfirmed.org/syria/4875187c-8395-47d6-d3df-08dc272de58a :: https://twitter.com/juman80si/status/1754990040420114883\n",
    "6. https://geoconfirmed.org/syria/cfca900b-4bf3-4305-d3de-08dc272de58a :: https://twitter.com/QalaatM/status/1754937273060090183\n",
    "7. https://geoconfirmed.org/syria/c713cdf4-860d-4be2-7034-08dbb21758e2 :: https://twitter.com/farhad_shami/status/1698994910492233896\n",
    "8. https://geoconfirmed.org/syria/21a70ff0-23ad-488c-538c-08dc06330dcc :: https://twitter.com/shamoun_hi45936/status/1739237068281167918\n",
    "9. https://geoconfirmed.org/syria/3b3ec1a8-fe3a-452e-4f4d-08dc07dfae34 :: https://twitter.com/YPJ_Info/status/1739650147477319992\n",
    "10. https://geoconfirmed.org/syria/b3edfd13-8e03-4234-5387-08dc06330dcc :: https://twitter.com/hawarnews/status/1738887852828639288\n",
    "\n",
    "## Israel\n",
    "1. https://geoconfirmed.org/israel/cd67e241-8157-4f4e-faeb-08dc3fa15d29 :: https://twitter.com/AJArabic/status/1767921055551697092\n",
    "2. https://geoconfirmed.org/israel/4837c019-be75-4364-fa37-08dc3fa15d29 :: https://twitter.com/AJArabic/status/1768362714127347722\n",
    "3. https://geoconfirmed.org/israel/c9a3b11e-2cdb-445d-4d38-08dc289e8ffb :: https://twitter.com/WAFA_PS/status/1757410765173080527\n",
    "4. https://geoconfirmed.org/israel/ea709b8c-3fcc-4046-4f06-08dc07dfae34 :: https://twitter.com/NemoAnno/status/1743384193902461180\n",
    "5. https://geoconfirmed.org/israel/76030c81-9797-47dd-4d32-08dc07dfae34 :: https://twitter.com/masafering/status/1740104926691262806\n",
    "6. https://geoconfirmed.org/israel/6b0b5a59-c5bb-4a07-bdcd-08dc16b82b57 :: https://twitter.com/ChaskelBennett/status/1746884583377850558\n",
    "7. https://geoconfirmed.org/israel/c28248fe-2c16-42fa-f9dd-08dc3fa15d29 :: https://twitter.com/IsraelWarRoom/status/1768253764174041509\n",
    "8. https://geoconfirmed.org/israel/d388e83d-456c-4678-b5c5-08dc24483476 :: https://twitter.com/PalestineRCS/status/1754408699961958867\n",
    "9. https://geoconfirmed.org/israel/d0c4c6f1-b32e-4670-e0da-08dbfe4f3bc7 :: https://twitter.com/PalestineRCS/status/1754408699961958867\n",
    "10. https://geoconfirmed.org/israel/8df2baf2-9f7a-45d0-4090-08dc23954e34 :: https://twitter.com/carogennez/status/1753162306228236733\n",
    "\"\"\""
   ]
  },
  {
   "cell_type": "code",
   "execution_count": 12,
   "metadata": {},
   "outputs": [],
   "source": [
    "import pandas as pd\n",
    "from hashlib import md5\n",
    "lines = dat.splitlines()\n",
    "cat = None\n",
    "rows = []\n",
    "for l in lines:\n",
    "    if l.startswith(\"##\"):\n",
    "        cat = l[2:].strip()\n",
    "    elif \"::\" in l:\n",
    "        geo_url, src_url = l.split(\"::\")\n",
    "        geo_url = ''.join(geo_url.split('.')[1:]).strip()\n",
    "        src_url = src_url.strip()\n",
    "        hash = md5(f\"{cat}::{geo_url}::{src_url}\".encode()).hexdigest()\n",
    "        rows.append((cat, geo_url, src_url, hash))\n",
    "\n",
    "df = pd.DataFrame(rows, columns=[\"category\", \"geo_url\", \"link\", \"Destination folder\"])\n"
   ]
  },
  {
   "cell_type": "code",
   "execution_count": 13,
   "metadata": {},
   "outputs": [],
   "source": [
    "df.to_clipboard(index=False)"
   ]
  },
  {
   "cell_type": "code",
   "execution_count": 10,
   "metadata": {},
   "outputs": [],
   "source": [
    "import gspread\n",
    "\n",
    "gc = gspread.service_account()"
   ]
  },
  {
   "cell_type": "code",
   "execution_count": 11,
   "metadata": {},
   "outputs": [
    {
     "name": "stdout",
     "output_type": "stream",
     "text": [
      "<Worksheet 'Sheet1' id:0>\n"
     ]
    }
   ],
   "source": [
    "sh = gc.open_by_url(\"https://docs.google.com/spreadsheets/d/1sFImjyYeJV3Mcrw_3PiwVA5CeMoeDjCBZYjOSfMUvqU/edit#gid=0\")\n",
    "worksheet = sh.get_worksheet(0)\n",
    "print(worksheet)"
   ]
  },
  {
   "cell_type": "code",
   "execution_count": null,
   "metadata": {},
   "outputs": [],
   "source": []
  }
 ],
 "metadata": {
  "kernelspec": {
   "display_name": "geoloc",
   "language": "python",
   "name": "python3"
  },
  "language_info": {
   "codemirror_mode": {
    "name": "ipython",
    "version": 3
   },
   "file_extension": ".py",
   "mimetype": "text/x-python",
   "name": "python",
   "nbconvert_exporter": "python",
   "pygments_lexer": "ipython3",
   "version": "3.11.7"
  }
 },
 "nbformat": 4,
 "nbformat_minor": 2
}
