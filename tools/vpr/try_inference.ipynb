{
 "cells": [
  {
   "cell_type": "code",
   "execution_count": 1,
   "id": "initial_id",
   "metadata": {
    "collapsed": true,
    "ExecuteTime": {
     "end_time": "2024-01-13T08:17:04.137758Z",
     "start_time": "2024-01-13T08:17:02.595902Z"
    }
   },
   "outputs": [],
   "source": [
    "from inference import *"
   ]
  },
  {
   "cell_type": "code",
   "execution_count": 2,
   "outputs": [
    {
     "name": "stderr",
     "output_type": "stream",
     "text": [
      "Using cache found in /Users/jettchen/.cache/torch/hub/gmberton_eigenplaces_main\n"
     ]
    },
    {
     "name": "stdout",
     "output_type": "stream",
     "text": [
      "Returning EigenPlaces model with backbone: ResNet50 with features dimension 2048\n"
     ]
    },
    {
     "name": "stderr",
     "output_type": "stream",
     "text": [
      "Using cache found in /Users/jettchen/.cache/torch/hub/gmberton_cosplace_main\n"
     ]
    },
    {
     "name": "stdout",
     "output_type": "stream",
     "text": [
      "Returning CosPlace model with backbone: ResNet50 with features dimension 512\n"
     ]
    },
    {
     "data": {
      "text/plain": "array([[1.        ],\n       [0.99999994],\n       [1.        ],\n       [1.        ],\n       [0.99999994],\n       [0.99999994],\n       [0.99999994],\n       [1.        ],\n       [1.        ],\n       [0.99999994],\n       [1.        ],\n       [1.        ],\n       [0.99999994]], dtype=float32)"
     },
     "execution_count": 2,
     "metadata": {},
     "output_type": "execute_result"
    }
   ],
   "source": [
    "res = loc_sim(\n",
    "    load_image('./ds/query.png'),\n",
    "    [load_image(f'./ds/db/streetview_res{i}.png') for i in range(13)]\n",
    ")\n",
    "res"
   ],
   "metadata": {
    "collapsed": false,
    "ExecuteTime": {
     "end_time": "2024-01-13T08:17:12.232774Z",
     "start_time": "2024-01-13T08:17:04.138266Z"
    }
   },
   "id": "2d6da11628d43e8a"
  },
  {
   "cell_type": "code",
   "execution_count": 4,
   "outputs": [
    {
     "data": {
      "text/plain": "array([[1.]], dtype=float32)"
     },
     "execution_count": 4,
     "metadata": {},
     "output_type": "execute_result"
    }
   ],
   "source": [
    "weight_im(load_image('./ds/query.png'))"
   ],
   "metadata": {
    "collapsed": false,
    "ExecuteTime": {
     "end_time": "2024-01-13T08:19:16.490137Z",
     "start_time": "2024-01-13T08:19:15.826366Z"
    }
   },
   "id": "199459a539a9cd7a"
  },
  {
   "cell_type": "code",
   "execution_count": null,
   "outputs": [],
   "source": [],
   "metadata": {
    "collapsed": false
   },
   "id": "67558f7e6c8237b3"
  }
 ],
 "metadata": {
  "kernelspec": {
   "display_name": "Python 3",
   "language": "python",
   "name": "python3"
  },
  "language_info": {
   "codemirror_mode": {
    "name": "ipython",
    "version": 2
   },
   "file_extension": ".py",
   "mimetype": "text/x-python",
   "name": "python",
   "nbconvert_exporter": "python",
   "pygments_lexer": "ipython2",
   "version": "2.7.6"
  }
 },
 "nbformat": 4,
 "nbformat_minor": 5
}
