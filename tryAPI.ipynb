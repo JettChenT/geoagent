{
 "cells": [
  {
   "cell_type": "code",
   "execution_count": 1,
   "id": "7a7bb838-f9b4-46c7-b401-99062a50c2be",
   "metadata": {
    "ExecuteTime": {
     "end_time": "2023-10-19T16:08:35.534645Z",
     "start_time": "2023-10-19T16:08:35.492479Z"
    }
   },
   "outputs": [],
   "source": [
    "import requests"
   ]
  },
  {
   "cell_type": "code",
   "execution_count": 2,
   "id": "67b9b87a-367f-4a31-b299-d04c33b1ba19",
   "metadata": {
    "ExecuteTime": {
     "end_time": "2023-10-19T16:08:35.540249Z",
     "start_time": "2023-10-19T16:08:35.533580Z"
    }
   },
   "outputs": [],
   "source": [
    "PROMPT = \"\"\"\n",
    "what texts are in this image?\n",
    "\"\"\""
   ]
  },
  {
   "cell_type": "code",
   "execution_count": 3,
   "id": "cef81856-4c6c-4053-a1b8-b03adbd85450",
   "metadata": {
    "ExecuteTime": {
     "end_time": "2023-10-19T16:08:56.225680Z",
     "start_time": "2023-10-19T16:08:35.536513Z"
    }
   },
   "outputs": [
    {
     "data": {
      "text/plain": "<Response [200]>"
     },
     "execution_count": 3,
     "metadata": {},
     "output_type": "execute_result"
    }
   ],
   "source": [
    "ENDPOINT = \"http://localhost:8080/llava\"\n",
    "r = requests.post(ENDPOINT, data={\n",
    "    \"user_prompt\": PROMPT,\n",
    "}, files = {'image_file': open('./images/NY.png', 'rb')})\n",
    "r"
   ]
  },
  {
   "cell_type": "code",
   "execution_count": 33,
   "id": "5efd2e41-460c-4584-ac90-2da8759e18f4",
   "metadata": {},
   "outputs": [
    {
     "data": {
      "text/plain": [
       "{'error': False,\n",
       " 'content': ' In this image, there are multiple street signs, including a \"Do Not Enter\" sign next to a building and a \"No Parking\" sign. The street is located near a busy area with many parked cars, people walking, and some buses passing by.'}"
      ]
     },
     "execution_count": 33,
     "metadata": {},
     "output_type": "execute_result"
    }
   ],
   "source": [
    "r.json()"
   ]
  },
  {
   "cell_type": "code",
   "execution_count": 34,
   "id": "c41c7a0f-c624-4f91-8ee5-b84630391725",
   "metadata": {},
   "outputs": [
    {
     "name": "stdout",
     "output_type": "stream",
     "text": [
      " In this image, there are multiple street signs, including a \"Do Not Enter\" sign next to a building and a \"No Parking\" sign. The street is located near a busy area with many parked cars, people walking, and some buses passing by.\n"
     ]
    }
   ],
   "source": [
    "print(r.json()['content'])"
   ]
  },
  {
   "cell_type": "code",
   "execution_count": 35,
   "id": "5f7d41e2-1118-4632-b50d-908fb9c47fd3",
   "metadata": {},
   "outputs": [
    {
     "name": "stdout",
     "output_type": "stream",
     "text": [
      "Loaded as API: https://adept-fuyu-8b-demo.hf.space/--replicas/k8vtp/ ✔\n"
     ]
    },
    {
     "ename": "ValueError",
     "evalue": "None",
     "output_type": "error",
     "traceback": [
      "\u001B[0;31m---------------------------------------------------------------------------\u001B[0m",
      "\u001B[0;31mValueError\u001B[0m                                Traceback (most recent call last)",
      "Cell \u001B[0;32mIn[35], line 4\u001B[0m\n\u001B[1;32m      1\u001B[0m \u001B[38;5;28;01mfrom\u001B[39;00m \u001B[38;5;21;01mgradio_client\u001B[39;00m \u001B[38;5;28;01mimport\u001B[39;00m Client\n\u001B[1;32m      3\u001B[0m client \u001B[38;5;241m=\u001B[39m Client(\u001B[38;5;124m\"\u001B[39m\u001B[38;5;124mhttps://adept-fuyu-8b-demo.hf.space/--replicas/k8vtp/\u001B[39m\u001B[38;5;124m\"\u001B[39m)\n\u001B[0;32m----> 4\u001B[0m result \u001B[38;5;241m=\u001B[39m \u001B[43mclient\u001B[49m\u001B[38;5;241;43m.\u001B[39;49m\u001B[43mpredict\u001B[49m\u001B[43m(\u001B[49m\n\u001B[1;32m      5\u001B[0m \u001B[43m\t\t\u001B[49m\u001B[38;5;124;43m\"\u001B[39;49m\u001B[38;5;124;43mhttps://raw.githubusercontent.com/gradio-app/gradio/main/test/test_files/bus.png\u001B[39;49m\u001B[38;5;124;43m\"\u001B[39;49m\u001B[43m,\u001B[49m\u001B[43m\t\u001B[49m\u001B[38;5;66;43;03m# str (filepath on your computer (or URL) of image) in 'Upload your Image' Image component\u001B[39;49;00m\n\u001B[1;32m      6\u001B[0m \u001B[43m\t\t\u001B[49m\u001B[38;5;124;43m\"\u001B[39;49m\u001B[38;5;124;43mwhat does this image contain\u001B[39;49m\u001B[38;5;124;43m\"\u001B[39;49m\u001B[43m,\u001B[49m\u001B[43m\t\u001B[49m\u001B[38;5;66;43;03m# str  in 'Ask a Question' Textbox component\u001B[39;49;00m\n\u001B[1;32m      7\u001B[0m \u001B[43m\t\t\u001B[49m\u001B[43mfn_index\u001B[49m\u001B[38;5;241;43m=\u001B[39;49m\u001B[38;5;241;43m3\u001B[39;49m\n\u001B[1;32m      8\u001B[0m \u001B[43m)\u001B[49m\n\u001B[1;32m      9\u001B[0m \u001B[38;5;28mprint\u001B[39m(result)\n",
      "File \u001B[0;32m/opt/homebrew/Caskroom/miniforge/base/envs/ml/lib/python3.10/site-packages/gradio_client/client.py:292\u001B[0m, in \u001B[0;36mClient.predict\u001B[0;34m(self, api_name, fn_index, *args)\u001B[0m\n\u001B[1;32m    288\u001B[0m \u001B[38;5;28;01mif\u001B[39;00m \u001B[38;5;28mself\u001B[39m\u001B[38;5;241m.\u001B[39mendpoints[inferred_fn_index]\u001B[38;5;241m.\u001B[39mis_continuous:\n\u001B[1;32m    289\u001B[0m     \u001B[38;5;28;01mraise\u001B[39;00m \u001B[38;5;167;01mValueError\u001B[39;00m(\n\u001B[1;32m    290\u001B[0m         \u001B[38;5;124m\"\u001B[39m\u001B[38;5;124mCannot call predict on this function as it may run forever. Use submit instead.\u001B[39m\u001B[38;5;124m\"\u001B[39m\n\u001B[1;32m    291\u001B[0m     )\n\u001B[0;32m--> 292\u001B[0m \u001B[38;5;28;01mreturn\u001B[39;00m \u001B[38;5;28;43mself\u001B[39;49m\u001B[38;5;241;43m.\u001B[39;49m\u001B[43msubmit\u001B[49m\u001B[43m(\u001B[49m\u001B[38;5;241;43m*\u001B[39;49m\u001B[43margs\u001B[49m\u001B[43m,\u001B[49m\u001B[43m \u001B[49m\u001B[43mapi_name\u001B[49m\u001B[38;5;241;43m=\u001B[39;49m\u001B[43mapi_name\u001B[49m\u001B[43m,\u001B[49m\u001B[43m \u001B[49m\u001B[43mfn_index\u001B[49m\u001B[38;5;241;43m=\u001B[39;49m\u001B[43mfn_index\u001B[49m\u001B[43m)\u001B[49m\u001B[38;5;241;43m.\u001B[39;49m\u001B[43mresult\u001B[49m\u001B[43m(\u001B[49m\u001B[43m)\u001B[49m\n",
      "File \u001B[0;32m/opt/homebrew/Caskroom/miniforge/base/envs/ml/lib/python3.10/site-packages/gradio_client/client.py:1131\u001B[0m, in \u001B[0;36mJob.result\u001B[0;34m(self, timeout)\u001B[0m\n\u001B[1;32m   1116\u001B[0m \u001B[38;5;28;01mdef\u001B[39;00m \u001B[38;5;21mresult\u001B[39m(\u001B[38;5;28mself\u001B[39m, timeout: \u001B[38;5;28mfloat\u001B[39m \u001B[38;5;241m|\u001B[39m \u001B[38;5;28;01mNone\u001B[39;00m \u001B[38;5;241m=\u001B[39m \u001B[38;5;28;01mNone\u001B[39;00m) \u001B[38;5;241m-\u001B[39m\u001B[38;5;241m>\u001B[39m Any:\n\u001B[1;32m   1117\u001B[0m \u001B[38;5;250m    \u001B[39m\u001B[38;5;124;03m\"\"\"\u001B[39;00m\n\u001B[1;32m   1118\u001B[0m \u001B[38;5;124;03m    Return the result of the call that the future represents. Raises CancelledError: If the future was cancelled, TimeoutError: If the future didn't finish executing before the given timeout, and Exception: If the call raised then that exception will be raised.\u001B[39;00m\n\u001B[1;32m   1119\u001B[0m \n\u001B[0;32m   (...)\u001B[0m\n\u001B[1;32m   1129\u001B[0m \u001B[38;5;124;03m        >> 9\u001B[39;00m\n\u001B[1;32m   1130\u001B[0m \u001B[38;5;124;03m    \"\"\"\u001B[39;00m\n\u001B[0;32m-> 1131\u001B[0m     \u001B[38;5;28;01mreturn\u001B[39;00m \u001B[38;5;28;43msuper\u001B[39;49m\u001B[43m(\u001B[49m\u001B[43m)\u001B[49m\u001B[38;5;241;43m.\u001B[39;49m\u001B[43mresult\u001B[49m\u001B[43m(\u001B[49m\u001B[43mtimeout\u001B[49m\u001B[38;5;241;43m=\u001B[39;49m\u001B[43mtimeout\u001B[49m\u001B[43m)\u001B[49m\n",
      "File \u001B[0;32m/opt/homebrew/Caskroom/miniforge/base/envs/ml/lib/python3.10/concurrent/futures/_base.py:458\u001B[0m, in \u001B[0;36mFuture.result\u001B[0;34m(self, timeout)\u001B[0m\n\u001B[1;32m    456\u001B[0m     \u001B[38;5;28;01mraise\u001B[39;00m CancelledError()\n\u001B[1;32m    457\u001B[0m \u001B[38;5;28;01melif\u001B[39;00m \u001B[38;5;28mself\u001B[39m\u001B[38;5;241m.\u001B[39m_state \u001B[38;5;241m==\u001B[39m FINISHED:\n\u001B[0;32m--> 458\u001B[0m     \u001B[38;5;28;01mreturn\u001B[39;00m \u001B[38;5;28;43mself\u001B[39;49m\u001B[38;5;241;43m.\u001B[39;49m\u001B[43m__get_result\u001B[49m\u001B[43m(\u001B[49m\u001B[43m)\u001B[49m\n\u001B[1;32m    459\u001B[0m \u001B[38;5;28;01melse\u001B[39;00m:\n\u001B[1;32m    460\u001B[0m     \u001B[38;5;28;01mraise\u001B[39;00m \u001B[38;5;167;01mTimeoutError\u001B[39;00m()\n",
      "File \u001B[0;32m/opt/homebrew/Caskroom/miniforge/base/envs/ml/lib/python3.10/concurrent/futures/_base.py:403\u001B[0m, in \u001B[0;36mFuture.__get_result\u001B[0;34m(self)\u001B[0m\n\u001B[1;32m    401\u001B[0m \u001B[38;5;28;01mif\u001B[39;00m \u001B[38;5;28mself\u001B[39m\u001B[38;5;241m.\u001B[39m_exception:\n\u001B[1;32m    402\u001B[0m     \u001B[38;5;28;01mtry\u001B[39;00m:\n\u001B[0;32m--> 403\u001B[0m         \u001B[38;5;28;01mraise\u001B[39;00m \u001B[38;5;28mself\u001B[39m\u001B[38;5;241m.\u001B[39m_exception\n\u001B[1;32m    404\u001B[0m     \u001B[38;5;28;01mfinally\u001B[39;00m:\n\u001B[1;32m    405\u001B[0m         \u001B[38;5;66;03m# Break a reference cycle with the exception in self._exception\u001B[39;00m\n\u001B[1;32m    406\u001B[0m         \u001B[38;5;28mself\u001B[39m \u001B[38;5;241m=\u001B[39m \u001B[38;5;28;01mNone\u001B[39;00m\n",
      "File \u001B[0;32m/opt/homebrew/Caskroom/miniforge/base/envs/ml/lib/python3.10/concurrent/futures/thread.py:58\u001B[0m, in \u001B[0;36m_WorkItem.run\u001B[0;34m(self)\u001B[0m\n\u001B[1;32m     55\u001B[0m     \u001B[38;5;28;01mreturn\u001B[39;00m\n\u001B[1;32m     57\u001B[0m \u001B[38;5;28;01mtry\u001B[39;00m:\n\u001B[0;32m---> 58\u001B[0m     result \u001B[38;5;241m=\u001B[39m \u001B[38;5;28;43mself\u001B[39;49m\u001B[38;5;241;43m.\u001B[39;49m\u001B[43mfn\u001B[49m\u001B[43m(\u001B[49m\u001B[38;5;241;43m*\u001B[39;49m\u001B[38;5;28;43mself\u001B[39;49m\u001B[38;5;241;43m.\u001B[39;49m\u001B[43margs\u001B[49m\u001B[43m,\u001B[49m\u001B[43m \u001B[49m\u001B[38;5;241;43m*\u001B[39;49m\u001B[38;5;241;43m*\u001B[39;49m\u001B[38;5;28;43mself\u001B[39;49m\u001B[38;5;241;43m.\u001B[39;49m\u001B[43mkwargs\u001B[49m\u001B[43m)\u001B[49m\n\u001B[1;32m     59\u001B[0m \u001B[38;5;28;01mexcept\u001B[39;00m \u001B[38;5;167;01mBaseException\u001B[39;00m \u001B[38;5;28;01mas\u001B[39;00m exc:\n\u001B[1;32m     60\u001B[0m     \u001B[38;5;28mself\u001B[39m\u001B[38;5;241m.\u001B[39mfuture\u001B[38;5;241m.\u001B[39mset_exception(exc)\n",
      "File \u001B[0;32m/opt/homebrew/Caskroom/miniforge/base/envs/ml/lib/python3.10/site-packages/gradio_client/client.py:798\u001B[0m, in \u001B[0;36mEndpoint.make_end_to_end_fn.<locals>._inner\u001B[0;34m(*data)\u001B[0m\n\u001B[1;32m    796\u001B[0m \u001B[38;5;28;01mif\u001B[39;00m \u001B[38;5;28mself\u001B[39m\u001B[38;5;241m.\u001B[39mclient\u001B[38;5;241m.\u001B[39mserialize:\n\u001B[1;32m    797\u001B[0m     data \u001B[38;5;241m=\u001B[39m \u001B[38;5;28mself\u001B[39m\u001B[38;5;241m.\u001B[39mserialize(\u001B[38;5;241m*\u001B[39mdata)\n\u001B[0;32m--> 798\u001B[0m predictions \u001B[38;5;241m=\u001B[39m \u001B[43m_predict\u001B[49m\u001B[43m(\u001B[49m\u001B[38;5;241;43m*\u001B[39;49m\u001B[43mdata\u001B[49m\u001B[43m)\u001B[49m\n\u001B[1;32m    799\u001B[0m predictions \u001B[38;5;241m=\u001B[39m \u001B[38;5;28mself\u001B[39m\u001B[38;5;241m.\u001B[39mprocess_predictions(\u001B[38;5;241m*\u001B[39mpredictions)\n\u001B[1;32m    800\u001B[0m \u001B[38;5;66;03m# Append final output only if not already present\u001B[39;00m\n\u001B[1;32m    801\u001B[0m \u001B[38;5;66;03m# for consistency between generators and not generators\u001B[39;00m\n",
      "File \u001B[0;32m/opt/homebrew/Caskroom/miniforge/base/envs/ml/lib/python3.10/site-packages/gradio_client/client.py:829\u001B[0m, in \u001B[0;36mEndpoint.make_predict.<locals>._predict\u001B[0;34m(*data)\u001B[0m\n\u001B[1;32m    827\u001B[0m     result \u001B[38;5;241m=\u001B[39m utils\u001B[38;5;241m.\u001B[39msynchronize_async(\u001B[38;5;28mself\u001B[39m\u001B[38;5;241m.\u001B[39m_ws_fn, data, hash_data, helper)\n\u001B[1;32m    828\u001B[0m     \u001B[38;5;28;01mif\u001B[39;00m \u001B[38;5;124m\"\u001B[39m\u001B[38;5;124merror\u001B[39m\u001B[38;5;124m\"\u001B[39m \u001B[38;5;129;01min\u001B[39;00m result:\n\u001B[0;32m--> 829\u001B[0m         \u001B[38;5;28;01mraise\u001B[39;00m \u001B[38;5;167;01mValueError\u001B[39;00m(result[\u001B[38;5;124m\"\u001B[39m\u001B[38;5;124merror\u001B[39m\u001B[38;5;124m\"\u001B[39m])\n\u001B[1;32m    830\u001B[0m \u001B[38;5;28;01melse\u001B[39;00m:\n\u001B[1;32m    831\u001B[0m     response \u001B[38;5;241m=\u001B[39m requests\u001B[38;5;241m.\u001B[39mpost(\n\u001B[1;32m    832\u001B[0m         \u001B[38;5;28mself\u001B[39m\u001B[38;5;241m.\u001B[39mclient\u001B[38;5;241m.\u001B[39mapi_url, headers\u001B[38;5;241m=\u001B[39m\u001B[38;5;28mself\u001B[39m\u001B[38;5;241m.\u001B[39mclient\u001B[38;5;241m.\u001B[39mheaders, data\u001B[38;5;241m=\u001B[39mdata\n\u001B[1;32m    833\u001B[0m     )\n",
      "\u001B[0;31mValueError\u001B[0m: None"
     ]
    }
   ],
   "source": [
    "from gradio_client import Client\n",
    "\n",
    "client = Client(\"https://adept-fuyu-8b-demo.hf.space/--replicas/k8vtp/\")\n",
    "result = client.predict(\n",
    "\t\t\"https://raw.githubusercontent.com/gradio-app/gradio/main/test/test_files/bus.png\",\t# str (filepath on your computer (or URL) of image) in 'Upload your Image' Image component\n",
    "\t\t\"what does this image contain\",\t# str  in 'Ask a Question' Textbox component\n",
    "\t\tfn_index=3\n",
    ")\n",
    "print(result)"
   ]
  },
  {
   "cell_type": "code",
   "execution_count": null,
   "id": "1accdbdc-5057-4f2a-9e82-779a30702ecc",
   "metadata": {},
   "outputs": [],
   "source": []
  }
 ],
 "metadata": {
  "kernelspec": {
   "display_name": "Python 3 (ipykernel)",
   "language": "python",
   "name": "python3"
  },
  "language_info": {
   "codemirror_mode": {
    "name": "ipython",
    "version": 3
   },
   "file_extension": ".py",
   "mimetype": "text/x-python",
   "name": "python",
   "nbconvert_exporter": "python",
   "pygments_lexer": "ipython3",
   "version": "3.10.12"
  }
 },
 "nbformat": 4,
 "nbformat_minor": 5
}
